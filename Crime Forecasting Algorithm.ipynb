{
 "cells": [
  {
   "cell_type": "raw",
   "id": "8b55db84",
   "metadata": {},
   "source": [
    "# Import data"
   ]
  },
  {
   "cell_type": "code",
   "execution_count": 16,
   "id": "1860a8f6",
   "metadata": {},
   "outputs": [
    {
     "data": {
      "text/html": [
       "<div>\n",
       "<style scoped>\n",
       "    .dataframe tbody tr th:only-of-type {\n",
       "        vertical-align: middle;\n",
       "    }\n",
       "\n",
       "    .dataframe tbody tr th {\n",
       "        vertical-align: top;\n",
       "    }\n",
       "\n",
       "    .dataframe thead th {\n",
       "        text-align: right;\n",
       "    }\n",
       "</style>\n",
       "<table border=\"1\" class=\"dataframe\">\n",
       "  <thead>\n",
       "    <tr style=\"text-align: right;\">\n",
       "      <th></th>\n",
       "      <th>SepalLengthCm</th>\n",
       "      <th>SepalWidthCm</th>\n",
       "    </tr>\n",
       "  </thead>\n",
       "  <tbody>\n",
       "    <tr>\n",
       "      <th>0</th>\n",
       "      <td>5.1</td>\n",
       "      <td>3.5</td>\n",
       "    </tr>\n",
       "    <tr>\n",
       "      <th>1</th>\n",
       "      <td>4.9</td>\n",
       "      <td>3.0</td>\n",
       "    </tr>\n",
       "    <tr>\n",
       "      <th>2</th>\n",
       "      <td>4.7</td>\n",
       "      <td>3.2</td>\n",
       "    </tr>\n",
       "    <tr>\n",
       "      <th>3</th>\n",
       "      <td>4.6</td>\n",
       "      <td>3.1</td>\n",
       "    </tr>\n",
       "    <tr>\n",
       "      <th>4</th>\n",
       "      <td>5.0</td>\n",
       "      <td>3.6</td>\n",
       "    </tr>\n",
       "    <tr>\n",
       "      <th>...</th>\n",
       "      <td>...</td>\n",
       "      <td>...</td>\n",
       "    </tr>\n",
       "    <tr>\n",
       "      <th>145</th>\n",
       "      <td>6.7</td>\n",
       "      <td>3.0</td>\n",
       "    </tr>\n",
       "    <tr>\n",
       "      <th>146</th>\n",
       "      <td>6.3</td>\n",
       "      <td>2.5</td>\n",
       "    </tr>\n",
       "    <tr>\n",
       "      <th>147</th>\n",
       "      <td>6.5</td>\n",
       "      <td>3.0</td>\n",
       "    </tr>\n",
       "    <tr>\n",
       "      <th>148</th>\n",
       "      <td>6.2</td>\n",
       "      <td>3.4</td>\n",
       "    </tr>\n",
       "    <tr>\n",
       "      <th>149</th>\n",
       "      <td>5.9</td>\n",
       "      <td>3.0</td>\n",
       "    </tr>\n",
       "  </tbody>\n",
       "</table>\n",
       "<p>150 rows × 2 columns</p>\n",
       "</div>"
      ],
      "text/plain": [
       "     SepalLengthCm  SepalWidthCm\n",
       "0              5.1           3.5\n",
       "1              4.9           3.0\n",
       "2              4.7           3.2\n",
       "3              4.6           3.1\n",
       "4              5.0           3.6\n",
       "..             ...           ...\n",
       "145            6.7           3.0\n",
       "146            6.3           2.5\n",
       "147            6.5           3.0\n",
       "148            6.2           3.4\n",
       "149            5.9           3.0\n",
       "\n",
       "[150 rows x 2 columns]"
      ]
     },
     "execution_count": 16,
     "metadata": {},
     "output_type": "execute_result"
    }
   ],
   "source": [
    "import pandas as pd\n",
    "iris = pd.read_csv('Iris.csv')\n",
    "iris = iris.drop(columns=['Id', 'PetalLengthCm', 'PetalWidthCm', 'Species'])\n",
    "iris"
   ]
  },
  {
   "cell_type": "raw",
   "id": "d90162ab",
   "metadata": {},
   "source": [
    "# Plot data"
   ]
  },
  {
   "cell_type": "code",
   "execution_count": 17,
   "id": "58231b9c",
   "metadata": {},
   "outputs": [
    {
     "data": {
      "image/png": "[encoded data removed]",
      "text/plain": [
       "<Figure size 432x288 with 1 Axes>"
      ]
     },
     "metadata": {
      "needs_background": "light"
     },
     "output_type": "display_data"
    }
   ],
   "source": [
    "import matplotlib.pyplot as plt\n",
    "plt.scatter(iris.SepalLengthCm, iris.SepalWidthCm)\n",
    "plt.show()\n"
   ]
  },
  {
   "cell_type": "raw",
   "id": "b0e8f1a4",
   "metadata": {},
   "source": [
    "# Convert a list to a numpy array"
   ]
  },
  {
   "cell_type": "code",
   "execution_count": 18,
   "id": "ff62e967",
   "metadata": {},
   "outputs": [],
   "source": [
    "import numpy as np\n",
    "def dataset_to_numpy(dataset):\n",
    "    data = dataset.to_numpy()\n",
    "    return data"
   ]
  },
  {
   "cell_type": "code",
   "execution_count": 19,
   "id": "291a560b",
   "metadata": {
    "scrolled": false
   },
   "outputs": [
    {
     "data": {
      "text/plain": [
       "array([[5.1, 3.5],\n",
       "       [4.9, 3. ],\n",
       "       [4.7, 3.2],\n",
       "       [4.6, 3.1],\n",
       "       [5. , 3.6],\n",
       "       [5.4, 3.9],\n",
       "       [4.6, 3.4],\n",
       "       [5. , 3.4],\n",
       "       [4.4, 2.9],\n",
       "       [4.9, 3.1],\n",
       "       [5.4, 3.7],\n",
       "       [4.8, 3.4],\n",
       "       [4.8, 3. ],\n",
       "       [4.3, 3. ],\n",
       "       [5.8, 4. ],\n",
       "       [5.7, 4.4],\n",
       "       [5.4, 3.9],\n",
       "       [5.1, 3.5],\n",
       "       [5.7, 3.8],\n",
       "       [5.1, 3.8],\n",
       "       [5.4, 3.4],\n",
       "       [5.1, 3.7],\n",
       "       [4.6, 3.6],\n",
       "       [5.1, 3.3],\n",
       "       [4.8, 3.4],\n",
       "       [5. , 3. ],\n",
       "       [5. , 3.4],\n",
       "       [5.2, 3.5],\n",
       "       [5.2, 3.4],\n",
       "       [4.7, 3.2],\n",
       "       [4.8, 3.1],\n",
       "       [5.4, 3.4],\n",
       "       [5.2, 4.1],\n",
       "       [5.5, 4.2],\n",
       "       [4.9, 3.1],\n",
       "       [5. , 3.2],\n",
       "       [5.5, 3.5],\n",
       "       [4.9, 3.1],\n",
       "       [4.4, 3. ],\n",
       "       [5.1, 3.4],\n",
       "       [5. , 3.5],\n",
       "       [4.5, 2.3],\n",
       "       [4.4, 3.2],\n",
       "       [5. , 3.5],\n",
       "       [5.1, 3.8],\n",
       "       [4.8, 3. ],\n",
       "       [5.1, 3.8],\n",
       "       [4.6, 3.2],\n",
       "       [5.3, 3.7],\n",
       "       [5. , 3.3],\n",
       "       [7. , 3.2],\n",
       "       [6.4, 3.2],\n",
       "       [6.9, 3.1],\n",
       "       [5.5, 2.3],\n",
       "       [6.5, 2.8],\n",
       "       [5.7, 2.8],\n",
       "       [6.3, 3.3],\n",
       "       [4.9, 2.4],\n",
       "       [6.6, 2.9],\n",
       "       [5.2, 2.7],\n",
       "       [5. , 2. ],\n",
       "       [5.9, 3. ],\n",
       "       [6. , 2.2],\n",
       "       [6.1, 2.9],\n",
       "       [5.6, 2.9],\n",
       "       [6.7, 3.1],\n",
       "       [5.6, 3. ],\n",
       "       [5.8, 2.7],\n",
       "       [6.2, 2.2],\n",
       "       [5.6, 2.5],\n",
       "       [5.9, 3.2],\n",
       "       [6.1, 2.8],\n",
       "       [6.3, 2.5],\n",
       "       [6.1, 2.8],\n",
       "       [6.4, 2.9],\n",
       "       [6.6, 3. ],\n",
       "       [6.8, 2.8],\n",
       "       [6.7, 3. ],\n",
       "       [6. , 2.9],\n",
       "       [5.7, 2.6],\n",
       "       [5.5, 2.4],\n",
       "       [5.5, 2.4],\n",
       "       [5.8, 2.7],\n",
       "       [6. , 2.7],\n",
       "       [5.4, 3. ],\n",
       "       [6. , 3.4],\n",
       "       [6.7, 3.1],\n",
       "       [6.3, 2.3],\n",
       "       [5.6, 3. ],\n",
       "       [5.5, 2.5],\n",
       "       [5.5, 2.6],\n",
       "       [6.1, 3. ],\n",
       "       [5.8, 2.6],\n",
       "       [5. , 2.3],\n",
       "       [5.6, 2.7],\n",
       "       [5.7, 3. ],\n",
       "       [5.7, 2.9],\n",
       "       [6.2, 2.9],\n",
       "       [5.1, 2.5],\n",
       "       [5.7, 2.8],\n",
       "       [6.3, 3.3],\n",
       "       [5.8, 2.7],\n",
       "       [7.1, 3. ],\n",
       "       [6.3, 2.9],\n",
       "       [6.5, 3. ],\n",
       "       [7.6, 3. ],\n",
       "       [4.9, 2.5],\n",
       "       [7.3, 2.9],\n",
       "       [6.7, 2.5],\n",
       "       [7.2, 3.6],\n",
       "       [6.5, 3.2],\n",
       "       [6.4, 2.7],\n",
       "       [6.8, 3. ],\n",
       "       [5.7, 2.5],\n",
       "       [5.8, 2.8],\n",
       "       [6.4, 3.2],\n",
       "       [6.5, 3. ],\n",
       "       [7.7, 3.8],\n",
       "       [7.7, 2.6],\n",
       "       [6. , 2.2],\n",
       "       [6.9, 3.2],\n",
       "       [5.6, 2.8],\n",
       "       [7.7, 2.8],\n",
       "       [6.3, 2.7],\n",
       "       [6.7, 3.3],\n",
       "       [7.2, 3.2],\n",
       "       [6.2, 2.8],\n",
       "       [6.1, 3. ],\n",
       "       [6.4, 2.8],\n",
       "       [7.2, 3. ],\n",
       "       [7.4, 2.8],\n",
       "       [7.9, 3.8],\n",
       "       [6.4, 2.8],\n",
       "       [6.3, 2.8],\n",
       "       [6.1, 2.6],\n",
       "       [7.7, 3. ],\n",
       "       [6.3, 3.4],\n",
       "       [6.4, 3.1],\n",
       "       [6. , 3. ],\n",
       "       [6.9, 3.1],\n",
       "       [6.7, 3.1],\n",
       "       [6.9, 3.1],\n",
       "       [5.8, 2.7],\n",
       "       [6.8, 3.2],\n",
       "       [6.7, 3.3],\n",
       "       [6.7, 3. ],\n",
       "       [6.3, 2.5],\n",
       "       [6.5, 3. ],\n",
       "       [6.2, 3.4],\n",
       "       [5.9, 3. ]])"
      ]
     },
     "execution_count": 19,
     "metadata": {},
     "output_type": "execute_result"
    }
   ],
   "source": [
    "#TEST\n",
    "df = dataset_to_numpy(iris)\n",
    "df"
   ]
  },
  {
   "cell_type": "raw",
   "id": "e306c90a",
   "metadata": {},
   "source": [
    "# Return an array with the corresponding cluster that each datapoint belongs to by calculating the Euclidean distance between each respective datapoint and centroid(s) given and choosing the centroid with the smallest distance"
   ]
  },
  {
   "cell_type": "code",
   "execution_count": 20,
   "id": "3f8c46e1",
   "metadata": {},
   "outputs": [],
   "source": [
    "def get_clusters(dataset, centroids):\n",
    "    dataset = dataset_to_numpy(dataset)\n",
    "    distances = []\n",
    "    clusters = []\n",
    "    for datapoint in dataset:\n",
    "        for centroid in centroids:\n",
    "            distances.append(np.linalg.norm(datapoint-centroid))\n",
    "        clusters.append(centroids.index(centroids[distances.index(min(distances))]))\n",
    "        distances.clear()\n",
    "    return clusters  "
   ]
  },
  {
   "cell_type": "code",
   "execution_count": 21,
   "id": "17e78f2a",
   "metadata": {},
   "outputs": [
    {
     "name": "stdout",
     "output_type": "stream",
     "text": [
      "[2, 3, 3, 3, 2, 2, 3, 3, 3, 3, 1, 3, 3, 3, 1, 2, 2, 2, 1, 2, 1, 2, 2, 1, 3, 3, 3, 1, 1, 3, 3, 1, 2, 2, 3, 3, 1, 3, 3, 1, 2, 3, 3, 2, 2, 3, 2, 3, 2, 3, 0, 0, 0, 0, 0, 0, 0, 3, 0, 3, 3, 0, 0, 0, 1, 0, 1, 0, 0, 0, 1, 0, 0, 0, 0, 0, 0, 0, 0, 0, 0, 0, 0, 0, 1, 1, 0, 0, 1, 0, 1, 0, 0, 3, 0, 1, 1, 0, 3, 0, 0, 0, 0, 0, 0, 0, 3, 0, 0, 0, 0, 0, 0, 0, 0, 0, 0, 0, 0, 0, 0, 1, 0, 0, 0, 0, 0, 0, 0, 0, 0, 0, 0, 0, 0, 0, 0, 0, 0, 0, 0, 0, 0, 0, 0, 0, 0, 0, 0, 0]\n"
     ]
    }
   ],
   "source": [
    "#TEST\n",
    "clusters = get_clusters(iris, initial_centroids(iris, 4))\n",
    "print(clusters)"
   ]
  },
  {
   "cell_type": "raw",
   "id": "674064cd",
   "metadata": {},
   "source": [
    "# Return an array of k randomly generated points to serve as centroids"
   ]
  },
  {
   "cell_type": "code",
   "execution_count": 22,
   "id": "fd8b7496",
   "metadata": {},
   "outputs": [],
   "source": [
    "def initial_centroids(dataset, k):\n",
    "    dataset = dataset_to_numpy(dataset)\n",
    "    centroids = dataset[np.random.choice(dataset.shape[0], k, replace=False)]\n",
    "    centroids = centroids.tolist()\n",
    "    return centroids     "
   ]
  },
  {
   "cell_type": "code",
   "execution_count": 23,
   "id": "0b9d80e5",
   "metadata": {},
   "outputs": [
    {
     "data": {
      "text/plain": [
       "[[5.8, 2.7], [6.2, 2.2], [5.4, 3.4], [6.1, 2.8]]"
      ]
     },
     "execution_count": 23,
     "metadata": {},
     "output_type": "execute_result"
    }
   ],
   "source": [
    "#TEST\n",
    "centroids = initial_centroids(iris, 4)\n",
    "centroids"
   ]
  },
  {
   "cell_type": "raw",
   "id": "d10ff4b0",
   "metadata": {},
   "source": [
    "# Return an array of new centroids generated by calculating the average point between the old centroid(s) and \n",
    " corresponding datapoints within said cluster\n"
   ]
  },
  {
   "cell_type": "code",
   "execution_count": 24,
   "id": "06326d32",
   "metadata": {},
   "outputs": [],
   "source": [
    "def get_centroids(dataset, old_clusters, k):\n",
    "    dataset = dataset_to_numpy(dataset).tolist()\n",
    "    new_clusters = {}\n",
    "    new_centroids = []\n",
    "    for i in range(k):\n",
    "        new_clusters[i] = []\n",
    "    for i, cluster in enumerate(old_clusters):\n",
    "        new_clusters[cluster].append(dataset[i])\n",
    "    for i in range(k):\n",
    "        coordinate = []\n",
    "        sum_x = 0\n",
    "        sum_y = 0\n",
    "        for coord in new_clusters.get(i):\n",
    "            sum_x += coord[0]\n",
    "            sum_y += coord[1]\n",
    "        #edge case = len(new_clusters.get(i)) is 0\n",
    "        if(len(new_clusters.get(i))) != 0 :\n",
    "            coordinate.append(sum_x/len(new_clusters.get(i)))\n",
    "            coordinate.append(sum_y/len(new_clusters.get(i)))\n",
    "            new_centroids.append(coordinate)\n",
    "        else:\n",
    "            new_centroids.append([0,0])\n",
    "    return new_centroids"
   ]
  },
  {
   "cell_type": "code",
   "execution_count": 25,
   "id": "2567e16d",
   "metadata": {},
   "outputs": [
    {
     "data": {
      "text/plain": [
       "[[4.569230769230769, 3.1461538461538465],\n",
       " [5.148837209302326, 3.3813953488372093],\n",
       " [6.461904761904763, 2.533333333333333],\n",
       " [6.301369863013695, 2.9945205479452057]]"
      ]
     },
     "execution_count": 25,
     "metadata": {},
     "output_type": "execute_result"
    }
   ],
   "source": [
    "collect = get_centroids(iris, get_clusters(iris,initial_centroids(iris,4)), 4)\n",
    "collect"
   ]
  },
  {
   "cell_type": "raw",
   "id": "6f2d738d",
   "metadata": {},
   "source": [
    "# Compare whether or not the old clusters are the same as the new clusters"
   ]
  },
  {
   "cell_type": "code",
   "execution_count": 26,
   "id": "065d94b9",
   "metadata": {},
   "outputs": [],
   "source": [
    "def clusters_changed(old_clusters, new_clusters):\n",
    "    return old_clusters == new_clusters"
   ]
  },
  {
   "cell_type": "code",
   "execution_count": 27,
   "id": "7cc2ac42",
   "metadata": {},
   "outputs": [
    {
     "data": {
      "text/plain": [
       "False"
      ]
     },
     "execution_count": 27,
     "metadata": {},
     "output_type": "execute_result"
    }
   ],
   "source": [
    "old = get_clusters(iris, initial_centroids(iris,3))\n",
    "new = get_clusters(iris, get_centroids(iris, get_clusters(iris,initial_centroids(iris,4)), 4))\n",
    "clusters_changed(old, new)"
   ]
  },
  {
   "cell_type": "raw",
   "id": "8ac922bc",
   "metadata": {},
   "source": [
    "# Run the k means algorithm by continuosly forming new clusters until there is no change between the old\n",
    "clusters and new clusters"
   ]
  },
  {
   "cell_type": "code",
   "execution_count": 28,
   "id": "748e8471",
   "metadata": {},
   "outputs": [],
   "source": [
    "def k_means_algorithm(dataset, k):\n",
    "    dataset = dataset.iloc[:,[0,1]]\n",
    "    new_centroids = initial_centroids(dataset,k)\n",
    "    no_change = False\n",
    "    while not no_change:\n",
    "        old_centroids = new_centroids\n",
    "        clusters = get_clusters(dataset, old_centroids)\n",
    "        new_centroids = get_centroids(dataset, clusters, k)\n",
    "        no_change = clusters_changed(clusters, get_clusters(dataset, new_centroids))\n",
    "    new_dataset = dataset.copy(deep = True)\n",
    "    new_dataset.insert(2, \"Clusters\", get_clusters(dataset, new_centroids))\n",
    "    return new_dataset"
   ]
  },
  {
   "cell_type": "code",
   "execution_count": 29,
   "id": "31f8e0d2",
   "metadata": {},
   "outputs": [
    {
     "data": {
      "text/html": [
       "<div>\n",
       "<style scoped>\n",
       "    .dataframe tbody tr th:only-of-type {\n",
       "        vertical-align: middle;\n",
       "    }\n",
       "\n",
       "    .dataframe tbody tr th {\n",
       "        vertical-align: top;\n",
       "    }\n",
       "\n",
       "    .dataframe thead th {\n",
       "        text-align: right;\n",
       "    }\n",
       "</style>\n",
       "<table border=\"1\" class=\"dataframe\">\n",
       "  <thead>\n",
       "    <tr style=\"text-align: right;\">\n",
       "      <th></th>\n",
       "      <th>SepalLengthCm</th>\n",
       "      <th>SepalWidthCm</th>\n",
       "      <th>Clusters</th>\n",
       "    </tr>\n",
       "  </thead>\n",
       "  <tbody>\n",
       "    <tr>\n",
       "      <th>0</th>\n",
       "      <td>5.1</td>\n",
       "      <td>3.5</td>\n",
       "      <td>1</td>\n",
       "    </tr>\n",
       "    <tr>\n",
       "      <th>1</th>\n",
       "      <td>4.9</td>\n",
       "      <td>3.0</td>\n",
       "      <td>1</td>\n",
       "    </tr>\n",
       "    <tr>\n",
       "      <th>2</th>\n",
       "      <td>4.7</td>\n",
       "      <td>3.2</td>\n",
       "      <td>1</td>\n",
       "    </tr>\n",
       "    <tr>\n",
       "      <th>3</th>\n",
       "      <td>4.6</td>\n",
       "      <td>3.1</td>\n",
       "      <td>1</td>\n",
       "    </tr>\n",
       "    <tr>\n",
       "      <th>4</th>\n",
       "      <td>5.0</td>\n",
       "      <td>3.6</td>\n",
       "      <td>1</td>\n",
       "    </tr>\n",
       "    <tr>\n",
       "      <th>...</th>\n",
       "      <td>...</td>\n",
       "      <td>...</td>\n",
       "      <td>...</td>\n",
       "    </tr>\n",
       "    <tr>\n",
       "      <th>145</th>\n",
       "      <td>6.7</td>\n",
       "      <td>3.0</td>\n",
       "      <td>0</td>\n",
       "    </tr>\n",
       "    <tr>\n",
       "      <th>146</th>\n",
       "      <td>6.3</td>\n",
       "      <td>2.5</td>\n",
       "      <td>2</td>\n",
       "    </tr>\n",
       "    <tr>\n",
       "      <th>147</th>\n",
       "      <td>6.5</td>\n",
       "      <td>3.0</td>\n",
       "      <td>0</td>\n",
       "    </tr>\n",
       "    <tr>\n",
       "      <th>148</th>\n",
       "      <td>6.2</td>\n",
       "      <td>3.4</td>\n",
       "      <td>0</td>\n",
       "    </tr>\n",
       "    <tr>\n",
       "      <th>149</th>\n",
       "      <td>5.9</td>\n",
       "      <td>3.0</td>\n",
       "      <td>2</td>\n",
       "    </tr>\n",
       "  </tbody>\n",
       "</table>\n",
       "<p>150 rows × 3 columns</p>\n",
       "</div>"
      ],
      "text/plain": [
       "     SepalLengthCm  SepalWidthCm  Clusters\n",
       "0              5.1           3.5         1\n",
       "1              4.9           3.0         1\n",
       "2              4.7           3.2         1\n",
       "3              4.6           3.1         1\n",
       "4              5.0           3.6         1\n",
       "..             ...           ...       ...\n",
       "145            6.7           3.0         0\n",
       "146            6.3           2.5         2\n",
       "147            6.5           3.0         0\n",
       "148            6.2           3.4         0\n",
       "149            5.9           3.0         2\n",
       "\n",
       "[150 rows x 3 columns]"
      ]
     },
     "execution_count": 29,
     "metadata": {},
     "output_type": "execute_result"
    }
   ],
   "source": [
    "k_means_algorithm(iris, 3)"
   ]
  },
  {
   "cell_type": "code",
   "execution_count": 30,
   "id": "4e821de4",
   "metadata": {},
   "outputs": [
    {
     "data": {
      "text/plain": [
       "<matplotlib.collections.PathCollection at 0x20ef09f9e20>"
      ]
     },
     "execution_count": 30,
     "metadata": {},
     "output_type": "execute_result"
    },
    {
     "data": {
      "image/png": "[encoded data removed]",
      "text/plain": [
       "<Figure size 432x288 with 1 Axes>"
      ]
     },
     "metadata": {
      "needs_background": "light"
     },
     "output_type": "display_data"
    }
   ],
   "source": [
    "data = k_means_algorithm(iris,3)\n",
    "c1 = data[data.Clusters==0]\n",
    "c2 = data[data.Clusters==1]\n",
    "c3 = data[data.Clusters==2]\n",
    "plt.scatter(c1.SepalLengthCm, c1.SepalWidthCm, color = \"blue\")\n",
    "plt.scatter(c2.SepalLengthCm, c2.SepalWidthCm, color = \"green\")\n",
    "plt.scatter(c3.SepalLengthCm, c3.SepalWidthCm, color = \"black\")\n",
    "x, y = np.array((get_centroids(iris, data.Clusters, 3))).T\n",
    "plt.scatter(x,y, c = 'red')\n"
   ]
  },
  {
   "cell_type": "raw",
   "id": "b027d654",
   "metadata": {},
   "source": [
    "# Simple application of k-means clustering on crime data by cleaning data of crime in San Francisco to just location of \n",
    "burglaries"
   ]
  },
  {
   "cell_type": "code",
   "execution_count": 31,
   "id": "42bb9a69",
   "metadata": {},
   "outputs": [
    {
     "data": {
      "text/html": [
       "<div>\n",
       "<style scoped>\n",
       "    .dataframe tbody tr th:only-of-type {\n",
       "        vertical-align: middle;\n",
       "    }\n",
       "\n",
       "    .dataframe tbody tr th {\n",
       "        vertical-align: top;\n",
       "    }\n",
       "\n",
       "    .dataframe thead th {\n",
       "        text-align: right;\n",
       "    }\n",
       "</style>\n",
       "<table border=\"1\" class=\"dataframe\">\n",
       "  <thead>\n",
       "    <tr style=\"text-align: right;\">\n",
       "      <th></th>\n",
       "      <th>incident_latitude</th>\n",
       "      <th>incident_longitude</th>\n",
       "      <th>incident_source_original_type</th>\n",
       "    </tr>\n",
       "  </thead>\n",
       "  <tbody>\n",
       "    <tr>\n",
       "      <th>3</th>\n",
       "      <td>37.781160</td>\n",
       "      <td>-122.461063</td>\n",
       "      <td>Burglary - Commercial</td>\n",
       "    </tr>\n",
       "    <tr>\n",
       "      <th>10</th>\n",
       "      <td>37.793050</td>\n",
       "      <td>-122.422871</td>\n",
       "      <td>Burglary - Other</td>\n",
       "    </tr>\n",
       "    <tr>\n",
       "      <th>12</th>\n",
       "      <td>37.793050</td>\n",
       "      <td>-122.422871</td>\n",
       "      <td>Burglary - Other</td>\n",
       "    </tr>\n",
       "    <tr>\n",
       "      <th>22</th>\n",
       "      <td>37.779829</td>\n",
       "      <td>-122.402841</td>\n",
       "      <td>Burglary - Other</td>\n",
       "    </tr>\n",
       "    <tr>\n",
       "      <th>24</th>\n",
       "      <td>37.778946</td>\n",
       "      <td>-122.467354</td>\n",
       "      <td>Burglary - Residential</td>\n",
       "    </tr>\n",
       "    <tr>\n",
       "      <th>...</th>\n",
       "      <td>...</td>\n",
       "      <td>...</td>\n",
       "      <td>...</td>\n",
       "    </tr>\n",
       "    <tr>\n",
       "      <th>2198</th>\n",
       "      <td>37.775950</td>\n",
       "      <td>-122.422788</td>\n",
       "      <td>Burglary - Other</td>\n",
       "    </tr>\n",
       "    <tr>\n",
       "      <th>2217</th>\n",
       "      <td>37.739978</td>\n",
       "      <td>-122.437495</td>\n",
       "      <td>Burglary - Residential</td>\n",
       "    </tr>\n",
       "    <tr>\n",
       "      <th>2218</th>\n",
       "      <td>37.739978</td>\n",
       "      <td>-122.437495</td>\n",
       "      <td>Burglary - Residential</td>\n",
       "    </tr>\n",
       "    <tr>\n",
       "      <th>2231</th>\n",
       "      <td>37.764188</td>\n",
       "      <td>-122.446074</td>\n",
       "      <td>Burglary - Residential</td>\n",
       "    </tr>\n",
       "    <tr>\n",
       "      <th>2320</th>\n",
       "      <td>37.800624</td>\n",
       "      <td>-122.422713</td>\n",
       "      <td>Burglary - Other</td>\n",
       "    </tr>\n",
       "  </tbody>\n",
       "</table>\n",
       "<p>154 rows × 3 columns</p>\n",
       "</div>"
      ],
      "text/plain": [
       "      incident_latitude  incident_longitude incident_source_original_type\n",
       "3             37.781160         -122.461063         Burglary - Commercial\n",
       "10            37.793050         -122.422871              Burglary - Other\n",
       "12            37.793050         -122.422871              Burglary - Other\n",
       "22            37.779829         -122.402841              Burglary - Other\n",
       "24            37.778946         -122.467354        Burglary - Residential\n",
       "...                 ...                 ...                           ...\n",
       "2198          37.775950         -122.422788              Burglary - Other\n",
       "2217          37.739978         -122.437495        Burglary - Residential\n",
       "2218          37.739978         -122.437495        Burglary - Residential\n",
       "2231          37.764188         -122.446074        Burglary - Residential\n",
       "2320          37.800624         -122.422713              Burglary - Other\n",
       "\n",
       "[154 rows x 3 columns]"
      ]
     },
     "execution_count": 31,
     "metadata": {},
     "output_type": "execute_result"
    }
   ],
   "source": [
    "crime_map = pd.read_csv('Crime Map.csv')\n",
    "crime_map = crime_map.drop(columns=['city_key', 'incident_code', 'incident_date', 'incident_address', 'incident_offense_code', 'incident_offense', 'incident_offense_description', 'incident_offense_detail_description', 'incident_offense_action'])\n",
    "burglaries = crime_map[crime_map['incident_source_original_type'].str.contains('Burglary')]\n",
    "locations = burglaries.drop(columns=['city_name','incident_offense_crime_against'])\n",
    "locations\n"
   ]
  },
  {
   "cell_type": "raw",
   "id": "a4b0cc2f",
   "metadata": {},
   "source": [
    "# Plot the locations of burglaries in San Francisco and print the three centroids, or the three loctions where a \n",
    "burglary is likely to take place"
   ]
  },
  {
   "cell_type": "code",
   "execution_count": 32,
   "id": "141c1422",
   "metadata": {},
   "outputs": [
    {
     "name": "stdout",
     "output_type": "stream",
     "text": [
      "[[  37.76323444 -122.46500588]\n",
      " [  37.78491904 -122.42255899]\n",
      " [  37.73995103 -122.41353863]]\n"
     ]
    },
    {
     "data": {
      "image/png": "[encoded data removed]",
      "text/plain": [
       "<Figure size 432x288 with 1 Axes>"
      ]
     },
     "metadata": {
      "needs_background": "light"
     },
     "output_type": "display_data"
    }
   ],
   "source": [
    "data = k_means_algorithm(locations,3)\n",
    "c1 = data[data.Clusters==0]\n",
    "c2 = data[data.Clusters==1]\n",
    "c3 = data[data.Clusters==2]\n",
    "plt.scatter(c1.incident_latitude, c1.incident_longitude, color = \"blue\")\n",
    "plt.scatter(c2.incident_latitude, c2.incident_longitude, color = \"green\")\n",
    "plt.scatter(c3.incident_latitude, c3.incident_longitude, color = \"black\")\n",
    "x, y = np.array((get_centroids(locations, data.Clusters, 3))).T\n",
    "plt.scatter(x,y, c = 'red')\n",
    "print( np.array((get_centroids(locations, data.Clusters, 3))))"
   ]
  },
  {
   "cell_type": "code",
   "execution_count": 33,
   "id": "aef8a06e",
   "metadata": {},
   "outputs": [
    {
     "name": "stdout",
     "output_type": "stream",
     "text": [
      "X: [2.58324215 2.94373317 0.8638039  4.64027081 1.20656441 2.15825263\n",
      " 3.50288142 1.75471191 1.94204778 2.09099239 3.55145404 5.29220801\n",
      " 3.04153939 1.88207455 3.53905832 2.4038403  2.9808695  4.17500122\n",
      " 2.25212905 3.00902525 2.12189211 2.84356583 3.25657045 2.01122095\n",
      " 2.66117803 2.76381597 2.36234499 1.81238771 1.57878277 2.8465048\n",
      " 2.73094304 5.23136679 0.56523242 3.1127265  3.37044454 4.35963386\n",
      " 3.50185721 2.1557863  3.00000976 3.54235257 2.6864918  3.77101174\n",
      " 1.13190935 4.73118467 4.46767801 2.66432266 3.61134078 3.04797059\n",
      " 2.17086471 3.08771022 4.00036589 2.61890748 2.62433058 2.92552924\n",
      " 3.43349633 4.27837923 2.36532069 3.50839624 3.21611601 1.14138761\n",
      " 2.58068352 2.8676711  2.96042976 3.32600343 0.95967695 3.04625552\n",
      " 2.32232442 1.56056097 3.52429643 3.73527958 2.34674973 3.84245628\n",
      " 2.61848352 3.06648901 1.90126105 4.58448706 0.34055054 2.90854738\n",
      " 3.69511961 0.96653345 2.81053074 2.92278133 3.82470301 4.24821292\n",
      " 2.59610773 1.61548133 4.36723542 4.21788563 2.53799465 3.35088849\n",
      " 3.38186623 3.56627544 3.20420798 4.40669624 1.2620405  4.04082395\n",
      " 3.38047197 2.78286473 4.1735315  0.65639681]\n",
      "Y: [ 76.05204933  56.20180641 121.17874037  36.05903817 114.23885932\n",
      " 117.41526024  63.77986643  95.52998052  62.4237197   60.57574247\n",
      "  38.57519009  24.10914678  37.45148182  67.13926856  39.26265343\n",
      "  53.79918302  40.94657678  27.02857247 111.90190427  30.26663537\n",
      "  51.4368334   58.83311239  42.08623741  83.01076429  68.37843898\n",
      "  72.54627253  76.22874513  60.83111238 123.11113005  27.89501382\n",
      "  53.25015791  24.86406278 190.30762228  55.79245737  42.32964984\n",
      "  43.76381026  25.90093643  85.28325651  56.63901768  43.77321677\n",
      "  34.70979433  37.10649687  77.86225629  14.09666443  62.93869329\n",
      "  70.87521926  61.39097018  43.58292288  81.92492065  57.61442568\n",
      "  43.5111781   57.3316853   53.67848811  22.97550427  50.79538368\n",
      "  39.01941998  82.32095959  39.62788318  68.30365792 115.73628743\n",
      "  38.66530343  65.39332448  44.34023444  30.00934597 161.50533328\n",
      "  59.1743156   68.74904453 108.8692008   89.19445659  48.95077634\n",
      "  90.02681869  18.36485932  62.86162946  59.01318439  71.22685026\n",
      "  25.07604874 487.03726791  47.24533754  34.16662793 202.76589695\n",
      "  72.37873053  55.46264153  34.46826737  40.15213735  70.55883508\n",
      " 108.46604975  21.035144    32.35727584  64.76189111  52.19177448\n",
      "  55.71813453  50.5667094   32.65308038  27.61777936  80.14230427\n",
      "  54.98360439  46.50723143  61.85229524  45.84155234 208.47130994]\n"
     ]
    }
   ],
   "source": [
    "np.random.seed(2)\n",
    "x = np.random.normal(3, 1, 100)\n",
    "print(\"X:\",x)\n",
    "y = np.random.normal(150, 40, 100) / x\n",
    "print(\"Y:\",y)"
   ]
  },
  {
   "cell_type": "code",
   "execution_count": 34,
   "id": "8d71a547",
   "metadata": {},
   "outputs": [
    {
     "data": {
      "image/png": "[encoded data removed]",
      "text/plain": [
       "<Figure size 432x288 with 1 Axes>"
      ]
     },
     "metadata": {
      "needs_background": "light"
     },
     "output_type": "display_data"
    },
    {
     "data": {
      "image/png": "[encoded data removed]",
      "text/plain": [
       "<Figure size 432x288 with 1 Axes>"
      ]
     },
     "metadata": {
      "needs_background": "light"
     },
     "output_type": "display_data"
    }
   ],
   "source": [
    "train_x = x[:80]\n",
    "train_y = y[:80]\n",
    "plt.scatter(train_x, train_y)\n",
    "plt.show()\n",
    "test_x = x[80:]\n",
    "test_y = y[80:]\n",
    "plt.scatter(test_x, test_y)\n",
    "plt.show()"
   ]
  },
  {
   "cell_type": "code",
   "execution_count": 35,
   "id": "b48d5a8a",
   "metadata": {},
   "outputs": [
    {
     "data": {
      "image/png": "[encoded data removed]",
      "text/plain": [
       "<Figure size 432x288 with 1 Axes>"
      ]
     },
     "metadata": {
      "needs_background": "light"
     },
     "output_type": "display_data"
    }
   ],
   "source": [
    "mymodel = np.poly1d(np.polyfit(train_x, train_y, 4))\n",
    "\n",
    "myline = np.linspace(0, 6, 100)\n",
    "\n",
    "plt.scatter(train_x, train_y)\n",
    "plt.plot(myline, mymodel(myline))\n",
    "plt.show()"
   ]
  }
 ],
 "metadata": {
  "kernelspec": {
   "display_name": "Python 3 (ipykernel)",
   "language": "python",
   "name": "python3"
  },
  "language_info": {
   "codemirror_mode": {
    "name": "ipython",
    "version": 3
   },
   "file_extension": ".py",
   "mimetype": "text/x-python",
   "name": "python",
   "nbconvert_exporter": "python",
   "pygments_lexer": "ipython3",
   "version": "3.9.7"
  }
 },
 "nbformat": 4,
 "nbformat_minor": 5
}
