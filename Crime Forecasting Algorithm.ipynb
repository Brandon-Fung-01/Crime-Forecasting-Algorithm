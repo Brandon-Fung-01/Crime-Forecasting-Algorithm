{
 "cells": [
  {
   "cell_type": "raw",
   "id": "8b55db84",
   "metadata": {},
   "source": [
    "# Import data"
   ]
  },
  {
   "cell_type": "code",
   "execution_count": 1,
   "id": "1860a8f6",
   "metadata": {},
   "outputs": [
    {
     "data": {
      "text/html": [
       "<div>\n",
       "<style scoped>\n",
       "    .dataframe tbody tr th:only-of-type {\n",
       "        vertical-align: middle;\n",
       "    }\n",
       "\n",
       "    .dataframe tbody tr th {\n",
       "        vertical-align: top;\n",
       "    }\n",
       "\n",
       "    .dataframe thead th {\n",
       "        text-align: right;\n",
       "    }\n",
       "</style>\n",
       "<table border=\"1\" class=\"dataframe\">\n",
       "  <thead>\n",
       "    <tr style=\"text-align: right;\">\n",
       "      <th></th>\n",
       "      <th>SepalLengthCm</th>\n",
       "      <th>SepalWidthCm</th>\n",
       "    </tr>\n",
       "  </thead>\n",
       "  <tbody>\n",
       "    <tr>\n",
       "      <th>0</th>\n",
       "      <td>5.1</td>\n",
       "      <td>3.5</td>\n",
       "    </tr>\n",
       "    <tr>\n",
       "      <th>1</th>\n",
       "      <td>4.9</td>\n",
       "      <td>3.0</td>\n",
       "    </tr>\n",
       "    <tr>\n",
       "      <th>2</th>\n",
       "      <td>4.7</td>\n",
       "      <td>3.2</td>\n",
       "    </tr>\n",
       "    <tr>\n",
       "      <th>3</th>\n",
       "      <td>4.6</td>\n",
       "      <td>3.1</td>\n",
       "    </tr>\n",
       "    <tr>\n",
       "      <th>4</th>\n",
       "      <td>5.0</td>\n",
       "      <td>3.6</td>\n",
       "    </tr>\n",
       "    <tr>\n",
       "      <th>...</th>\n",
       "      <td>...</td>\n",
       "      <td>...</td>\n",
       "    </tr>\n",
       "    <tr>\n",
       "      <th>145</th>\n",
       "      <td>6.7</td>\n",
       "      <td>3.0</td>\n",
       "    </tr>\n",
       "    <tr>\n",
       "      <th>146</th>\n",
       "      <td>6.3</td>\n",
       "      <td>2.5</td>\n",
       "    </tr>\n",
       "    <tr>\n",
       "      <th>147</th>\n",
       "      <td>6.5</td>\n",
       "      <td>3.0</td>\n",
       "    </tr>\n",
       "    <tr>\n",
       "      <th>148</th>\n",
       "      <td>6.2</td>\n",
       "      <td>3.4</td>\n",
       "    </tr>\n",
       "    <tr>\n",
       "      <th>149</th>\n",
       "      <td>5.9</td>\n",
       "      <td>3.0</td>\n",
       "    </tr>\n",
       "  </tbody>\n",
       "</table>\n",
       "<p>150 rows × 2 columns</p>\n",
       "</div>"
      ],
      "text/plain": [
       "     SepalLengthCm  SepalWidthCm\n",
       "0              5.1           3.5\n",
       "1              4.9           3.0\n",
       "2              4.7           3.2\n",
       "3              4.6           3.1\n",
       "4              5.0           3.6\n",
       "..             ...           ...\n",
       "145            6.7           3.0\n",
       "146            6.3           2.5\n",
       "147            6.5           3.0\n",
       "148            6.2           3.4\n",
       "149            5.9           3.0\n",
       "\n",
       "[150 rows x 2 columns]"
      ]
     },
     "execution_count": 1,
     "metadata": {},
     "output_type": "execute_result"
    }
   ],
   "source": [
    "import pandas as pd\n",
    "import numpy as np\n",
    "iris = pd.read_csv('Iris.csv')\n",
    "iris = iris.drop(columns=['Id', 'PetalLengthCm', 'PetalWidthCm', 'Species'])\n",
    "iris"
   ]
  },
  {
   "cell_type": "raw",
   "id": "d90162ab",
   "metadata": {},
   "source": [
    "# Plot data"
   ]
  },
  {
   "cell_type": "code",
   "execution_count": 2,
   "id": "58231b9c",
   "metadata": {},
   "outputs": [
    {
     "data": {
      "image/png": "[encoded data removed]",
      "text/plain": [
       "<Figure size 432x288 with 1 Axes>"
      ]
     },
     "metadata": {
      "needs_background": "light"
     },
     "output_type": "display_data"
    }
   ],
   "source": [
    "import matplotlib.pyplot as plt\n",
    "plt.scatter(iris.SepalLengthCm, iris.SepalWidthCm)\n",
    "plt.show()\n"
   ]
  },
  {
   "cell_type": "raw",
   "id": "dd4def3e",
   "metadata": {},
   "source": [
    "# Return an array of k randomly generated points to serve as centroids"
   ]
  },
  {
   "cell_type": "code",
   "execution_count": 3,
   "id": "264ec60e",
   "metadata": {},
   "outputs": [],
   "source": [
    "def initial_centroids(dataset, k):\n",
    "    dataset = dataset.to_numpy()\n",
    "    centroids = dataset[np.random.choice(dataset.shape[0], k, replace=False)]\n",
    "    centroids = centroids.tolist()\n",
    "    return centroids  "
   ]
  },
  {
   "cell_type": "code",
   "execution_count": 4,
   "id": "3ab233d8",
   "metadata": {},
   "outputs": [
    {
     "data": {
      "text/plain": [
       "[[5.0, 3.5], [4.8, 3.0], [5.7, 3.0], [6.6, 3.0]]"
      ]
     },
     "execution_count": 4,
     "metadata": {},
     "output_type": "execute_result"
    }
   ],
   "source": [
    "#TEST\n",
    "centroids = initial_centroids(iris, 4)\n",
    "centroids"
   ]
  },
  {
   "cell_type": "raw",
   "id": "e306c90a",
   "metadata": {},
   "source": [
    "# Return an array with the corresponding cluster that each datapoint belongs to by calculating the Euclidean distance between each respective datapoint and centroid(s) given and choosing the centroid with the smallest distance"
   ]
  },
  {
   "cell_type": "code",
   "execution_count": 5,
   "id": "3f8c46e1",
   "metadata": {},
   "outputs": [],
   "source": [
    "def get_clusters(dataset, centroids):\n",
    "    dataset = dataset.to_numpy()\n",
    "    distances = []\n",
    "    clusters = []\n",
    "    for datapoint in dataset:\n",
    "        for centroid in centroids:\n",
    "            distances.append(np.linalg.norm(datapoint-centroid))\n",
    "        clusters.append(centroids.index(centroids[distances.index(min(distances))]))\n",
    "        distances.clear()\n",
    "    return clusters  "
   ]
  },
  {
   "cell_type": "code",
   "execution_count": 6,
   "id": "17e78f2a",
   "metadata": {},
   "outputs": [
    {
     "name": "stdout",
     "output_type": "stream",
     "text": [
      "[2, 2, 2, 2, 2, 0, 2, 2, 2, 2, 0, 2, 2, 2, 0, 0, 0, 2, 0, 2, 2, 2, 2, 2, 2, 2, 2, 2, 2, 2, 2, 2, 0, 0, 2, 2, 2, 2, 2, 2, 2, 2, 2, 2, 2, 2, 2, 2, 2, 2, 3, 0, 3, 1, 3, 1, 0, 2, 3, 2, 2, 1, 1, 3, 2, 3, 2, 1, 1, 1, 0, 3, 3, 3, 3, 3, 3, 3, 1, 1, 1, 1, 1, 1, 2, 0, 3, 1, 2, 2, 2, 3, 1, 2, 2, 2, 2, 3, 2, 1, 0, 1, 3, 3, 3, 3, 2, 3, 3, 0, 3, 3, 3, 1, 1, 0, 3, 0, 3, 1, 3, 2, 3, 3, 3, 3, 3, 3, 3, 3, 3, 0, 3, 3, 1, 3, 0, 3, 3, 3, 3, 3, 1, 3, 3, 3, 3, 3, 0, 1]\n"
     ]
    }
   ],
   "source": [
    "#TEST\n",
    "clusters = get_clusters(iris, initial_centroids(iris, 4))\n",
    "print(clusters)"
   ]
  },
  {
   "cell_type": "raw",
   "id": "d10ff4b0",
   "metadata": {},
   "source": [
    "# Return an array of new centroids generated by calculating the average point between the old centroid(s) and \n",
    " corresponding datapoints within said cluster"
   ]
  },
  {
   "cell_type": "code",
   "execution_count": 7,
   "id": "06326d32",
   "metadata": {},
   "outputs": [],
   "source": [
    "def get_centroids(dataset, old_clusters, k):\n",
    "    dataset = (dataset.to_numpy()).tolist()\n",
    "    new_clusters = {}\n",
    "    new_centroids = []\n",
    "    for i in range(k):\n",
    "        new_clusters[i] = []\n",
    "    for i, cluster in enumerate(old_clusters):\n",
    "        new_clusters[cluster].append(dataset[i])\n",
    "    for i in range(k):\n",
    "        coordinate = []\n",
    "        sum_x = 0\n",
    "        sum_y = 0\n",
    "        for coord in new_clusters.get(i):\n",
    "            sum_x += coord[0]\n",
    "            sum_y += coord[1]\n",
    "        #edge case = len(new_clusters.get(i)) is 0\n",
    "        if(len(new_clusters.get(i))) != 0 :\n",
    "            coordinate.append(sum_x/len(new_clusters.get(i)))\n",
    "            coordinate.append(sum_y/len(new_clusters.get(i)))\n",
    "            new_centroids.append(coordinate)\n",
    "        else:\n",
    "            new_centroids.append([0,0])\n",
    "    return new_centroids"
   ]
  },
  {
   "cell_type": "code",
   "execution_count": 8,
   "id": "2567e16d",
   "metadata": {},
   "outputs": [
    {
     "data": {
      "text/plain": [
       "[[6.292105263157891, 2.978947368421053],\n",
       " [6.617647058823529, 2.552941176470588],\n",
       " [5.196969696969697, 3.606060606060606],\n",
       " [4.7625, 2.8875000000000006]]"
      ]
     },
     "execution_count": 8,
     "metadata": {},
     "output_type": "execute_result"
    }
   ],
   "source": [
    "collect = get_centroids(iris, get_clusters(iris,initial_centroids(iris,4)), 4)\n",
    "collect"
   ]
  },
  {
   "cell_type": "raw",
   "id": "6f2d738d",
   "metadata": {},
   "source": [
    "# Compare whether or not the old clusters are the same as the new clusters"
   ]
  },
  {
   "cell_type": "code",
   "execution_count": 9,
   "id": "065d94b9",
   "metadata": {},
   "outputs": [],
   "source": [
    "def clusters_changed(old_clusters, new_clusters):\n",
    "    return old_clusters == new_clusters"
   ]
  },
  {
   "cell_type": "code",
   "execution_count": 10,
   "id": "7cc2ac42",
   "metadata": {},
   "outputs": [
    {
     "data": {
      "text/plain": [
       "False"
      ]
     },
     "execution_count": 10,
     "metadata": {},
     "output_type": "execute_result"
    }
   ],
   "source": [
    "old = get_clusters(iris, initial_centroids(iris,3))\n",
    "new = get_clusters(iris, get_centroids(iris, get_clusters(iris,initial_centroids(iris,4)), 4))\n",
    "clusters_changed(old, new)"
   ]
  },
  {
   "cell_type": "raw",
   "id": "8ac922bc",
   "metadata": {},
   "source": [
    "# Run the k means algorithm by continuosly forming new clusters until there is no change between the old\n",
    "clusters and new clusters"
   ]
  },
  {
   "cell_type": "code",
   "execution_count": 11,
   "id": "748e8471",
   "metadata": {},
   "outputs": [],
   "source": [
    "def k_means_algorithm(dataset, k):\n",
    "    dataset = dataset.iloc[:,[0,1]]\n",
    "    new_centroids = initial_centroids(dataset,k)\n",
    "    no_change = False\n",
    "    while not no_change:\n",
    "        old_centroids = new_centroids\n",
    "        clusters = get_clusters(dataset, old_centroids)\n",
    "        new_centroids = get_centroids(dataset, clusters, k)\n",
    "        no_change = clusters_changed(clusters, get_clusters(dataset, new_centroids))\n",
    "    new_dataset = dataset.copy(deep = True)\n",
    "    new_dataset.insert(2, \"Clusters\", get_clusters(dataset, new_centroids))\n",
    "    new_dataset = new_dataset.sort_values(by = \"Clusters\")\n",
    "    new_dataset = new_dataset.reset_index(drop=True)\n",
    "    return new_dataset"
   ]
  },
  {
   "cell_type": "code",
   "execution_count": 12,
   "id": "31f8e0d2",
   "metadata": {},
   "outputs": [
    {
     "data": {
      "text/html": [
       "<div>\n",
       "<style scoped>\n",
       "    .dataframe tbody tr th:only-of-type {\n",
       "        vertical-align: middle;\n",
       "    }\n",
       "\n",
       "    .dataframe tbody tr th {\n",
       "        vertical-align: top;\n",
       "    }\n",
       "\n",
       "    .dataframe thead th {\n",
       "        text-align: right;\n",
       "    }\n",
       "</style>\n",
       "<table border=\"1\" class=\"dataframe\">\n",
       "  <thead>\n",
       "    <tr style=\"text-align: right;\">\n",
       "      <th></th>\n",
       "      <th>SepalLengthCm</th>\n",
       "      <th>SepalWidthCm</th>\n",
       "      <th>Clusters</th>\n",
       "    </tr>\n",
       "  </thead>\n",
       "  <tbody>\n",
       "    <tr>\n",
       "      <th>0</th>\n",
       "      <td>5.9</td>\n",
       "      <td>3.0</td>\n",
       "      <td>0</td>\n",
       "    </tr>\n",
       "    <tr>\n",
       "      <th>1</th>\n",
       "      <td>6.0</td>\n",
       "      <td>3.4</td>\n",
       "      <td>0</td>\n",
       "    </tr>\n",
       "    <tr>\n",
       "      <th>2</th>\n",
       "      <td>5.4</td>\n",
       "      <td>3.0</td>\n",
       "      <td>0</td>\n",
       "    </tr>\n",
       "    <tr>\n",
       "      <th>3</th>\n",
       "      <td>6.0</td>\n",
       "      <td>2.7</td>\n",
       "      <td>0</td>\n",
       "    </tr>\n",
       "    <tr>\n",
       "      <th>4</th>\n",
       "      <td>5.8</td>\n",
       "      <td>2.7</td>\n",
       "      <td>0</td>\n",
       "    </tr>\n",
       "    <tr>\n",
       "      <th>...</th>\n",
       "      <td>...</td>\n",
       "      <td>...</td>\n",
       "      <td>...</td>\n",
       "    </tr>\n",
       "    <tr>\n",
       "      <th>145</th>\n",
       "      <td>6.5</td>\n",
       "      <td>3.0</td>\n",
       "      <td>2</td>\n",
       "    </tr>\n",
       "    <tr>\n",
       "      <th>146</th>\n",
       "      <td>7.7</td>\n",
       "      <td>3.8</td>\n",
       "      <td>2</td>\n",
       "    </tr>\n",
       "    <tr>\n",
       "      <th>147</th>\n",
       "      <td>7.7</td>\n",
       "      <td>2.6</td>\n",
       "      <td>2</td>\n",
       "    </tr>\n",
       "    <tr>\n",
       "      <th>148</th>\n",
       "      <td>6.5</td>\n",
       "      <td>3.0</td>\n",
       "      <td>2</td>\n",
       "    </tr>\n",
       "    <tr>\n",
       "      <th>149</th>\n",
       "      <td>6.4</td>\n",
       "      <td>2.9</td>\n",
       "      <td>2</td>\n",
       "    </tr>\n",
       "  </tbody>\n",
       "</table>\n",
       "<p>150 rows × 3 columns</p>\n",
       "</div>"
      ],
      "text/plain": [
       "     SepalLengthCm  SepalWidthCm  Clusters\n",
       "0              5.9           3.0         0\n",
       "1              6.0           3.4         0\n",
       "2              5.4           3.0         0\n",
       "3              6.0           2.7         0\n",
       "4              5.8           2.7         0\n",
       "..             ...           ...       ...\n",
       "145            6.5           3.0         2\n",
       "146            7.7           3.8         2\n",
       "147            7.7           2.6         2\n",
       "148            6.5           3.0         2\n",
       "149            6.4           2.9         2\n",
       "\n",
       "[150 rows x 3 columns]"
      ]
     },
     "execution_count": 12,
     "metadata": {},
     "output_type": "execute_result"
    }
   ],
   "source": [
    "k_means_algorithm(iris, 3)"
   ]
  },
  {
   "cell_type": "code",
   "execution_count": 13,
   "id": "4e821de4",
   "metadata": {},
   "outputs": [
    {
     "data": {
      "text/plain": [
       "<matplotlib.collections.PathCollection at 0x255040096a0>"
      ]
     },
     "execution_count": 13,
     "metadata": {},
     "output_type": "execute_result"
    },
    {
     "data": {
      "image/png": "[encoded data removed]",
      "text/plain": [
       "<Figure size 432x288 with 1 Axes>"
      ]
     },
     "metadata": {
      "needs_background": "light"
     },
     "output_type": "display_data"
    }
   ],
   "source": [
    "data = k_means_algorithm(iris,3)\n",
    "c1 = data[data.Clusters==0]\n",
    "c2 = data[data.Clusters==1]\n",
    "c3 = data[data.Clusters==2]\n",
    "plt.scatter(c1.SepalLengthCm, c1.SepalWidthCm, color = \"blue\")\n",
    "plt.scatter(c2.SepalLengthCm, c2.SepalWidthCm, color = \"green\")\n",
    "plt.scatter(c3.SepalLengthCm, c3.SepalWidthCm, color = \"black\")\n",
    "x, y = np.array((get_centroids(iris, data.Clusters, 3))).T\n",
    "plt.scatter(x,y, c = 'red')\n"
   ]
  },
  {
   "cell_type": "raw",
   "id": "b027d654",
   "metadata": {},
   "source": [
    "# Simple application of k-means clustering on crime data by cleaning data of crime in San Francisco to just location of \n",
    "burglaries"
   ]
  },
  {
   "cell_type": "code",
   "execution_count": 14,
   "id": "42bb9a69",
   "metadata": {},
   "outputs": [
    {
     "data": {
      "text/html": [
       "<div>\n",
       "<style scoped>\n",
       "    .dataframe tbody tr th:only-of-type {\n",
       "        vertical-align: middle;\n",
       "    }\n",
       "\n",
       "    .dataframe tbody tr th {\n",
       "        vertical-align: top;\n",
       "    }\n",
       "\n",
       "    .dataframe thead th {\n",
       "        text-align: right;\n",
       "    }\n",
       "</style>\n",
       "<table border=\"1\" class=\"dataframe\">\n",
       "  <thead>\n",
       "    <tr style=\"text-align: right;\">\n",
       "      <th></th>\n",
       "      <th>incident_latitude</th>\n",
       "      <th>incident_longitude</th>\n",
       "      <th>incident_source_original_type</th>\n",
       "    </tr>\n",
       "  </thead>\n",
       "  <tbody>\n",
       "    <tr>\n",
       "      <th>3</th>\n",
       "      <td>37.781160</td>\n",
       "      <td>-122.461063</td>\n",
       "      <td>Burglary - Commercial</td>\n",
       "    </tr>\n",
       "    <tr>\n",
       "      <th>10</th>\n",
       "      <td>37.793050</td>\n",
       "      <td>-122.422871</td>\n",
       "      <td>Burglary - Other</td>\n",
       "    </tr>\n",
       "    <tr>\n",
       "      <th>12</th>\n",
       "      <td>37.793050</td>\n",
       "      <td>-122.422871</td>\n",
       "      <td>Burglary - Other</td>\n",
       "    </tr>\n",
       "    <tr>\n",
       "      <th>22</th>\n",
       "      <td>37.779829</td>\n",
       "      <td>-122.402841</td>\n",
       "      <td>Burglary - Other</td>\n",
       "    </tr>\n",
       "    <tr>\n",
       "      <th>24</th>\n",
       "      <td>37.778946</td>\n",
       "      <td>-122.467354</td>\n",
       "      <td>Burglary - Residential</td>\n",
       "    </tr>\n",
       "    <tr>\n",
       "      <th>...</th>\n",
       "      <td>...</td>\n",
       "      <td>...</td>\n",
       "      <td>...</td>\n",
       "    </tr>\n",
       "    <tr>\n",
       "      <th>2198</th>\n",
       "      <td>37.775950</td>\n",
       "      <td>-122.422788</td>\n",
       "      <td>Burglary - Other</td>\n",
       "    </tr>\n",
       "    <tr>\n",
       "      <th>2217</th>\n",
       "      <td>37.739978</td>\n",
       "      <td>-122.437495</td>\n",
       "      <td>Burglary - Residential</td>\n",
       "    </tr>\n",
       "    <tr>\n",
       "      <th>2218</th>\n",
       "      <td>37.739978</td>\n",
       "      <td>-122.437495</td>\n",
       "      <td>Burglary - Residential</td>\n",
       "    </tr>\n",
       "    <tr>\n",
       "      <th>2231</th>\n",
       "      <td>37.764188</td>\n",
       "      <td>-122.446074</td>\n",
       "      <td>Burglary - Residential</td>\n",
       "    </tr>\n",
       "    <tr>\n",
       "      <th>2320</th>\n",
       "      <td>37.800624</td>\n",
       "      <td>-122.422713</td>\n",
       "      <td>Burglary - Other</td>\n",
       "    </tr>\n",
       "  </tbody>\n",
       "</table>\n",
       "<p>154 rows × 3 columns</p>\n",
       "</div>"
      ],
      "text/plain": [
       "      incident_latitude  incident_longitude incident_source_original_type\n",
       "3             37.781160         -122.461063         Burglary - Commercial\n",
       "10            37.793050         -122.422871              Burglary - Other\n",
       "12            37.793050         -122.422871              Burglary - Other\n",
       "22            37.779829         -122.402841              Burglary - Other\n",
       "24            37.778946         -122.467354        Burglary - Residential\n",
       "...                 ...                 ...                           ...\n",
       "2198          37.775950         -122.422788              Burglary - Other\n",
       "2217          37.739978         -122.437495        Burglary - Residential\n",
       "2218          37.739978         -122.437495        Burglary - Residential\n",
       "2231          37.764188         -122.446074        Burglary - Residential\n",
       "2320          37.800624         -122.422713              Burglary - Other\n",
       "\n",
       "[154 rows x 3 columns]"
      ]
     },
     "execution_count": 14,
     "metadata": {},
     "output_type": "execute_result"
    }
   ],
   "source": [
    "crime_map = pd.read_csv('Crime Data.csv')\n",
    "crime_map = crime_map.drop(columns=['city_key', 'incident_code', 'incident_date', 'incident_address', 'incident_offense_code', 'incident_offense', 'incident_offense_description', 'incident_offense_detail_description', 'incident_offense_action'])\n",
    "burglaries = crime_map[crime_map['incident_source_original_type'].str.contains('Burglary')]\n",
    "locations = burglaries.drop(columns=['city_name','incident_offense_crime_against'])\n",
    "locations\n"
   ]
  },
  {
   "cell_type": "raw",
   "id": "a4b0cc2f",
   "metadata": {},
   "source": [
    "# Plot the locations of burglaries in San Francisco and print the three centroids, or the three loctions where a \n",
    "burglary is likely to take place"
   ]
  },
  {
   "cell_type": "code",
   "execution_count": 15,
   "id": "141c1422",
   "metadata": {},
   "outputs": [
    {
     "name": "stdout",
     "output_type": "stream",
     "text": [
      "[[  37.77093618 -122.43311325]\n",
      " [  37.76583232 -122.427497  ]\n",
      " [  37.7650896  -122.43263969]]\n"
     ]
    },
    {
     "data": {
      "image/png": "[encoded data removed]",
      "text/plain": [
       "<Figure size 432x288 with 1 Axes>"
      ]
     },
     "metadata": {
      "needs_background": "light"
     },
     "output_type": "display_data"
    }
   ],
   "source": [
    "data = k_means_algorithm(locations,3)\n",
    "c1 = data[data.Clusters==0]\n",
    "c2 = data[data.Clusters==1]\n",
    "c3 = data[data.Clusters==2]\n",
    "plt.scatter(c1.incident_latitude, c1.incident_longitude, color = \"blue\")\n",
    "plt.scatter(c2.incident_latitude, c2.incident_longitude, color = \"green\")\n",
    "plt.scatter(c3.incident_latitude, c3.incident_longitude, color = \"black\")\n",
    "x, y = np.array((get_centroids(locations, data.Clusters, 3))).T\n",
    "plt.scatter(x,y, c = 'red')\n",
    "print( np.array((get_centroids(locations, data.Clusters, 3))))"
   ]
  },
  {
   "cell_type": "code",
   "execution_count": 26,
   "id": "4a7a0bc9",
   "metadata": {},
   "outputs": [
    {
     "data": {
      "text/plain": [
       "<AxesSubplot:>"
      ]
     },
     "execution_count": 26,
     "metadata": {},
     "output_type": "execute_result"
    },
    {
     "data": {
      "image/png": "[encoded data removed]",
      "text/plain": [
       "<Figure size 720x576 with 1 Axes>"
      ]
     },
     "metadata": {
      "needs_background": "light"
     },
     "output_type": "display_data"
    }
   ],
   "source": [
    "import geopandas as gpd\n",
    "import datetime\n",
    "test = gpd.read_file(r'C:\\Users\\branf\\Desktop\\Heights and Weights\\Geo Data\\geo_export_3e51c538-aa74-4bf6-aeae-ce13aca84f87.shp')\n",
    "fig, ax1 = plt.subplots(figsize = (10,8))\n",
    "test = test.to_crs(epsg = 3857)\n",
    "test.plot(ax = ax1, cmap = 'Set3', edgecolor = 'black', column = 'boro_name')\n",
    "\n"
   ]
  },
  {
   "cell_type": "code",
   "execution_count": 53,
   "id": "738317d9",
   "metadata": {},
   "outputs": [
    {
     "data": {
      "text/html": [
       "<div>\n",
       "<style scoped>\n",
       "    .dataframe tbody tr th:only-of-type {\n",
       "        vertical-align: middle;\n",
       "    }\n",
       "\n",
       "    .dataframe tbody tr th {\n",
       "        vertical-align: top;\n",
       "    }\n",
       "\n",
       "    .dataframe thead th {\n",
       "        text-align: right;\n",
       "    }\n",
       "</style>\n",
       "<table border=\"1\" class=\"dataframe\">\n",
       "  <thead>\n",
       "    <tr style=\"text-align: right;\">\n",
       "      <th></th>\n",
       "      <th>RPT_DT</th>\n",
       "      <th>OFNS_DESC</th>\n",
       "      <th>LAW_CAT_CD</th>\n",
       "      <th>BORO_NM</th>\n",
       "      <th>Latitude</th>\n",
       "      <th>Longitude</th>\n",
       "      <th>Month</th>\n",
       "    </tr>\n",
       "  </thead>\n",
       "  <tbody>\n",
       "    <tr>\n",
       "      <th>1768</th>\n",
       "      <td>2015-12-30</td>\n",
       "      <td>MURDER &amp; NON-NEGL. MANSLAUGHTER</td>\n",
       "      <td>FELONY</td>\n",
       "      <td>BRONX</td>\n",
       "      <td>40.877554</td>\n",
       "      <td>-73.872939</td>\n",
       "      <td>12</td>\n",
       "    </tr>\n",
       "    <tr>\n",
       "      <th>2363</th>\n",
       "      <td>2015-12-30</td>\n",
       "      <td>MURDER &amp; NON-NEGL. MANSLAUGHTER</td>\n",
       "      <td>FELONY</td>\n",
       "      <td>BRONX</td>\n",
       "      <td>40.852141</td>\n",
       "      <td>-73.922376</td>\n",
       "      <td>12</td>\n",
       "    </tr>\n",
       "    <tr>\n",
       "      <th>3583</th>\n",
       "      <td>2015-12-29</td>\n",
       "      <td>MURDER &amp; NON-NEGL. MANSLAUGHTER</td>\n",
       "      <td>FELONY</td>\n",
       "      <td>MANHATTAN</td>\n",
       "      <td>40.810877</td>\n",
       "      <td>-73.941064</td>\n",
       "      <td>12</td>\n",
       "    </tr>\n",
       "    <tr>\n",
       "      <th>3820</th>\n",
       "      <td>2015-12-28</td>\n",
       "      <td>MURDER &amp; NON-NEGL. MANSLAUGHTER</td>\n",
       "      <td>FELONY</td>\n",
       "      <td>BROOKLYN</td>\n",
       "      <td>40.595162</td>\n",
       "      <td>-73.937981</td>\n",
       "      <td>12</td>\n",
       "    </tr>\n",
       "    <tr>\n",
       "      <th>3821</th>\n",
       "      <td>2015-12-28</td>\n",
       "      <td>MURDER &amp; NON-NEGL. MANSLAUGHTER</td>\n",
       "      <td>FELONY</td>\n",
       "      <td>BROOKLYN</td>\n",
       "      <td>40.595162</td>\n",
       "      <td>-73.937981</td>\n",
       "      <td>12</td>\n",
       "    </tr>\n",
       "    <tr>\n",
       "      <th>...</th>\n",
       "      <td>...</td>\n",
       "      <td>...</td>\n",
       "      <td>...</td>\n",
       "      <td>...</td>\n",
       "      <td>...</td>\n",
       "      <td>...</td>\n",
       "      <td>...</td>\n",
       "    </tr>\n",
       "    <tr>\n",
       "      <th>475709</th>\n",
       "      <td>2015-01-03</td>\n",
       "      <td>MURDER &amp; NON-NEGL. MANSLAUGHTER</td>\n",
       "      <td>FELONY</td>\n",
       "      <td>BROOKLYN</td>\n",
       "      <td>40.677011</td>\n",
       "      <td>-73.898652</td>\n",
       "      <td>1</td>\n",
       "    </tr>\n",
       "    <tr>\n",
       "      <th>476657</th>\n",
       "      <td>2015-01-02</td>\n",
       "      <td>MURDER &amp; NON-NEGL. MANSLAUGHTER</td>\n",
       "      <td>FELONY</td>\n",
       "      <td>MANHATTAN</td>\n",
       "      <td>40.785565</td>\n",
       "      <td>-73.946142</td>\n",
       "      <td>1</td>\n",
       "    </tr>\n",
       "    <tr>\n",
       "      <th>477063</th>\n",
       "      <td>2015-01-02</td>\n",
       "      <td>MURDER &amp; NON-NEGL. MANSLAUGHTER</td>\n",
       "      <td>FELONY</td>\n",
       "      <td>QUEENS</td>\n",
       "      <td>40.730261</td>\n",
       "      <td>-73.814149</td>\n",
       "      <td>1</td>\n",
       "    </tr>\n",
       "    <tr>\n",
       "      <th>477913</th>\n",
       "      <td>2015-01-01</td>\n",
       "      <td>MURDER &amp; NON-NEGL. MANSLAUGHTER</td>\n",
       "      <td>FELONY</td>\n",
       "      <td>BRONX</td>\n",
       "      <td>40.826518</td>\n",
       "      <td>-73.818414</td>\n",
       "      <td>1</td>\n",
       "    </tr>\n",
       "    <tr>\n",
       "      <th>478159</th>\n",
       "      <td>2015-01-01</td>\n",
       "      <td>MURDER &amp; NON-NEGL. MANSLAUGHTER</td>\n",
       "      <td>FELONY</td>\n",
       "      <td>BRONX</td>\n",
       "      <td>40.816466</td>\n",
       "      <td>-73.907807</td>\n",
       "      <td>1</td>\n",
       "    </tr>\n",
       "  </tbody>\n",
       "</table>\n",
       "<p>350 rows × 7 columns</p>\n",
       "</div>"
      ],
      "text/plain": [
       "           RPT_DT                        OFNS_DESC LAW_CAT_CD    BORO_NM  \\\n",
       "1768   2015-12-30  MURDER & NON-NEGL. MANSLAUGHTER     FELONY      BRONX   \n",
       "2363   2015-12-30  MURDER & NON-NEGL. MANSLAUGHTER     FELONY      BRONX   \n",
       "3583   2015-12-29  MURDER & NON-NEGL. MANSLAUGHTER     FELONY  MANHATTAN   \n",
       "3820   2015-12-28  MURDER & NON-NEGL. MANSLAUGHTER     FELONY   BROOKLYN   \n",
       "3821   2015-12-28  MURDER & NON-NEGL. MANSLAUGHTER     FELONY   BROOKLYN   \n",
       "...           ...                              ...        ...        ...   \n",
       "475709 2015-01-03  MURDER & NON-NEGL. MANSLAUGHTER     FELONY   BROOKLYN   \n",
       "476657 2015-01-02  MURDER & NON-NEGL. MANSLAUGHTER     FELONY  MANHATTAN   \n",
       "477063 2015-01-02  MURDER & NON-NEGL. MANSLAUGHTER     FELONY     QUEENS   \n",
       "477913 2015-01-01  MURDER & NON-NEGL. MANSLAUGHTER     FELONY      BRONX   \n",
       "478159 2015-01-01  MURDER & NON-NEGL. MANSLAUGHTER     FELONY      BRONX   \n",
       "\n",
       "         Latitude  Longitude  Month  \n",
       "1768    40.877554 -73.872939     12  \n",
       "2363    40.852141 -73.922376     12  \n",
       "3583    40.810877 -73.941064     12  \n",
       "3820    40.595162 -73.937981     12  \n",
       "3821    40.595162 -73.937981     12  \n",
       "...           ...        ...    ...  \n",
       "475709  40.677011 -73.898652      1  \n",
       "476657  40.785565 -73.946142      1  \n",
       "477063  40.730261 -73.814149      1  \n",
       "477913  40.826518 -73.818414      1  \n",
       "478159  40.816466 -73.907807      1  \n",
       "\n",
       "[350 rows x 7 columns]"
      ]
     },
     "execution_count": 53,
     "metadata": {},
     "output_type": "execute_result"
    }
   ],
   "source": [
    "crime_nyc = pd.read_csv('Crime Data NYC.csv', dtype={'PARKS_NM': str})\n",
    "crime_nyc = crime_nyc.drop(columns=['CMPLNT_NUM', 'CMPLNT_FR_DT', 'CMPLNT_FR_TM', 'CMPLNT_TO_TM', 'CMPLNT_TO_DT','CRM_ATPT_CPTD_CD', 'JURIS_DESC', 'KY_CD', 'PD_CD',\n",
    "                                    'PD_DESC', 'ADDR_PCT_CD', 'LOC_OF_OCCUR_DESC','PREM_TYP_DESC','PARKS_NM','HADEVELOPT','X_COORD_CD',\n",
    "                                    'Y_COORD_CD','Lat_Lon'])\n",
    "crime_nyc['RPT_DT'] = pd.to_datetime(crime_nyc['RPT_DT'])\n",
    "crime_nyc = crime_nyc.dropna()\n",
    "felonies = crime_nyc[crime_nyc['LAW_CAT_CD'].str.contains('FELONY')]\n",
    "felonies = crime_nyc[crime_nyc['OFNS_DESC'].str.contains('MURDER')]\n",
    "mask = (crime_nyc['RPT_DT'] >= pd.Timestamp('2015-01-01')) & (crime_nyc['RPT_DT'] < pd.Timestamp('2015-12-31'))\n",
    "felonies = (felonies.loc[mask])\n",
    "felonies['Month'] = felonies.apply(lambda x: x['RPT_DT'].month, axis = 1)\n",
    "felonies"
   ]
  },
  {
   "cell_type": "code",
   "execution_count": 54,
   "id": "6e13a5a8",
   "metadata": {},
   "outputs": [
    {
     "data": {
      "text/plain": [
       "1     40\n",
       "5     36\n",
       "8     35\n",
       "9     34\n",
       "10    31\n",
       "7     31\n",
       "3     27\n",
       "6     26\n",
       "12    25\n",
       "4     25\n",
       "11    22\n",
       "2     18\n",
       "Name: Month, dtype: int64"
      ]
     },
     "execution_count": 54,
     "metadata": {},
     "output_type": "execute_result"
    }
   ],
   "source": [
    "felonies['Month'].value_counts()\n",
    "#August contains the most felonies"
   ]
  },
  {
   "cell_type": "code",
   "execution_count": 83,
   "id": "d07a0806",
   "metadata": {},
   "outputs": [
    {
     "data": {
      "text/plain": [
       "BROOKLYN         96\n",
       "BRONX            57\n",
       "MANHATTAN        23\n",
       "QUEENS           22\n",
       "STATEN ISLAND     6\n",
       "Name: BORO_NM, dtype: int64"
      ]
     },
     "execution_count": 83,
     "metadata": {},
     "output_type": "execute_result"
    }
   ],
   "source": [
    "secondhalf_murders = felonies.loc[felonies['Month'] >= 6]\n",
    "secondhalf_murders = secondhalf_murders.sort_values(by=['RPT_DT'])\n",
    "secondhalf_murders['BORO_NM'].value_counts()"
   ]
  },
  {
   "cell_type": "code",
   "execution_count": 82,
   "id": "1ee38c8c",
   "metadata": {},
   "outputs": [
    {
     "data": {
      "application/vnd.plotly.v1+json": {
       "config": {
        "plotlyServerURL": "https://plot.ly"
       },
       "data": [
        {
         "coloraxis": "coloraxis",
         "hovertemplate": "Latitude=%{lat}<br>Longitude=%{lon}<extra></extra>",
         "lat": [
          40.69528791,
          40.6834668,
          40.67229641,
          40.78872124,
          40.88704255,
          40.64733013,
          40.85603281,
          40.70060164,
          40.67016743,
          40.66888377,
          40.6713371,
          40.655244,
          40.71812038,
          40.83482583,
          40.79945564,
          40.76926549,
          40.5797802,
          40.71984033,
          40.84054162,
          40.82275867,
          40.64806092,
          40.86236598,
          40.79679044,
          40.67278984,
          40.68214891,
          40.82988489,
          40.65269787,
          40.69033059,
          40.82682868,
          40.67572775,
          40.88731363,
          40.6791632,
          40.83842418,
          40.87512101,
          40.80837424,
          40.63900517,
          40.66305655,
          40.78929506,
          40.85359837,
          40.63637696,
          40.82525899,
          40.90026065,
          40.66609068,
          40.66504325,
          40.63698203,
          40.84425887,
          40.6153262,
          40.72265359,
          40.68379864,
          40.70946943,
          40.84244507,
          40.81606827,
          40.84244507,
          40.81566989,
          40.66757617,
          40.65941698,
          40.87124859,
          40.63438391,
          40.8218896,
          40.6938013,
          40.82965936,
          40.71554359,
          40.70117125,
          40.63676218,
          40.67608952,
          40.66081644,
          40.67213267,
          40.6904918,
          40.83550462,
          40.69420386,
          40.70451767,
          40.64870677,
          40.69737871,
          40.87531145,
          40.80404601,
          40.7282508,
          40.70122876,
          40.83246995,
          40.67192673,
          40.86917339,
          40.63463092,
          40.70385852,
          40.6996965,
          40.88932035,
          40.85131609,
          40.59549237,
          40.6591446,
          40.71856407,
          40.77287575,
          40.59511361,
          40.82788869,
          40.6328016,
          40.82474721,
          40.67334104,
          40.79814609,
          40.66416202,
          40.75018944,
          40.67429344,
          40.67294517,
          40.66502269,
          40.7606739,
          40.75411979,
          40.67445925,
          40.77872224,
          40.59867294,
          40.59302472,
          40.64189198,
          40.81943534,
          40.82179908,
          40.84942679,
          40.67135982,
          40.64994445,
          40.8449101,
          40.79581483,
          40.86502854,
          40.69421996,
          40.69421996,
          40.69421996,
          40.84413995,
          40.59657995,
          40.82887373,
          40.70998449,
          40.80175558,
          40.86033098,
          40.86080918,
          40.83707289,
          40.63867469,
          40.67989012,
          40.86374406,
          40.6154234,
          40.6154234,
          40.65915667,
          40.70577536,
          40.67141166,
          40.64412879,
          40.8867835,
          40.6878789,
          40.74820747,
          40.73952866,
          40.64592603,
          40.85453516,
          40.69850389,
          40.82735547,
          40.7030749,
          40.67141166,
          40.79674894,
          40.86122247,
          40.86012445,
          40.63956595,
          40.82368294,
          40.67608315,
          40.65321433,
          40.80038483,
          40.84598479,
          40.65114909,
          40.66123489,
          40.66123489,
          40.67844139,
          40.7004534,
          40.65236233,
          40.66429776,
          40.7528629,
          40.62648719,
          40.64467723,
          40.70448957,
          40.70936905,
          40.86723331,
          40.68380918,
          40.86469433,
          40.90133218,
          40.64806092,
          40.74260518,
          40.84264633,
          40.65137233,
          40.83222468,
          40.66806754,
          40.66757617,
          40.66757617,
          40.64098373,
          40.84420995,
          40.87058038,
          40.65737492,
          40.65269338,
          40.83898607,
          40.63597097,
          40.53929611,
          40.69986085,
          40.84835341,
          40.57544277,
          40.64364733,
          40.68786432,
          40.64501452,
          40.68561057,
          40.6760516,
          40.67841025,
          40.86350728,
          40.85804503,
          40.69736799,
          40.61271405,
          40.59516181,
          40.59516181,
          40.81087724,
          40.85214119,
          40.87755443
         ],
         "lon": [
          -73.81457062,
          -73.94851407,
          -73.92940561,
          -73.93999677,
          -73.85412946,
          -73.89699956,
          -73.88844881,
          -73.85456625,
          -73.93099399,
          -73.93250572,
          -73.93645061,
          -73.95978043,
          -73.95743013,
          -73.91597788,
          -73.96643661,
          -73.93308632,
          -73.99842466,
          -73.9624002,
          -73.86292328,
          -73.91048313,
          -73.94637199,
          -73.89254513,
          -73.93940441,
          -73.77365162,
          -73.92740856,
          -73.93676171,
          -73.96284167,
          -73.94095434,
          -73.9253465,
          -73.9214959,
          -73.84727176,
          -73.89009306,
          -73.86653076,
          -73.90899518,
          -73.92699636,
          -73.95785893,
          -73.92364105,
          -73.94031405,
          -73.90057688,
          -73.9615825,
          -73.92579269,
          -73.84545143,
          -73.87736505,
          -73.89213488,
          -73.97619251,
          -73.8810629,
          -74.09949614,
          -73.84043373,
          -73.9618905,
          -73.94013664,
          -73.91219867,
          -73.90855209,
          -73.91219867,
          -73.93656929,
          -73.90729576,
          -73.90860103,
          -73.83698932,
          -73.92271188,
          -73.85926192,
          -73.97440522,
          -73.9042442,
          -73.74776469,
          -73.83526651,
          -73.92057613,
          -73.90612667,
          -73.91528155,
          -73.90749852,
          -73.93953346,
          -73.93918846,
          -73.90807734,
          -73.77133659,
          -73.90513094,
          -73.91784246,
          -73.84754521,
          -73.9366201,
          -74.00537373,
          -73.92461076,
          -73.90424377,
          -73.93083356,
          -73.89022012,
          -73.95319951,
          -73.9443759,
          -73.91205127,
          -73.90030284,
          -73.90211652,
          -73.93515808,
          -73.96054218,
          -73.98820145,
          -73.93002468,
          -73.75954053,
          -73.8751915,
          -73.95012759,
          -73.89885313,
          -73.93208303,
          -73.95035767,
          -73.94681682,
          -73.89008415,
          -73.96176615,
          -73.96892643,
          -73.95711076,
          -73.97156754,
          -73.9902128,
          -73.9389099,
          -73.81234155,
          -73.75790367,
          -73.97908872,
          -74.00649821,
          -73.91117406,
          -73.91937254,
          -73.91112316,
          -73.88181102,
          -73.96159991,
          -73.89009752,
          -73.93710107,
          -73.89276136,
          -73.9821186,
          -73.9821186,
          -73.9821186,
          -73.90038862,
          -73.90794166,
          -73.90680365,
          -73.99644134,
          -73.93426006,
          -73.91046148,
          -73.92691711,
          -73.85015894,
          -73.98833088,
          -73.82001788,
          -73.89888781,
          -74.08435036,
          -74.08435036,
          -73.91640098,
          -73.93100763,
          -73.88151172,
          -73.94305279,
          -73.82567107,
          -73.97834863,
          -73.82007151,
          -73.98967366,
          -73.96144367,
          -73.89840297,
          -73.79158542,
          -73.86018983,
          -73.80791637,
          -73.88151172,
          -73.92919418,
          -73.86020179,
          -73.9028302,
          -74.01785883,
          -73.91689163,
          -73.97165768,
          -73.9204304,
          -73.95470111,
          -73.90746279,
          -73.89503679,
          -73.74138486,
          -73.74138486,
          -73.94911642,
          -73.91482726,
          -73.92703012,
          -73.90258921,
          -73.99298133,
          -73.96069478,
          -73.96168943,
          -73.96459091,
          -73.89868193,
          -73.92091551,
          -73.98297591,
          -73.89957691,
          -73.84221138,
          -73.94637199,
          -73.91549152,
          -73.89368292,
          -73.96344425,
          -73.90637977,
          -73.90401838,
          -73.90729576,
          -73.90729576,
          -74.08692657,
          -73.85508358,
          -73.86824515,
          -73.92373765,
          -73.91360164,
          -73.92277054,
          -74.01265515,
          -74.22078305,
          -73.98477864,
          -73.85866014,
          -73.98779476,
          -73.95268871,
          -73.94939048,
          -74.07720963,
          -73.9429128,
          -73.93461109,
          -73.92696196,
          -73.90446662,
          -73.90410211,
          -73.79182699,
          -73.96139082,
          -73.93798142,
          -73.93798142,
          -73.94106415,
          -73.92237572,
          -73.87293947
         ],
         "name": "",
         "subplot": "mapbox",
         "type": "densitymapbox"
        }
       ],
       "layout": {
        "coloraxis": {
         "colorscale": [
          [
           0,
           "#0d0887"
          ],
          [
           0.1111111111111111,
           "#46039f"
          ],
          [
           0.2222222222222222,
           "#7201a8"
          ],
          [
           0.3333333333333333,
           "#9c179e"
          ],
          [
           0.4444444444444444,
           "#bd3786"
          ],
          [
           0.5555555555555556,
           "#d8576b"
          ],
          [
           0.6666666666666666,
           "#ed7953"
          ],
          [
           0.7777777777777778,
           "#fb9f3a"
          ],
          [
           0.8888888888888888,
           "#fdca26"
          ],
          [
           1,
           "#f0f921"
          ]
         ]
        },
        "legend": {
         "tracegroupgap": 0
        },
        "mapbox": {
         "center": {
          "lat": 40.732126730784294,
          "lon": -73.92007306632361
         },
         "domain": {
          "x": [
           0,
           1
          ],
          "y": [
           0,
           1
          ]
         },
         "style": "stamen-terrain",
         "zoom": 8
        },
        "margin": {
         "t": 60
        },
        "template": {
         "data": {
          "bar": [
           {
            "error_x": {
             "color": "#2a3f5f"
            },
            "error_y": {
             "color": "#2a3f5f"
            },
            "marker": {
             "line": {
              "color": "#E5ECF6",
              "width": 0.5
             },
             "pattern": {
              "fillmode": "overlay",
              "size": 10,
              "solidity": 0.2
             }
            },
            "type": "bar"
           }
          ],
          "barpolar": [
           {
            "marker": {
             "line": {
              "color": "#E5ECF6",
              "width": 0.5
             },
             "pattern": {
              "fillmode": "overlay",
              "size": 10,
              "solidity": 0.2
             }
            },
            "type": "barpolar"
           }
          ],
          "carpet": [
           {
            "aaxis": {
             "endlinecolor": "#2a3f5f",
             "gridcolor": "white",
             "linecolor": "white",
             "minorgridcolor": "white",
             "startlinecolor": "#2a3f5f"
            },
            "baxis": {
             "endlinecolor": "#2a3f5f",
             "gridcolor": "white",
             "linecolor": "white",
             "minorgridcolor": "white",
             "startlinecolor": "#2a3f5f"
            },
            "type": "carpet"
           }
          ],
          "choropleth": [
           {
            "colorbar": {
             "outlinewidth": 0,
             "ticks": ""
            },
            "type": "choropleth"
           }
          ],
          "contour": [
           {
            "colorbar": {
             "outlinewidth": 0,
             "ticks": ""
            },
            "colorscale": [
             [
              0,
              "#0d0887"
             ],
             [
              0.1111111111111111,
              "#46039f"
             ],
             [
              0.2222222222222222,
              "#7201a8"
             ],
             [
              0.3333333333333333,
              "#9c179e"
             ],
             [
              0.4444444444444444,
              "#bd3786"
             ],
             [
              0.5555555555555556,
              "#d8576b"
             ],
             [
              0.6666666666666666,
              "#ed7953"
             ],
             [
              0.7777777777777778,
              "#fb9f3a"
             ],
             [
              0.8888888888888888,
              "#fdca26"
             ],
             [
              1,
              "#f0f921"
             ]
            ],
            "type": "contour"
           }
          ],
          "contourcarpet": [
           {
            "colorbar": {
             "outlinewidth": 0,
             "ticks": ""
            },
            "type": "contourcarpet"
           }
          ],
          "heatmap": [
           {
            "colorbar": {
             "outlinewidth": 0,
             "ticks": ""
            },
            "colorscale": [
             [
              0,
              "#0d0887"
             ],
             [
              0.1111111111111111,
              "#46039f"
             ],
             [
              0.2222222222222222,
              "#7201a8"
             ],
             [
              0.3333333333333333,
              "#9c179e"
             ],
             [
              0.4444444444444444,
              "#bd3786"
             ],
             [
              0.5555555555555556,
              "#d8576b"
             ],
             [
              0.6666666666666666,
              "#ed7953"
             ],
             [
              0.7777777777777778,
              "#fb9f3a"
             ],
             [
              0.8888888888888888,
              "#fdca26"
             ],
             [
              1,
              "#f0f921"
             ]
            ],
            "type": "heatmap"
           }
          ],
          "heatmapgl": [
           {
            "colorbar": {
             "outlinewidth": 0,
             "ticks": ""
            },
            "colorscale": [
             [
              0,
              "#0d0887"
             ],
             [
              0.1111111111111111,
              "#46039f"
             ],
             [
              0.2222222222222222,
              "#7201a8"
             ],
             [
              0.3333333333333333,
              "#9c179e"
             ],
             [
              0.4444444444444444,
              "#bd3786"
             ],
             [
              0.5555555555555556,
              "#d8576b"
             ],
             [
              0.6666666666666666,
              "#ed7953"
             ],
             [
              0.7777777777777778,
              "#fb9f3a"
             ],
             [
              0.8888888888888888,
              "#fdca26"
             ],
             [
              1,
              "#f0f921"
             ]
            ],
            "type": "heatmapgl"
           }
          ],
          "histogram": [
           {
            "marker": {
             "pattern": {
              "fillmode": "overlay",
              "size": 10,
              "solidity": 0.2
             }
            },
            "type": "histogram"
           }
          ],
          "histogram2d": [
           {
            "colorbar": {
             "outlinewidth": 0,
             "ticks": ""
            },
            "colorscale": [
             [
              0,
              "#0d0887"
             ],
             [
              0.1111111111111111,
              "#46039f"
             ],
             [
              0.2222222222222222,
              "#7201a8"
             ],
             [
              0.3333333333333333,
              "#9c179e"
             ],
             [
              0.4444444444444444,
              "#bd3786"
             ],
             [
              0.5555555555555556,
              "#d8576b"
             ],
             [
              0.6666666666666666,
              "#ed7953"
             ],
             [
              0.7777777777777778,
              "#fb9f3a"
             ],
             [
              0.8888888888888888,
              "#fdca26"
             ],
             [
              1,
              "#f0f921"
             ]
            ],
            "type": "histogram2d"
           }
          ],
          "histogram2dcontour": [
           {
            "colorbar": {
             "outlinewidth": 0,
             "ticks": ""
            },
            "colorscale": [
             [
              0,
              "#0d0887"
             ],
             [
              0.1111111111111111,
              "#46039f"
             ],
             [
              0.2222222222222222,
              "#7201a8"
             ],
             [
              0.3333333333333333,
              "#9c179e"
             ],
             [
              0.4444444444444444,
              "#bd3786"
             ],
             [
              0.5555555555555556,
              "#d8576b"
             ],
             [
              0.6666666666666666,
              "#ed7953"
             ],
             [
              0.7777777777777778,
              "#fb9f3a"
             ],
             [
              0.8888888888888888,
              "#fdca26"
             ],
             [
              1,
              "#f0f921"
             ]
            ],
            "type": "histogram2dcontour"
           }
          ],
          "mesh3d": [
           {
            "colorbar": {
             "outlinewidth": 0,
             "ticks": ""
            },
            "type": "mesh3d"
           }
          ],
          "parcoords": [
           {
            "line": {
             "colorbar": {
              "outlinewidth": 0,
              "ticks": ""
             }
            },
            "type": "parcoords"
           }
          ],
          "pie": [
           {
            "automargin": true,
            "type": "pie"
           }
          ],
          "scatter": [
           {
            "fillpattern": {
             "fillmode": "overlay",
             "size": 10,
             "solidity": 0.2
            },
            "type": "scatter"
           }
          ],
          "scatter3d": [
           {
            "line": {
             "colorbar": {
              "outlinewidth": 0,
              "ticks": ""
             }
            },
            "marker": {
             "colorbar": {
              "outlinewidth": 0,
              "ticks": ""
             }
            },
            "type": "scatter3d"
           }
          ],
          "scattercarpet": [
           {
            "marker": {
             "colorbar": {
              "outlinewidth": 0,
              "ticks": ""
             }
            },
            "type": "scattercarpet"
           }
          ],
          "scattergeo": [
           {
            "marker": {
             "colorbar": {
              "outlinewidth": 0,
              "ticks": ""
             }
            },
            "type": "scattergeo"
           }
          ],
          "scattergl": [
           {
            "marker": {
             "colorbar": {
              "outlinewidth": 0,
              "ticks": ""
             }
            },
            "type": "scattergl"
           }
          ],
          "scattermapbox": [
           {
            "marker": {
             "colorbar": {
              "outlinewidth": 0,
              "ticks": ""
             }
            },
            "type": "scattermapbox"
           }
          ],
          "scatterpolar": [
           {
            "marker": {
             "colorbar": {
              "outlinewidth": 0,
              "ticks": ""
             }
            },
            "type": "scatterpolar"
           }
          ],
          "scatterpolargl": [
           {
            "marker": {
             "colorbar": {
              "outlinewidth": 0,
              "ticks": ""
             }
            },
            "type": "scatterpolargl"
           }
          ],
          "scatterternary": [
           {
            "marker": {
             "colorbar": {
              "outlinewidth": 0,
              "ticks": ""
             }
            },
            "type": "scatterternary"
           }
          ],
          "surface": [
           {
            "colorbar": {
             "outlinewidth": 0,
             "ticks": ""
            },
            "colorscale": [
             [
              0,
              "#0d0887"
             ],
             [
              0.1111111111111111,
              "#46039f"
             ],
             [
              0.2222222222222222,
              "#7201a8"
             ],
             [
              0.3333333333333333,
              "#9c179e"
             ],
             [
              0.4444444444444444,
              "#bd3786"
             ],
             [
              0.5555555555555556,
              "#d8576b"
             ],
             [
              0.6666666666666666,
              "#ed7953"
             ],
             [
              0.7777777777777778,
              "#fb9f3a"
             ],
             [
              0.8888888888888888,
              "#fdca26"
             ],
             [
              1,
              "#f0f921"
             ]
            ],
            "type": "surface"
           }
          ],
          "table": [
           {
            "cells": {
             "fill": {
              "color": "#EBF0F8"
             },
             "line": {
              "color": "white"
             }
            },
            "header": {
             "fill": {
              "color": "#C8D4E3"
             },
             "line": {
              "color": "white"
             }
            },
            "type": "table"
           }
          ]
         },
         "layout": {
          "annotationdefaults": {
           "arrowcolor": "#2a3f5f",
           "arrowhead": 0,
           "arrowwidth": 1
          },
          "autotypenumbers": "strict",
          "coloraxis": {
           "colorbar": {
            "outlinewidth": 0,
            "ticks": ""
           }
          },
          "colorscale": {
           "diverging": [
            [
             0,
             "#8e0152"
            ],
            [
             0.1,
             "#c51b7d"
            ],
            [
             0.2,
             "#de77ae"
            ],
            [
             0.3,
             "#f1b6da"
            ],
            [
             0.4,
             "#fde0ef"
            ],
            [
             0.5,
             "#f7f7f7"
            ],
            [
             0.6,
             "#e6f5d0"
            ],
            [
             0.7,
             "#b8e186"
            ],
            [
             0.8,
             "#7fbc41"
            ],
            [
             0.9,
             "#4d9221"
            ],
            [
             1,
             "#276419"
            ]
           ],
           "sequential": [
            [
             0,
             "#0d0887"
            ],
            [
             0.1111111111111111,
             "#46039f"
            ],
            [
             0.2222222222222222,
             "#7201a8"
            ],
            [
             0.3333333333333333,
             "#9c179e"
            ],
            [
             0.4444444444444444,
             "#bd3786"
            ],
            [
             0.5555555555555556,
             "#d8576b"
            ],
            [
             0.6666666666666666,
             "#ed7953"
            ],
            [
             0.7777777777777778,
             "#fb9f3a"
            ],
            [
             0.8888888888888888,
             "#fdca26"
            ],
            [
             1,
             "#f0f921"
            ]
           ],
           "sequentialminus": [
            [
             0,
             "#0d0887"
            ],
            [
             0.1111111111111111,
             "#46039f"
            ],
            [
             0.2222222222222222,
             "#7201a8"
            ],
            [
             0.3333333333333333,
             "#9c179e"
            ],
            [
             0.4444444444444444,
             "#bd3786"
            ],
            [
             0.5555555555555556,
             "#d8576b"
            ],
            [
             0.6666666666666666,
             "#ed7953"
            ],
            [
             0.7777777777777778,
             "#fb9f3a"
            ],
            [
             0.8888888888888888,
             "#fdca26"
            ],
            [
             1,
             "#f0f921"
            ]
           ]
          },
          "colorway": [
           "#636efa",
           "#EF553B",
           "#00cc96",
           "#ab63fa",
           "#FFA15A",
           "#19d3f3",
           "#FF6692",
           "#B6E880",
           "#FF97FF",
           "#FECB52"
          ],
          "font": {
           "color": "#2a3f5f"
          },
          "geo": {
           "bgcolor": "white",
           "lakecolor": "white",
           "landcolor": "#E5ECF6",
           "showlakes": true,
           "showland": true,
           "subunitcolor": "white"
          },
          "hoverlabel": {
           "align": "left"
          },
          "hovermode": "closest",
          "mapbox": {
           "style": "light"
          },
          "paper_bgcolor": "white",
          "plot_bgcolor": "#E5ECF6",
          "polar": {
           "angularaxis": {
            "gridcolor": "white",
            "linecolor": "white",
            "ticks": ""
           },
           "bgcolor": "#E5ECF6",
           "radialaxis": {
            "gridcolor": "white",
            "linecolor": "white",
            "ticks": ""
           }
          },
          "scene": {
           "xaxis": {
            "backgroundcolor": "#E5ECF6",
            "gridcolor": "white",
            "gridwidth": 2,
            "linecolor": "white",
            "showbackground": true,
            "ticks": "",
            "zerolinecolor": "white"
           },
           "yaxis": {
            "backgroundcolor": "#E5ECF6",
            "gridcolor": "white",
            "gridwidth": 2,
            "linecolor": "white",
            "showbackground": true,
            "ticks": "",
            "zerolinecolor": "white"
           },
           "zaxis": {
            "backgroundcolor": "#E5ECF6",
            "gridcolor": "white",
            "gridwidth": 2,
            "linecolor": "white",
            "showbackground": true,
            "ticks": "",
            "zerolinecolor": "white"
           }
          },
          "shapedefaults": {
           "line": {
            "color": "#2a3f5f"
           }
          },
          "ternary": {
           "aaxis": {
            "gridcolor": "white",
            "linecolor": "white",
            "ticks": ""
           },
           "baxis": {
            "gridcolor": "white",
            "linecolor": "white",
            "ticks": ""
           },
           "bgcolor": "#E5ECF6",
           "caxis": {
            "gridcolor": "white",
            "linecolor": "white",
            "ticks": ""
           }
          },
          "title": {
           "x": 0.05
          },
          "xaxis": {
           "automargin": true,
           "gridcolor": "white",
           "linecolor": "white",
           "ticks": "",
           "title": {
            "standoff": 15
           },
           "zerolinecolor": "white",
           "zerolinewidth": 2
          },
          "yaxis": {
           "automargin": true,
           "gridcolor": "white",
           "linecolor": "white",
           "ticks": "",
           "title": {
            "standoff": 15
           },
           "zerolinecolor": "white",
           "zerolinewidth": 2
          }
         }
        }
       }
      },
      "text/html": [
       "<div>                            <div id=\"aad41167-9fbc-4726-85f5-4a1c94a3e0be\" class=\"plotly-graph-div\" style=\"height:525px; width:100%;\"></div>            <script type=\"text/javascript\">                require([\"plotly\"], function(Plotly) {                    window.PLOTLYENV=window.PLOTLYENV || {};                                    if (document.getElementById(\"aad41167-9fbc-4726-85f5-4a1c94a3e0be\")) {                    Plotly.newPlot(                        \"aad41167-9fbc-4726-85f5-4a1c94a3e0be\",                        [{\"coloraxis\":\"coloraxis\",\"hovertemplate\":\"Latitude=%{lat}<br>Longitude=%{lon}<extra></extra>\",\"lat\":[40.69528791,40.6834668,40.67229641,40.78872124,40.88704255,40.64733013,40.85603281,40.70060164,40.67016743,40.66888377,40.6713371,40.655244,40.71812038,40.83482583,40.79945564,40.76926549,40.5797802,40.71984033,40.84054162,40.82275867,40.64806092,40.86236598,40.79679044,40.67278984,40.68214891,40.82988489,40.65269787,40.69033059,40.82682868,40.67572775,40.88731363,40.6791632,40.83842418,40.87512101,40.80837424,40.63900517,40.66305655,40.78929506,40.85359837,40.63637696,40.82525899,40.90026065,40.66609068,40.66504325,40.63698203,40.84425887,40.6153262,40.72265359,40.68379864,40.70946943,40.84244507,40.81606827,40.84244507,40.81566989,40.66757617,40.65941698,40.87124859,40.63438391,40.8218896,40.6938013,40.82965936,40.71554359,40.70117125,40.63676218,40.67608952,40.66081644,40.67213267,40.6904918,40.83550462,40.69420386,40.70451767,40.64870677,40.69737871,40.87531145,40.80404601,40.7282508,40.70122876,40.83246995,40.67192673,40.86917339,40.63463092,40.70385852,40.6996965,40.88932035,40.85131609,40.59549237,40.6591446,40.71856407,40.77287575,40.59511361,40.82788869,40.6328016,40.82474721,40.67334104,40.79814609,40.66416202,40.75018944,40.67429344,40.67294517,40.66502269,40.7606739,40.75411979,40.67445925,40.77872224,40.59867294,40.59302472,40.64189198,40.81943534,40.82179908,40.84942679,40.67135982,40.64994445,40.8449101,40.79581483,40.86502854,40.69421996,40.69421996,40.69421996,40.84413995,40.59657995,40.82887373,40.70998449,40.80175558,40.86033098,40.86080918,40.83707289,40.63867469,40.67989012,40.86374406,40.6154234,40.6154234,40.65915667,40.70577536,40.67141166,40.64412879,40.8867835,40.6878789,40.74820747,40.73952866,40.64592603,40.85453516,40.69850389,40.82735547,40.7030749,40.67141166,40.79674894,40.86122247,40.86012445,40.63956595,40.82368294,40.67608315,40.65321433,40.80038483,40.84598479,40.65114909,40.66123489,40.66123489,40.67844139,40.7004534,40.65236233,40.66429776,40.7528629,40.62648719,40.64467723,40.70448957,40.70936905,40.86723331,40.68380918,40.86469433,40.90133218,40.64806092,40.74260518,40.84264633,40.65137233,40.83222468,40.66806754,40.66757617,40.66757617,40.64098373,40.84420995,40.87058038,40.65737492,40.65269338,40.83898607,40.63597097,40.53929611,40.69986085,40.84835341,40.57544277,40.64364733,40.68786432,40.64501452,40.68561057,40.6760516,40.67841025,40.86350728,40.85804503,40.69736799,40.61271405,40.59516181,40.59516181,40.81087724,40.85214119,40.87755443],\"lon\":[-73.81457062,-73.94851407,-73.92940561,-73.93999677,-73.85412946,-73.89699956,-73.88844881,-73.85456625,-73.93099399,-73.93250572,-73.93645061,-73.95978043,-73.95743013,-73.91597788,-73.96643661,-73.93308632,-73.99842466,-73.9624002,-73.86292328,-73.91048313,-73.94637199,-73.89254513,-73.93940441,-73.77365162,-73.92740856,-73.93676171,-73.96284167,-73.94095434,-73.9253465,-73.9214959,-73.84727176,-73.89009306,-73.86653076,-73.90899518,-73.92699636,-73.95785893,-73.92364105,-73.94031405,-73.90057688,-73.9615825,-73.92579269,-73.84545143,-73.87736505,-73.89213488,-73.97619251,-73.8810629,-74.09949614,-73.84043373,-73.9618905,-73.94013664,-73.91219867,-73.90855209,-73.91219867,-73.93656929,-73.90729576,-73.90860103,-73.83698932,-73.92271188,-73.85926192,-73.97440522,-73.9042442,-73.74776469,-73.83526651,-73.92057613,-73.90612667,-73.91528155,-73.90749852,-73.93953346,-73.93918846,-73.90807734,-73.77133659,-73.90513094,-73.91784246,-73.84754521,-73.9366201,-74.00537373,-73.92461076,-73.90424377,-73.93083356,-73.89022012,-73.95319951,-73.9443759,-73.91205127,-73.90030284,-73.90211652,-73.93515808,-73.96054218,-73.98820145,-73.93002468,-73.75954053,-73.8751915,-73.95012759,-73.89885313,-73.93208303,-73.95035767,-73.94681682,-73.89008415,-73.96176615,-73.96892643,-73.95711076,-73.97156754,-73.9902128,-73.9389099,-73.81234155,-73.75790367,-73.97908872,-74.00649821,-73.91117406,-73.91937254,-73.91112316,-73.88181102,-73.96159991,-73.89009752,-73.93710107,-73.89276136,-73.9821186,-73.9821186,-73.9821186,-73.90038862,-73.90794166,-73.90680365,-73.99644134,-73.93426006,-73.91046148,-73.92691711,-73.85015894,-73.98833088,-73.82001788,-73.89888781,-74.08435036,-74.08435036,-73.91640098,-73.93100763,-73.88151172,-73.94305279,-73.82567107,-73.97834863,-73.82007151,-73.98967366,-73.96144367,-73.89840297,-73.79158542,-73.86018983,-73.80791637,-73.88151172,-73.92919418,-73.86020179,-73.9028302,-74.01785883,-73.91689163,-73.97165768,-73.9204304,-73.95470111,-73.90746279,-73.89503679,-73.74138486,-73.74138486,-73.94911642,-73.91482726,-73.92703012,-73.90258921,-73.99298133,-73.96069478,-73.96168943,-73.96459091,-73.89868193,-73.92091551,-73.98297591,-73.89957691,-73.84221138,-73.94637199,-73.91549152,-73.89368292,-73.96344425,-73.90637977,-73.90401838,-73.90729576,-73.90729576,-74.08692657,-73.85508358,-73.86824515,-73.92373765,-73.91360164,-73.92277054,-74.01265515,-74.22078305,-73.98477864,-73.85866014,-73.98779476,-73.95268871,-73.94939048,-74.07720963,-73.9429128,-73.93461109,-73.92696196,-73.90446662,-73.90410211,-73.79182699,-73.96139082,-73.93798142,-73.93798142,-73.94106415,-73.92237572,-73.87293947],\"name\":\"\",\"subplot\":\"mapbox\",\"type\":\"densitymapbox\"}],                        {\"template\":{\"data\":{\"histogram2dcontour\":[{\"type\":\"histogram2dcontour\",\"colorbar\":{\"outlinewidth\":0,\"ticks\":\"\"},\"colorscale\":[[0.0,\"#0d0887\"],[0.1111111111111111,\"#46039f\"],[0.2222222222222222,\"#7201a8\"],[0.3333333333333333,\"#9c179e\"],[0.4444444444444444,\"#bd3786\"],[0.5555555555555556,\"#d8576b\"],[0.6666666666666666,\"#ed7953\"],[0.7777777777777778,\"#fb9f3a\"],[0.8888888888888888,\"#fdca26\"],[1.0,\"#f0f921\"]]}],\"choropleth\":[{\"type\":\"choropleth\",\"colorbar\":{\"outlinewidth\":0,\"ticks\":\"\"}}],\"histogram2d\":[{\"type\":\"histogram2d\",\"colorbar\":{\"outlinewidth\":0,\"ticks\":\"\"},\"colorscale\":[[0.0,\"#0d0887\"],[0.1111111111111111,\"#46039f\"],[0.2222222222222222,\"#7201a8\"],[0.3333333333333333,\"#9c179e\"],[0.4444444444444444,\"#bd3786\"],[0.5555555555555556,\"#d8576b\"],[0.6666666666666666,\"#ed7953\"],[0.7777777777777778,\"#fb9f3a\"],[0.8888888888888888,\"#fdca26\"],[1.0,\"#f0f921\"]]}],\"heatmap\":[{\"type\":\"heatmap\",\"colorbar\":{\"outlinewidth\":0,\"ticks\":\"\"},\"colorscale\":[[0.0,\"#0d0887\"],[0.1111111111111111,\"#46039f\"],[0.2222222222222222,\"#7201a8\"],[0.3333333333333333,\"#9c179e\"],[0.4444444444444444,\"#bd3786\"],[0.5555555555555556,\"#d8576b\"],[0.6666666666666666,\"#ed7953\"],[0.7777777777777778,\"#fb9f3a\"],[0.8888888888888888,\"#fdca26\"],[1.0,\"#f0f921\"]]}],\"heatmapgl\":[{\"type\":\"heatmapgl\",\"colorbar\":{\"outlinewidth\":0,\"ticks\":\"\"},\"colorscale\":[[0.0,\"#0d0887\"],[0.1111111111111111,\"#46039f\"],[0.2222222222222222,\"#7201a8\"],[0.3333333333333333,\"#9c179e\"],[0.4444444444444444,\"#bd3786\"],[0.5555555555555556,\"#d8576b\"],[0.6666666666666666,\"#ed7953\"],[0.7777777777777778,\"#fb9f3a\"],[0.8888888888888888,\"#fdca26\"],[1.0,\"#f0f921\"]]}],\"contourcarpet\":[{\"type\":\"contourcarpet\",\"colorbar\":{\"outlinewidth\":0,\"ticks\":\"\"}}],\"contour\":[{\"type\":\"contour\",\"colorbar\":{\"outlinewidth\":0,\"ticks\":\"\"},\"colorscale\":[[0.0,\"#0d0887\"],[0.1111111111111111,\"#46039f\"],[0.2222222222222222,\"#7201a8\"],[0.3333333333333333,\"#9c179e\"],[0.4444444444444444,\"#bd3786\"],[0.5555555555555556,\"#d8576b\"],[0.6666666666666666,\"#ed7953\"],[0.7777777777777778,\"#fb9f3a\"],[0.8888888888888888,\"#fdca26\"],[1.0,\"#f0f921\"]]}],\"surface\":[{\"type\":\"surface\",\"colorbar\":{\"outlinewidth\":0,\"ticks\":\"\"},\"colorscale\":[[0.0,\"#0d0887\"],[0.1111111111111111,\"#46039f\"],[0.2222222222222222,\"#7201a8\"],[0.3333333333333333,\"#9c179e\"],[0.4444444444444444,\"#bd3786\"],[0.5555555555555556,\"#d8576b\"],[0.6666666666666666,\"#ed7953\"],[0.7777777777777778,\"#fb9f3a\"],[0.8888888888888888,\"#fdca26\"],[1.0,\"#f0f921\"]]}],\"mesh3d\":[{\"type\":\"mesh3d\",\"colorbar\":{\"outlinewidth\":0,\"ticks\":\"\"}}],\"scatter\":[{\"fillpattern\":{\"fillmode\":\"overlay\",\"size\":10,\"solidity\":0.2},\"type\":\"scatter\"}],\"parcoords\":[{\"type\":\"parcoords\",\"line\":{\"colorbar\":{\"outlinewidth\":0,\"ticks\":\"\"}}}],\"scatterpolargl\":[{\"type\":\"scatterpolargl\",\"marker\":{\"colorbar\":{\"outlinewidth\":0,\"ticks\":\"\"}}}],\"bar\":[{\"error_x\":{\"color\":\"#2a3f5f\"},\"error_y\":{\"color\":\"#2a3f5f\"},\"marker\":{\"line\":{\"color\":\"#E5ECF6\",\"width\":0.5},\"pattern\":{\"fillmode\":\"overlay\",\"size\":10,\"solidity\":0.2}},\"type\":\"bar\"}],\"scattergeo\":[{\"type\":\"scattergeo\",\"marker\":{\"colorbar\":{\"outlinewidth\":0,\"ticks\":\"\"}}}],\"scatterpolar\":[{\"type\":\"scatterpolar\",\"marker\":{\"colorbar\":{\"outlinewidth\":0,\"ticks\":\"\"}}}],\"histogram\":[{\"marker\":{\"pattern\":{\"fillmode\":\"overlay\",\"size\":10,\"solidity\":0.2}},\"type\":\"histogram\"}],\"scattergl\":[{\"type\":\"scattergl\",\"marker\":{\"colorbar\":{\"outlinewidth\":0,\"ticks\":\"\"}}}],\"scatter3d\":[{\"type\":\"scatter3d\",\"line\":{\"colorbar\":{\"outlinewidth\":0,\"ticks\":\"\"}},\"marker\":{\"colorbar\":{\"outlinewidth\":0,\"ticks\":\"\"}}}],\"scattermapbox\":[{\"type\":\"scattermapbox\",\"marker\":{\"colorbar\":{\"outlinewidth\":0,\"ticks\":\"\"}}}],\"scatterternary\":[{\"type\":\"scatterternary\",\"marker\":{\"colorbar\":{\"outlinewidth\":0,\"ticks\":\"\"}}}],\"scattercarpet\":[{\"type\":\"scattercarpet\",\"marker\":{\"colorbar\":{\"outlinewidth\":0,\"ticks\":\"\"}}}],\"carpet\":[{\"aaxis\":{\"endlinecolor\":\"#2a3f5f\",\"gridcolor\":\"white\",\"linecolor\":\"white\",\"minorgridcolor\":\"white\",\"startlinecolor\":\"#2a3f5f\"},\"baxis\":{\"endlinecolor\":\"#2a3f5f\",\"gridcolor\":\"white\",\"linecolor\":\"white\",\"minorgridcolor\":\"white\",\"startlinecolor\":\"#2a3f5f\"},\"type\":\"carpet\"}],\"table\":[{\"cells\":{\"fill\":{\"color\":\"#EBF0F8\"},\"line\":{\"color\":\"white\"}},\"header\":{\"fill\":{\"color\":\"#C8D4E3\"},\"line\":{\"color\":\"white\"}},\"type\":\"table\"}],\"barpolar\":[{\"marker\":{\"line\":{\"color\":\"#E5ECF6\",\"width\":0.5},\"pattern\":{\"fillmode\":\"overlay\",\"size\":10,\"solidity\":0.2}},\"type\":\"barpolar\"}],\"pie\":[{\"automargin\":true,\"type\":\"pie\"}]},\"layout\":{\"autotypenumbers\":\"strict\",\"colorway\":[\"#636efa\",\"#EF553B\",\"#00cc96\",\"#ab63fa\",\"#FFA15A\",\"#19d3f3\",\"#FF6692\",\"#B6E880\",\"#FF97FF\",\"#FECB52\"],\"font\":{\"color\":\"#2a3f5f\"},\"hovermode\":\"closest\",\"hoverlabel\":{\"align\":\"left\"},\"paper_bgcolor\":\"white\",\"plot_bgcolor\":\"#E5ECF6\",\"polar\":{\"bgcolor\":\"#E5ECF6\",\"angularaxis\":{\"gridcolor\":\"white\",\"linecolor\":\"white\",\"ticks\":\"\"},\"radialaxis\":{\"gridcolor\":\"white\",\"linecolor\":\"white\",\"ticks\":\"\"}},\"ternary\":{\"bgcolor\":\"#E5ECF6\",\"aaxis\":{\"gridcolor\":\"white\",\"linecolor\":\"white\",\"ticks\":\"\"},\"baxis\":{\"gridcolor\":\"white\",\"linecolor\":\"white\",\"ticks\":\"\"},\"caxis\":{\"gridcolor\":\"white\",\"linecolor\":\"white\",\"ticks\":\"\"}},\"coloraxis\":{\"colorbar\":{\"outlinewidth\":0,\"ticks\":\"\"}},\"colorscale\":{\"sequential\":[[0.0,\"#0d0887\"],[0.1111111111111111,\"#46039f\"],[0.2222222222222222,\"#7201a8\"],[0.3333333333333333,\"#9c179e\"],[0.4444444444444444,\"#bd3786\"],[0.5555555555555556,\"#d8576b\"],[0.6666666666666666,\"#ed7953\"],[0.7777777777777778,\"#fb9f3a\"],[0.8888888888888888,\"#fdca26\"],[1.0,\"#f0f921\"]],\"sequentialminus\":[[0.0,\"#0d0887\"],[0.1111111111111111,\"#46039f\"],[0.2222222222222222,\"#7201a8\"],[0.3333333333333333,\"#9c179e\"],[0.4444444444444444,\"#bd3786\"],[0.5555555555555556,\"#d8576b\"],[0.6666666666666666,\"#ed7953\"],[0.7777777777777778,\"#fb9f3a\"],[0.8888888888888888,\"#fdca26\"],[1.0,\"#f0f921\"]],\"diverging\":[[0,\"#8e0152\"],[0.1,\"#c51b7d\"],[0.2,\"#de77ae\"],[0.3,\"#f1b6da\"],[0.4,\"#fde0ef\"],[0.5,\"#f7f7f7\"],[0.6,\"#e6f5d0\"],[0.7,\"#b8e186\"],[0.8,\"#7fbc41\"],[0.9,\"#4d9221\"],[1,\"#276419\"]]},\"xaxis\":{\"gridcolor\":\"white\",\"linecolor\":\"white\",\"ticks\":\"\",\"title\":{\"standoff\":15},\"zerolinecolor\":\"white\",\"automargin\":true,\"zerolinewidth\":2},\"yaxis\":{\"gridcolor\":\"white\",\"linecolor\":\"white\",\"ticks\":\"\",\"title\":{\"standoff\":15},\"zerolinecolor\":\"white\",\"automargin\":true,\"zerolinewidth\":2},\"scene\":{\"xaxis\":{\"backgroundcolor\":\"#E5ECF6\",\"gridcolor\":\"white\",\"linecolor\":\"white\",\"showbackground\":true,\"ticks\":\"\",\"zerolinecolor\":\"white\",\"gridwidth\":2},\"yaxis\":{\"backgroundcolor\":\"#E5ECF6\",\"gridcolor\":\"white\",\"linecolor\":\"white\",\"showbackground\":true,\"ticks\":\"\",\"zerolinecolor\":\"white\",\"gridwidth\":2},\"zaxis\":{\"backgroundcolor\":\"#E5ECF6\",\"gridcolor\":\"white\",\"linecolor\":\"white\",\"showbackground\":true,\"ticks\":\"\",\"zerolinecolor\":\"white\",\"gridwidth\":2}},\"shapedefaults\":{\"line\":{\"color\":\"#2a3f5f\"}},\"annotationdefaults\":{\"arrowcolor\":\"#2a3f5f\",\"arrowhead\":0,\"arrowwidth\":1},\"geo\":{\"bgcolor\":\"white\",\"landcolor\":\"#E5ECF6\",\"subunitcolor\":\"white\",\"showland\":true,\"showlakes\":true,\"lakecolor\":\"white\"},\"title\":{\"x\":0.05},\"mapbox\":{\"style\":\"light\"}}},\"mapbox\":{\"domain\":{\"x\":[0.0,1.0],\"y\":[0.0,1.0]},\"center\":{\"lat\":40.732126730784294,\"lon\":-73.92007306632361},\"zoom\":8,\"style\":\"stamen-terrain\"},\"coloraxis\":{\"colorscale\":[[0.0,\"#0d0887\"],[0.1111111111111111,\"#46039f\"],[0.2222222222222222,\"#7201a8\"],[0.3333333333333333,\"#9c179e\"],[0.4444444444444444,\"#bd3786\"],[0.5555555555555556,\"#d8576b\"],[0.6666666666666666,\"#ed7953\"],[0.7777777777777778,\"#fb9f3a\"],[0.8888888888888888,\"#fdca26\"],[1.0,\"#f0f921\"]]},\"legend\":{\"tracegroupgap\":0},\"margin\":{\"t\":60}},                        {\"responsive\": true}                    ).then(function(){\n",
       "                            \n",
       "var gd = document.getElementById('aad41167-9fbc-4726-85f5-4a1c94a3e0be');\n",
       "var x = new MutationObserver(function (mutations, observer) {{\n",
       "        var display = window.getComputedStyle(gd).display;\n",
       "        if (!display || display === 'none') {{\n",
       "            console.log([gd, 'removed!']);\n",
       "            Plotly.purge(gd);\n",
       "            observer.disconnect();\n",
       "        }}\n",
       "}});\n",
       "\n",
       "// Listen for the removal of the full notebook cells\n",
       "var notebookContainer = gd.closest('#notebook-container');\n",
       "if (notebookContainer) {{\n",
       "    x.observe(notebookContainer, {childList: true});\n",
       "}}\n",
       "\n",
       "// Listen for the clearing of the current output cell\n",
       "var outputEl = gd.closest('.output');\n",
       "if (outputEl) {{\n",
       "    x.observe(outputEl, {childList: true});\n",
       "}}\n",
       "\n",
       "                        })                };                });            </script>        </div>"
      ]
     },
     "metadata": {},
     "output_type": "display_data"
    }
   ],
   "source": [
    "import plotly.express as px\n",
    "fig = px.density_mapbox(secondhalf_murders, lat='Latitude', lon='Longitude',\n",
    "                        mapbox_style=\"stamen-terrain\")\n",
    " \n",
    "fig"
   ]
  },
  {
   "cell_type": "code",
   "execution_count": 84,
   "id": "f1fb08f6",
   "metadata": {},
   "outputs": [
    {
     "data": {
      "text/html": [
       "<div>\n",
       "<style scoped>\n",
       "    .dataframe tbody tr th:only-of-type {\n",
       "        vertical-align: middle;\n",
       "    }\n",
       "\n",
       "    .dataframe tbody tr th {\n",
       "        vertical-align: top;\n",
       "    }\n",
       "\n",
       "    .dataframe thead th {\n",
       "        text-align: right;\n",
       "    }\n",
       "</style>\n",
       "<table border=\"1\" class=\"dataframe\">\n",
       "  <thead>\n",
       "    <tr style=\"text-align: right;\">\n",
       "      <th></th>\n",
       "      <th>RPT_DT</th>\n",
       "      <th>OFNS_DESC</th>\n",
       "      <th>LAW_CAT_CD</th>\n",
       "      <th>BORO_NM</th>\n",
       "      <th>Latitude</th>\n",
       "      <th>Longitude</th>\n",
       "      <th>Month</th>\n",
       "    </tr>\n",
       "  </thead>\n",
       "  <tbody>\n",
       "    <tr>\n",
       "      <th>283330</th>\n",
       "      <td>2015-06-07</td>\n",
       "      <td>MURDER &amp; NON-NEGL. MANSLAUGHTER</td>\n",
       "      <td>FELONY</td>\n",
       "      <td>BRONX</td>\n",
       "      <td>40.887043</td>\n",
       "      <td>-73.854129</td>\n",
       "      <td>6</td>\n",
       "    </tr>\n",
       "    <tr>\n",
       "      <th>280146</th>\n",
       "      <td>2015-06-09</td>\n",
       "      <td>MURDER &amp; NON-NEGL. MANSLAUGHTER</td>\n",
       "      <td>FELONY</td>\n",
       "      <td>BRONX</td>\n",
       "      <td>40.856033</td>\n",
       "      <td>-73.888449</td>\n",
       "      <td>6</td>\n",
       "    </tr>\n",
       "    <tr>\n",
       "      <th>271705</th>\n",
       "      <td>2015-06-16</td>\n",
       "      <td>MURDER &amp; NON-NEGL. MANSLAUGHTER</td>\n",
       "      <td>FELONY</td>\n",
       "      <td>BRONX</td>\n",
       "      <td>40.834826</td>\n",
       "      <td>-73.915978</td>\n",
       "      <td>6</td>\n",
       "    </tr>\n",
       "    <tr>\n",
       "      <th>258181</th>\n",
       "      <td>2015-06-25</td>\n",
       "      <td>MURDER &amp; NON-NEGL. MANSLAUGHTER</td>\n",
       "      <td>FELONY</td>\n",
       "      <td>BRONX</td>\n",
       "      <td>40.840542</td>\n",
       "      <td>-73.862923</td>\n",
       "      <td>6</td>\n",
       "    </tr>\n",
       "    <tr>\n",
       "      <th>257436</th>\n",
       "      <td>2015-06-25</td>\n",
       "      <td>MURDER &amp; NON-NEGL. MANSLAUGHTER</td>\n",
       "      <td>FELONY</td>\n",
       "      <td>BRONX</td>\n",
       "      <td>40.822759</td>\n",
       "      <td>-73.910483</td>\n",
       "      <td>6</td>\n",
       "    </tr>\n",
       "    <tr>\n",
       "      <th>255859</th>\n",
       "      <td>2015-06-26</td>\n",
       "      <td>MURDER &amp; NON-NEGL. MANSLAUGHTER</td>\n",
       "      <td>FELONY</td>\n",
       "      <td>BRONX</td>\n",
       "      <td>40.862366</td>\n",
       "      <td>-73.892545</td>\n",
       "      <td>6</td>\n",
       "    </tr>\n",
       "    <tr>\n",
       "      <th>247176</th>\n",
       "      <td>2015-07-03</td>\n",
       "      <td>MURDER &amp; NON-NEGL. MANSLAUGHTER</td>\n",
       "      <td>FELONY</td>\n",
       "      <td>BRONX</td>\n",
       "      <td>40.826829</td>\n",
       "      <td>-73.925347</td>\n",
       "      <td>7</td>\n",
       "    </tr>\n",
       "    <tr>\n",
       "      <th>243468</th>\n",
       "      <td>2015-07-05</td>\n",
       "      <td>MURDER &amp; NON-NEGL. MANSLAUGHTER</td>\n",
       "      <td>FELONY</td>\n",
       "      <td>BRONX</td>\n",
       "      <td>40.887314</td>\n",
       "      <td>-73.847272</td>\n",
       "      <td>7</td>\n",
       "    </tr>\n",
       "    <tr>\n",
       "      <th>241488</th>\n",
       "      <td>2015-07-07</td>\n",
       "      <td>MURDER &amp; NON-NEGL. MANSLAUGHTER</td>\n",
       "      <td>FELONY</td>\n",
       "      <td>BRONX</td>\n",
       "      <td>40.838424</td>\n",
       "      <td>-73.866531</td>\n",
       "      <td>7</td>\n",
       "    </tr>\n",
       "    <tr>\n",
       "      <th>240117</th>\n",
       "      <td>2015-07-08</td>\n",
       "      <td>MURDER &amp; NON-NEGL. MANSLAUGHTER</td>\n",
       "      <td>FELONY</td>\n",
       "      <td>BRONX</td>\n",
       "      <td>40.875121</td>\n",
       "      <td>-73.908995</td>\n",
       "      <td>7</td>\n",
       "    </tr>\n",
       "    <tr>\n",
       "      <th>238092</th>\n",
       "      <td>2015-07-09</td>\n",
       "      <td>MURDER &amp; NON-NEGL. MANSLAUGHTER</td>\n",
       "      <td>FELONY</td>\n",
       "      <td>BRONX</td>\n",
       "      <td>40.808374</td>\n",
       "      <td>-73.926996</td>\n",
       "      <td>7</td>\n",
       "    </tr>\n",
       "    <tr>\n",
       "      <th>231302</th>\n",
       "      <td>2015-07-14</td>\n",
       "      <td>MURDER &amp; NON-NEGL. MANSLAUGHTER</td>\n",
       "      <td>FELONY</td>\n",
       "      <td>BRONX</td>\n",
       "      <td>40.853598</td>\n",
       "      <td>-73.900577</td>\n",
       "      <td>7</td>\n",
       "    </tr>\n",
       "    <tr>\n",
       "      <th>228509</th>\n",
       "      <td>2015-07-16</td>\n",
       "      <td>MURDER &amp; NON-NEGL. MANSLAUGHTER</td>\n",
       "      <td>FELONY</td>\n",
       "      <td>BRONX</td>\n",
       "      <td>40.825259</td>\n",
       "      <td>-73.925793</td>\n",
       "      <td>7</td>\n",
       "    </tr>\n",
       "    <tr>\n",
       "      <th>226772</th>\n",
       "      <td>2015-07-17</td>\n",
       "      <td>MURDER &amp; NON-NEGL. MANSLAUGHTER</td>\n",
       "      <td>FELONY</td>\n",
       "      <td>BRONX</td>\n",
       "      <td>40.900261</td>\n",
       "      <td>-73.845451</td>\n",
       "      <td>7</td>\n",
       "    </tr>\n",
       "    <tr>\n",
       "      <th>224963</th>\n",
       "      <td>2015-07-19</td>\n",
       "      <td>MURDER &amp; NON-NEGL. MANSLAUGHTER</td>\n",
       "      <td>FELONY</td>\n",
       "      <td>BRONX</td>\n",
       "      <td>40.844259</td>\n",
       "      <td>-73.881063</td>\n",
       "      <td>7</td>\n",
       "    </tr>\n",
       "    <tr>\n",
       "      <th>218289</th>\n",
       "      <td>2015-07-23</td>\n",
       "      <td>MURDER &amp; NON-NEGL. MANSLAUGHTER</td>\n",
       "      <td>FELONY</td>\n",
       "      <td>BRONX</td>\n",
       "      <td>40.842445</td>\n",
       "      <td>-73.912199</td>\n",
       "      <td>7</td>\n",
       "    </tr>\n",
       "    <tr>\n",
       "      <th>218672</th>\n",
       "      <td>2015-07-23</td>\n",
       "      <td>MURDER &amp; NON-NEGL. MANSLAUGHTER</td>\n",
       "      <td>FELONY</td>\n",
       "      <td>BRONX</td>\n",
       "      <td>40.816068</td>\n",
       "      <td>-73.908552</td>\n",
       "      <td>7</td>\n",
       "    </tr>\n",
       "    <tr>\n",
       "      <th>218290</th>\n",
       "      <td>2015-07-23</td>\n",
       "      <td>MURDER &amp; NON-NEGL. MANSLAUGHTER</td>\n",
       "      <td>FELONY</td>\n",
       "      <td>BRONX</td>\n",
       "      <td>40.842445</td>\n",
       "      <td>-73.912199</td>\n",
       "      <td>7</td>\n",
       "    </tr>\n",
       "    <tr>\n",
       "      <th>214345</th>\n",
       "      <td>2015-07-26</td>\n",
       "      <td>MURDER &amp; NON-NEGL. MANSLAUGHTER</td>\n",
       "      <td>FELONY</td>\n",
       "      <td>BRONX</td>\n",
       "      <td>40.871249</td>\n",
       "      <td>-73.836989</td>\n",
       "      <td>7</td>\n",
       "    </tr>\n",
       "    <tr>\n",
       "      <th>204464</th>\n",
       "      <td>2015-08-02</td>\n",
       "      <td>MURDER &amp; NON-NEGL. MANSLAUGHTER</td>\n",
       "      <td>FELONY</td>\n",
       "      <td>BRONX</td>\n",
       "      <td>40.821890</td>\n",
       "      <td>-73.859262</td>\n",
       "      <td>8</td>\n",
       "    </tr>\n",
       "    <tr>\n",
       "      <th>200983</th>\n",
       "      <td>2015-08-04</td>\n",
       "      <td>MURDER &amp; NON-NEGL. MANSLAUGHTER</td>\n",
       "      <td>FELONY</td>\n",
       "      <td>BRONX</td>\n",
       "      <td>40.829659</td>\n",
       "      <td>-73.904244</td>\n",
       "      <td>8</td>\n",
       "    </tr>\n",
       "    <tr>\n",
       "      <th>177309</th>\n",
       "      <td>2015-08-20</td>\n",
       "      <td>MURDER &amp; NON-NEGL. MANSLAUGHTER</td>\n",
       "      <td>FELONY</td>\n",
       "      <td>BRONX</td>\n",
       "      <td>40.875311</td>\n",
       "      <td>-73.847545</td>\n",
       "      <td>8</td>\n",
       "    </tr>\n",
       "    <tr>\n",
       "      <th>174893</th>\n",
       "      <td>2015-08-22</td>\n",
       "      <td>MURDER &amp; NON-NEGL. MANSLAUGHTER</td>\n",
       "      <td>FELONY</td>\n",
       "      <td>BRONX</td>\n",
       "      <td>40.832470</td>\n",
       "      <td>-73.904244</td>\n",
       "      <td>8</td>\n",
       "    </tr>\n",
       "    <tr>\n",
       "      <th>174626</th>\n",
       "      <td>2015-08-22</td>\n",
       "      <td>MURDER &amp; NON-NEGL. MANSLAUGHTER</td>\n",
       "      <td>FELONY</td>\n",
       "      <td>BRONX</td>\n",
       "      <td>40.869173</td>\n",
       "      <td>-73.890220</td>\n",
       "      <td>8</td>\n",
       "    </tr>\n",
       "    <tr>\n",
       "      <th>170299</th>\n",
       "      <td>2015-08-25</td>\n",
       "      <td>MURDER &amp; NON-NEGL. MANSLAUGHTER</td>\n",
       "      <td>FELONY</td>\n",
       "      <td>BRONX</td>\n",
       "      <td>40.889320</td>\n",
       "      <td>-73.900303</td>\n",
       "      <td>8</td>\n",
       "    </tr>\n",
       "    <tr>\n",
       "      <th>168634</th>\n",
       "      <td>2015-08-26</td>\n",
       "      <td>MURDER &amp; NON-NEGL. MANSLAUGHTER</td>\n",
       "      <td>FELONY</td>\n",
       "      <td>BRONX</td>\n",
       "      <td>40.851316</td>\n",
       "      <td>-73.902117</td>\n",
       "      <td>8</td>\n",
       "    </tr>\n",
       "    <tr>\n",
       "      <th>162649</th>\n",
       "      <td>2015-08-30</td>\n",
       "      <td>MURDER &amp; NON-NEGL. MANSLAUGHTER</td>\n",
       "      <td>FELONY</td>\n",
       "      <td>BRONX</td>\n",
       "      <td>40.827889</td>\n",
       "      <td>-73.875191</td>\n",
       "      <td>8</td>\n",
       "    </tr>\n",
       "    <tr>\n",
       "      <th>160494</th>\n",
       "      <td>2015-09-01</td>\n",
       "      <td>MURDER &amp; NON-NEGL. MANSLAUGHTER</td>\n",
       "      <td>FELONY</td>\n",
       "      <td>BRONX</td>\n",
       "      <td>40.824747</td>\n",
       "      <td>-73.898853</td>\n",
       "      <td>9</td>\n",
       "    </tr>\n",
       "    <tr>\n",
       "      <th>141825</th>\n",
       "      <td>2015-09-14</td>\n",
       "      <td>MURDER &amp; NON-NEGL. MANSLAUGHTER</td>\n",
       "      <td>FELONY</td>\n",
       "      <td>BRONX</td>\n",
       "      <td>40.819435</td>\n",
       "      <td>-73.911174</td>\n",
       "      <td>9</td>\n",
       "    </tr>\n",
       "    <tr>\n",
       "      <th>140760</th>\n",
       "      <td>2015-09-15</td>\n",
       "      <td>MURDER &amp; NON-NEGL. MANSLAUGHTER</td>\n",
       "      <td>FELONY</td>\n",
       "      <td>BRONX</td>\n",
       "      <td>40.821799</td>\n",
       "      <td>-73.919373</td>\n",
       "      <td>9</td>\n",
       "    </tr>\n",
       "    <tr>\n",
       "      <th>139145</th>\n",
       "      <td>2015-09-16</td>\n",
       "      <td>MURDER &amp; NON-NEGL. MANSLAUGHTER</td>\n",
       "      <td>FELONY</td>\n",
       "      <td>BRONX</td>\n",
       "      <td>40.849427</td>\n",
       "      <td>-73.911123</td>\n",
       "      <td>9</td>\n",
       "    </tr>\n",
       "    <tr>\n",
       "      <th>134576</th>\n",
       "      <td>2015-09-19</td>\n",
       "      <td>MURDER &amp; NON-NEGL. MANSLAUGHTER</td>\n",
       "      <td>FELONY</td>\n",
       "      <td>BRONX</td>\n",
       "      <td>40.844910</td>\n",
       "      <td>-73.890098</td>\n",
       "      <td>9</td>\n",
       "    </tr>\n",
       "    <tr>\n",
       "      <th>133410</th>\n",
       "      <td>2015-09-20</td>\n",
       "      <td>MURDER &amp; NON-NEGL. MANSLAUGHTER</td>\n",
       "      <td>FELONY</td>\n",
       "      <td>BRONX</td>\n",
       "      <td>40.865029</td>\n",
       "      <td>-73.892761</td>\n",
       "      <td>9</td>\n",
       "    </tr>\n",
       "    <tr>\n",
       "      <th>132404</th>\n",
       "      <td>2015-09-21</td>\n",
       "      <td>MURDER &amp; NON-NEGL. MANSLAUGHTER</td>\n",
       "      <td>FELONY</td>\n",
       "      <td>BRONX</td>\n",
       "      <td>40.844140</td>\n",
       "      <td>-73.900389</td>\n",
       "      <td>9</td>\n",
       "    </tr>\n",
       "    <tr>\n",
       "      <th>125491</th>\n",
       "      <td>2015-09-26</td>\n",
       "      <td>MURDER &amp; NON-NEGL. MANSLAUGHTER</td>\n",
       "      <td>FELONY</td>\n",
       "      <td>BRONX</td>\n",
       "      <td>40.828874</td>\n",
       "      <td>-73.906804</td>\n",
       "      <td>9</td>\n",
       "    </tr>\n",
       "    <tr>\n",
       "      <th>122492</th>\n",
       "      <td>2015-09-28</td>\n",
       "      <td>MURDER &amp; NON-NEGL. MANSLAUGHTER</td>\n",
       "      <td>FELONY</td>\n",
       "      <td>BRONX</td>\n",
       "      <td>40.860331</td>\n",
       "      <td>-73.910461</td>\n",
       "      <td>9</td>\n",
       "    </tr>\n",
       "    <tr>\n",
       "      <th>119336</th>\n",
       "      <td>2015-09-30</td>\n",
       "      <td>MURDER &amp; NON-NEGL. MANSLAUGHTER</td>\n",
       "      <td>FELONY</td>\n",
       "      <td>BRONX</td>\n",
       "      <td>40.837073</td>\n",
       "      <td>-73.850159</td>\n",
       "      <td>9</td>\n",
       "    </tr>\n",
       "    <tr>\n",
       "      <th>115018</th>\n",
       "      <td>2015-10-04</td>\n",
       "      <td>MURDER &amp; NON-NEGL. MANSLAUGHTER</td>\n",
       "      <td>FELONY</td>\n",
       "      <td>BRONX</td>\n",
       "      <td>40.863744</td>\n",
       "      <td>-73.898888</td>\n",
       "      <td>10</td>\n",
       "    </tr>\n",
       "    <tr>\n",
       "      <th>108051</th>\n",
       "      <td>2015-10-09</td>\n",
       "      <td>MURDER &amp; NON-NEGL. MANSLAUGHTER</td>\n",
       "      <td>FELONY</td>\n",
       "      <td>BRONX</td>\n",
       "      <td>40.886783</td>\n",
       "      <td>-73.825671</td>\n",
       "      <td>10</td>\n",
       "    </tr>\n",
       "    <tr>\n",
       "      <th>99475</th>\n",
       "      <td>2015-10-15</td>\n",
       "      <td>MURDER &amp; NON-NEGL. MANSLAUGHTER</td>\n",
       "      <td>FELONY</td>\n",
       "      <td>BRONX</td>\n",
       "      <td>40.854535</td>\n",
       "      <td>-73.898403</td>\n",
       "      <td>10</td>\n",
       "    </tr>\n",
       "    <tr>\n",
       "      <th>96857</th>\n",
       "      <td>2015-10-17</td>\n",
       "      <td>MURDER &amp; NON-NEGL. MANSLAUGHTER</td>\n",
       "      <td>FELONY</td>\n",
       "      <td>BRONX</td>\n",
       "      <td>40.827355</td>\n",
       "      <td>-73.860190</td>\n",
       "      <td>10</td>\n",
       "    </tr>\n",
       "    <tr>\n",
       "      <th>89934</th>\n",
       "      <td>2015-10-22</td>\n",
       "      <td>MURDER &amp; NON-NEGL. MANSLAUGHTER</td>\n",
       "      <td>FELONY</td>\n",
       "      <td>BRONX</td>\n",
       "      <td>40.861222</td>\n",
       "      <td>-73.860202</td>\n",
       "      <td>10</td>\n",
       "    </tr>\n",
       "    <tr>\n",
       "      <th>86276</th>\n",
       "      <td>2015-10-25</td>\n",
       "      <td>MURDER &amp; NON-NEGL. MANSLAUGHTER</td>\n",
       "      <td>FELONY</td>\n",
       "      <td>BRONX</td>\n",
       "      <td>40.860124</td>\n",
       "      <td>-73.902830</td>\n",
       "      <td>10</td>\n",
       "    </tr>\n",
       "    <tr>\n",
       "      <th>84885</th>\n",
       "      <td>2015-10-26</td>\n",
       "      <td>MURDER &amp; NON-NEGL. MANSLAUGHTER</td>\n",
       "      <td>FELONY</td>\n",
       "      <td>BRONX</td>\n",
       "      <td>40.823683</td>\n",
       "      <td>-73.916892</td>\n",
       "      <td>10</td>\n",
       "    </tr>\n",
       "    <tr>\n",
       "      <th>80684</th>\n",
       "      <td>2015-10-29</td>\n",
       "      <td>MURDER &amp; NON-NEGL. MANSLAUGHTER</td>\n",
       "      <td>FELONY</td>\n",
       "      <td>BRONX</td>\n",
       "      <td>40.845985</td>\n",
       "      <td>-73.907463</td>\n",
       "      <td>10</td>\n",
       "    </tr>\n",
       "    <tr>\n",
       "      <th>53729</th>\n",
       "      <td>2015-11-18</td>\n",
       "      <td>MURDER &amp; NON-NEGL. MANSLAUGHTER</td>\n",
       "      <td>FELONY</td>\n",
       "      <td>BRONX</td>\n",
       "      <td>40.864694</td>\n",
       "      <td>-73.899577</td>\n",
       "      <td>11</td>\n",
       "    </tr>\n",
       "    <tr>\n",
       "      <th>51426</th>\n",
       "      <td>2015-11-20</td>\n",
       "      <td>MURDER &amp; NON-NEGL. MANSLAUGHTER</td>\n",
       "      <td>FELONY</td>\n",
       "      <td>BRONX</td>\n",
       "      <td>40.901332</td>\n",
       "      <td>-73.842211</td>\n",
       "      <td>11</td>\n",
       "    </tr>\n",
       "    <tr>\n",
       "      <th>46614</th>\n",
       "      <td>2015-11-24</td>\n",
       "      <td>MURDER &amp; NON-NEGL. MANSLAUGHTER</td>\n",
       "      <td>FELONY</td>\n",
       "      <td>BRONX</td>\n",
       "      <td>40.842646</td>\n",
       "      <td>-73.893683</td>\n",
       "      <td>11</td>\n",
       "    </tr>\n",
       "    <tr>\n",
       "      <th>45146</th>\n",
       "      <td>2015-11-25</td>\n",
       "      <td>MURDER &amp; NON-NEGL. MANSLAUGHTER</td>\n",
       "      <td>FELONY</td>\n",
       "      <td>BRONX</td>\n",
       "      <td>40.832225</td>\n",
       "      <td>-73.906380</td>\n",
       "      <td>11</td>\n",
       "    </tr>\n",
       "    <tr>\n",
       "      <th>38488</th>\n",
       "      <td>2015-12-01</td>\n",
       "      <td>MURDER &amp; NON-NEGL. MANSLAUGHTER</td>\n",
       "      <td>FELONY</td>\n",
       "      <td>BRONX</td>\n",
       "      <td>40.844210</td>\n",
       "      <td>-73.855084</td>\n",
       "      <td>12</td>\n",
       "    </tr>\n",
       "    <tr>\n",
       "      <th>35665</th>\n",
       "      <td>2015-12-03</td>\n",
       "      <td>MURDER &amp; NON-NEGL. MANSLAUGHTER</td>\n",
       "      <td>FELONY</td>\n",
       "      <td>BRONX</td>\n",
       "      <td>40.870580</td>\n",
       "      <td>-73.868245</td>\n",
       "      <td>12</td>\n",
       "    </tr>\n",
       "    <tr>\n",
       "      <th>31874</th>\n",
       "      <td>2015-12-06</td>\n",
       "      <td>MURDER &amp; NON-NEGL. MANSLAUGHTER</td>\n",
       "      <td>FELONY</td>\n",
       "      <td>BRONX</td>\n",
       "      <td>40.838986</td>\n",
       "      <td>-73.922771</td>\n",
       "      <td>12</td>\n",
       "    </tr>\n",
       "    <tr>\n",
       "      <th>26675</th>\n",
       "      <td>2015-12-10</td>\n",
       "      <td>MURDER &amp; NON-NEGL. MANSLAUGHTER</td>\n",
       "      <td>FELONY</td>\n",
       "      <td>BRONX</td>\n",
       "      <td>40.848353</td>\n",
       "      <td>-73.858660</td>\n",
       "      <td>12</td>\n",
       "    </tr>\n",
       "    <tr>\n",
       "      <th>13336</th>\n",
       "      <td>2015-12-20</td>\n",
       "      <td>MURDER &amp; NON-NEGL. MANSLAUGHTER</td>\n",
       "      <td>FELONY</td>\n",
       "      <td>BRONX</td>\n",
       "      <td>40.863507</td>\n",
       "      <td>-73.904467</td>\n",
       "      <td>12</td>\n",
       "    </tr>\n",
       "    <tr>\n",
       "      <th>7954</th>\n",
       "      <td>2015-12-24</td>\n",
       "      <td>MURDER &amp; NON-NEGL. MANSLAUGHTER</td>\n",
       "      <td>FELONY</td>\n",
       "      <td>BRONX</td>\n",
       "      <td>40.858045</td>\n",
       "      <td>-73.904102</td>\n",
       "      <td>12</td>\n",
       "    </tr>\n",
       "    <tr>\n",
       "      <th>2363</th>\n",
       "      <td>2015-12-30</td>\n",
       "      <td>MURDER &amp; NON-NEGL. MANSLAUGHTER</td>\n",
       "      <td>FELONY</td>\n",
       "      <td>BRONX</td>\n",
       "      <td>40.852141</td>\n",
       "      <td>-73.922376</td>\n",
       "      <td>12</td>\n",
       "    </tr>\n",
       "    <tr>\n",
       "      <th>1768</th>\n",
       "      <td>2015-12-30</td>\n",
       "      <td>MURDER &amp; NON-NEGL. MANSLAUGHTER</td>\n",
       "      <td>FELONY</td>\n",
       "      <td>BRONX</td>\n",
       "      <td>40.877554</td>\n",
       "      <td>-73.872939</td>\n",
       "      <td>12</td>\n",
       "    </tr>\n",
       "  </tbody>\n",
       "</table>\n",
       "</div>"
      ],
      "text/plain": [
       "           RPT_DT                        OFNS_DESC LAW_CAT_CD BORO_NM  \\\n",
       "283330 2015-06-07  MURDER & NON-NEGL. MANSLAUGHTER     FELONY   BRONX   \n",
       "280146 2015-06-09  MURDER & NON-NEGL. MANSLAUGHTER     FELONY   BRONX   \n",
       "271705 2015-06-16  MURDER & NON-NEGL. MANSLAUGHTER     FELONY   BRONX   \n",
       "258181 2015-06-25  MURDER & NON-NEGL. MANSLAUGHTER     FELONY   BRONX   \n",
       "257436 2015-06-25  MURDER & NON-NEGL. MANSLAUGHTER     FELONY   BRONX   \n",
       "255859 2015-06-26  MURDER & NON-NEGL. MANSLAUGHTER     FELONY   BRONX   \n",
       "247176 2015-07-03  MURDER & NON-NEGL. MANSLAUGHTER     FELONY   BRONX   \n",
       "243468 2015-07-05  MURDER & NON-NEGL. MANSLAUGHTER     FELONY   BRONX   \n",
       "241488 2015-07-07  MURDER & NON-NEGL. MANSLAUGHTER     FELONY   BRONX   \n",
       "240117 2015-07-08  MURDER & NON-NEGL. MANSLAUGHTER     FELONY   BRONX   \n",
       "238092 2015-07-09  MURDER & NON-NEGL. MANSLAUGHTER     FELONY   BRONX   \n",
       "231302 2015-07-14  MURDER & NON-NEGL. MANSLAUGHTER     FELONY   BRONX   \n",
       "228509 2015-07-16  MURDER & NON-NEGL. MANSLAUGHTER     FELONY   BRONX   \n",
       "226772 2015-07-17  MURDER & NON-NEGL. MANSLAUGHTER     FELONY   BRONX   \n",
       "224963 2015-07-19  MURDER & NON-NEGL. MANSLAUGHTER     FELONY   BRONX   \n",
       "218289 2015-07-23  MURDER & NON-NEGL. MANSLAUGHTER     FELONY   BRONX   \n",
       "218672 2015-07-23  MURDER & NON-NEGL. MANSLAUGHTER     FELONY   BRONX   \n",
       "218290 2015-07-23  MURDER & NON-NEGL. MANSLAUGHTER     FELONY   BRONX   \n",
       "214345 2015-07-26  MURDER & NON-NEGL. MANSLAUGHTER     FELONY   BRONX   \n",
       "204464 2015-08-02  MURDER & NON-NEGL. MANSLAUGHTER     FELONY   BRONX   \n",
       "200983 2015-08-04  MURDER & NON-NEGL. MANSLAUGHTER     FELONY   BRONX   \n",
       "177309 2015-08-20  MURDER & NON-NEGL. MANSLAUGHTER     FELONY   BRONX   \n",
       "174893 2015-08-22  MURDER & NON-NEGL. MANSLAUGHTER     FELONY   BRONX   \n",
       "174626 2015-08-22  MURDER & NON-NEGL. MANSLAUGHTER     FELONY   BRONX   \n",
       "170299 2015-08-25  MURDER & NON-NEGL. MANSLAUGHTER     FELONY   BRONX   \n",
       "168634 2015-08-26  MURDER & NON-NEGL. MANSLAUGHTER     FELONY   BRONX   \n",
       "162649 2015-08-30  MURDER & NON-NEGL. MANSLAUGHTER     FELONY   BRONX   \n",
       "160494 2015-09-01  MURDER & NON-NEGL. MANSLAUGHTER     FELONY   BRONX   \n",
       "141825 2015-09-14  MURDER & NON-NEGL. MANSLAUGHTER     FELONY   BRONX   \n",
       "140760 2015-09-15  MURDER & NON-NEGL. MANSLAUGHTER     FELONY   BRONX   \n",
       "139145 2015-09-16  MURDER & NON-NEGL. MANSLAUGHTER     FELONY   BRONX   \n",
       "134576 2015-09-19  MURDER & NON-NEGL. MANSLAUGHTER     FELONY   BRONX   \n",
       "133410 2015-09-20  MURDER & NON-NEGL. MANSLAUGHTER     FELONY   BRONX   \n",
       "132404 2015-09-21  MURDER & NON-NEGL. MANSLAUGHTER     FELONY   BRONX   \n",
       "125491 2015-09-26  MURDER & NON-NEGL. MANSLAUGHTER     FELONY   BRONX   \n",
       "122492 2015-09-28  MURDER & NON-NEGL. MANSLAUGHTER     FELONY   BRONX   \n",
       "119336 2015-09-30  MURDER & NON-NEGL. MANSLAUGHTER     FELONY   BRONX   \n",
       "115018 2015-10-04  MURDER & NON-NEGL. MANSLAUGHTER     FELONY   BRONX   \n",
       "108051 2015-10-09  MURDER & NON-NEGL. MANSLAUGHTER     FELONY   BRONX   \n",
       "99475  2015-10-15  MURDER & NON-NEGL. MANSLAUGHTER     FELONY   BRONX   \n",
       "96857  2015-10-17  MURDER & NON-NEGL. MANSLAUGHTER     FELONY   BRONX   \n",
       "89934  2015-10-22  MURDER & NON-NEGL. MANSLAUGHTER     FELONY   BRONX   \n",
       "86276  2015-10-25  MURDER & NON-NEGL. MANSLAUGHTER     FELONY   BRONX   \n",
       "84885  2015-10-26  MURDER & NON-NEGL. MANSLAUGHTER     FELONY   BRONX   \n",
       "80684  2015-10-29  MURDER & NON-NEGL. MANSLAUGHTER     FELONY   BRONX   \n",
       "53729  2015-11-18  MURDER & NON-NEGL. MANSLAUGHTER     FELONY   BRONX   \n",
       "51426  2015-11-20  MURDER & NON-NEGL. MANSLAUGHTER     FELONY   BRONX   \n",
       "46614  2015-11-24  MURDER & NON-NEGL. MANSLAUGHTER     FELONY   BRONX   \n",
       "45146  2015-11-25  MURDER & NON-NEGL. MANSLAUGHTER     FELONY   BRONX   \n",
       "38488  2015-12-01  MURDER & NON-NEGL. MANSLAUGHTER     FELONY   BRONX   \n",
       "35665  2015-12-03  MURDER & NON-NEGL. MANSLAUGHTER     FELONY   BRONX   \n",
       "31874  2015-12-06  MURDER & NON-NEGL. MANSLAUGHTER     FELONY   BRONX   \n",
       "26675  2015-12-10  MURDER & NON-NEGL. MANSLAUGHTER     FELONY   BRONX   \n",
       "13336  2015-12-20  MURDER & NON-NEGL. MANSLAUGHTER     FELONY   BRONX   \n",
       "7954   2015-12-24  MURDER & NON-NEGL. MANSLAUGHTER     FELONY   BRONX   \n",
       "2363   2015-12-30  MURDER & NON-NEGL. MANSLAUGHTER     FELONY   BRONX   \n",
       "1768   2015-12-30  MURDER & NON-NEGL. MANSLAUGHTER     FELONY   BRONX   \n",
       "\n",
       "         Latitude  Longitude  Month  \n",
       "283330  40.887043 -73.854129      6  \n",
       "280146  40.856033 -73.888449      6  \n",
       "271705  40.834826 -73.915978      6  \n",
       "258181  40.840542 -73.862923      6  \n",
       "257436  40.822759 -73.910483      6  \n",
       "255859  40.862366 -73.892545      6  \n",
       "247176  40.826829 -73.925347      7  \n",
       "243468  40.887314 -73.847272      7  \n",
       "241488  40.838424 -73.866531      7  \n",
       "240117  40.875121 -73.908995      7  \n",
       "238092  40.808374 -73.926996      7  \n",
       "231302  40.853598 -73.900577      7  \n",
       "228509  40.825259 -73.925793      7  \n",
       "226772  40.900261 -73.845451      7  \n",
       "224963  40.844259 -73.881063      7  \n",
       "218289  40.842445 -73.912199      7  \n",
       "218672  40.816068 -73.908552      7  \n",
       "218290  40.842445 -73.912199      7  \n",
       "214345  40.871249 -73.836989      7  \n",
       "204464  40.821890 -73.859262      8  \n",
       "200983  40.829659 -73.904244      8  \n",
       "177309  40.875311 -73.847545      8  \n",
       "174893  40.832470 -73.904244      8  \n",
       "174626  40.869173 -73.890220      8  \n",
       "170299  40.889320 -73.900303      8  \n",
       "168634  40.851316 -73.902117      8  \n",
       "162649  40.827889 -73.875191      8  \n",
       "160494  40.824747 -73.898853      9  \n",
       "141825  40.819435 -73.911174      9  \n",
       "140760  40.821799 -73.919373      9  \n",
       "139145  40.849427 -73.911123      9  \n",
       "134576  40.844910 -73.890098      9  \n",
       "133410  40.865029 -73.892761      9  \n",
       "132404  40.844140 -73.900389      9  \n",
       "125491  40.828874 -73.906804      9  \n",
       "122492  40.860331 -73.910461      9  \n",
       "119336  40.837073 -73.850159      9  \n",
       "115018  40.863744 -73.898888     10  \n",
       "108051  40.886783 -73.825671     10  \n",
       "99475   40.854535 -73.898403     10  \n",
       "96857   40.827355 -73.860190     10  \n",
       "89934   40.861222 -73.860202     10  \n",
       "86276   40.860124 -73.902830     10  \n",
       "84885   40.823683 -73.916892     10  \n",
       "80684   40.845985 -73.907463     10  \n",
       "53729   40.864694 -73.899577     11  \n",
       "51426   40.901332 -73.842211     11  \n",
       "46614   40.842646 -73.893683     11  \n",
       "45146   40.832225 -73.906380     11  \n",
       "38488   40.844210 -73.855084     12  \n",
       "35665   40.870580 -73.868245     12  \n",
       "31874   40.838986 -73.922771     12  \n",
       "26675   40.848353 -73.858660     12  \n",
       "13336   40.863507 -73.904467     12  \n",
       "7954    40.858045 -73.904102     12  \n",
       "2363    40.852141 -73.922376     12  \n",
       "1768    40.877554 -73.872939     12  "
      ]
     },
     "execution_count": 84,
     "metadata": {},
     "output_type": "execute_result"
    }
   ],
   "source": [
    "bronx_murders = secondhalf_murders[secondhalf_murders['BORO_NM'].str.contains('BRONX')]\n",
    "bronx_murders"
   ]
  },
  {
   "cell_type": "code",
   "execution_count": 85,
   "id": "f0a30b4b",
   "metadata": {},
   "outputs": [
    {
     "data": {
      "text/html": [
       "<div>\n",
       "<style scoped>\n",
       "    .dataframe tbody tr th:only-of-type {\n",
       "        vertical-align: middle;\n",
       "    }\n",
       "\n",
       "    .dataframe tbody tr th {\n",
       "        vertical-align: top;\n",
       "    }\n",
       "\n",
       "    .dataframe thead th {\n",
       "        text-align: right;\n",
       "    }\n",
       "</style>\n",
       "<table border=\"1\" class=\"dataframe\">\n",
       "  <thead>\n",
       "    <tr style=\"text-align: right;\">\n",
       "      <th></th>\n",
       "      <th>RPT_DT</th>\n",
       "      <th>OFNS_DESC</th>\n",
       "      <th>LAW_CAT_CD</th>\n",
       "      <th>BORO_NM</th>\n",
       "      <th>Latitude</th>\n",
       "      <th>Longitude</th>\n",
       "      <th>Month</th>\n",
       "    </tr>\n",
       "  </thead>\n",
       "  <tbody>\n",
       "    <tr>\n",
       "      <th>284841</th>\n",
       "      <td>2015-06-06</td>\n",
       "      <td>MURDER &amp; NON-NEGL. MANSLAUGHTER</td>\n",
       "      <td>FELONY</td>\n",
       "      <td>MANHATTAN</td>\n",
       "      <td>40.788721</td>\n",
       "      <td>-73.939997</td>\n",
       "      <td>6</td>\n",
       "    </tr>\n",
       "    <tr>\n",
       "      <th>267708</th>\n",
       "      <td>2015-06-18</td>\n",
       "      <td>MURDER &amp; NON-NEGL. MANSLAUGHTER</td>\n",
       "      <td>FELONY</td>\n",
       "      <td>MANHATTAN</td>\n",
       "      <td>40.799456</td>\n",
       "      <td>-73.966437</td>\n",
       "      <td>6</td>\n",
       "    </tr>\n",
       "    <tr>\n",
       "      <th>255456</th>\n",
       "      <td>2015-06-27</td>\n",
       "      <td>MURDER &amp; NON-NEGL. MANSLAUGHTER</td>\n",
       "      <td>FELONY</td>\n",
       "      <td>MANHATTAN</td>\n",
       "      <td>40.796790</td>\n",
       "      <td>-73.939404</td>\n",
       "      <td>6</td>\n",
       "    </tr>\n",
       "    <tr>\n",
       "      <th>252085</th>\n",
       "      <td>2015-06-29</td>\n",
       "      <td>MURDER &amp; NON-NEGL. MANSLAUGHTER</td>\n",
       "      <td>FELONY</td>\n",
       "      <td>MANHATTAN</td>\n",
       "      <td>40.829885</td>\n",
       "      <td>-73.936762</td>\n",
       "      <td>6</td>\n",
       "    </tr>\n",
       "    <tr>\n",
       "      <th>232613</th>\n",
       "      <td>2015-07-13</td>\n",
       "      <td>MURDER &amp; NON-NEGL. MANSLAUGHTER</td>\n",
       "      <td>FELONY</td>\n",
       "      <td>MANHATTAN</td>\n",
       "      <td>40.789295</td>\n",
       "      <td>-73.940314</td>\n",
       "      <td>7</td>\n",
       "    </tr>\n",
       "    <tr>\n",
       "      <th>217126</th>\n",
       "      <td>2015-07-24</td>\n",
       "      <td>MURDER &amp; NON-NEGL. MANSLAUGHTER</td>\n",
       "      <td>FELONY</td>\n",
       "      <td>MANHATTAN</td>\n",
       "      <td>40.815670</td>\n",
       "      <td>-73.936569</td>\n",
       "      <td>7</td>\n",
       "    </tr>\n",
       "    <tr>\n",
       "      <th>183686</th>\n",
       "      <td>2015-08-16</td>\n",
       "      <td>MURDER &amp; NON-NEGL. MANSLAUGHTER</td>\n",
       "      <td>FELONY</td>\n",
       "      <td>MANHATTAN</td>\n",
       "      <td>40.835505</td>\n",
       "      <td>-73.939188</td>\n",
       "      <td>8</td>\n",
       "    </tr>\n",
       "    <tr>\n",
       "      <th>176123</th>\n",
       "      <td>2015-08-21</td>\n",
       "      <td>MURDER &amp; NON-NEGL. MANSLAUGHTER</td>\n",
       "      <td>FELONY</td>\n",
       "      <td>MANHATTAN</td>\n",
       "      <td>40.804046</td>\n",
       "      <td>-73.936620</td>\n",
       "      <td>8</td>\n",
       "    </tr>\n",
       "    <tr>\n",
       "      <th>175721</th>\n",
       "      <td>2015-08-21</td>\n",
       "      <td>MURDER &amp; NON-NEGL. MANSLAUGHTER</td>\n",
       "      <td>FELONY</td>\n",
       "      <td>MANHATTAN</td>\n",
       "      <td>40.728251</td>\n",
       "      <td>-74.005374</td>\n",
       "      <td>8</td>\n",
       "    </tr>\n",
       "    <tr>\n",
       "      <th>165230</th>\n",
       "      <td>2015-08-28</td>\n",
       "      <td>MURDER &amp; NON-NEGL. MANSLAUGHTER</td>\n",
       "      <td>FELONY</td>\n",
       "      <td>MANHATTAN</td>\n",
       "      <td>40.718564</td>\n",
       "      <td>-73.988201</td>\n",
       "      <td>8</td>\n",
       "    </tr>\n",
       "    <tr>\n",
       "      <th>156093</th>\n",
       "      <td>2015-09-04</td>\n",
       "      <td>MURDER &amp; NON-NEGL. MANSLAUGHTER</td>\n",
       "      <td>FELONY</td>\n",
       "      <td>MANHATTAN</td>\n",
       "      <td>40.798146</td>\n",
       "      <td>-73.950358</td>\n",
       "      <td>9</td>\n",
       "    </tr>\n",
       "    <tr>\n",
       "      <th>150432</th>\n",
       "      <td>2015-09-08</td>\n",
       "      <td>MURDER &amp; NON-NEGL. MANSLAUGHTER</td>\n",
       "      <td>FELONY</td>\n",
       "      <td>MANHATTAN</td>\n",
       "      <td>40.760674</td>\n",
       "      <td>-73.971568</td>\n",
       "      <td>9</td>\n",
       "    </tr>\n",
       "    <tr>\n",
       "      <th>150218</th>\n",
       "      <td>2015-09-08</td>\n",
       "      <td>MURDER &amp; NON-NEGL. MANSLAUGHTER</td>\n",
       "      <td>FELONY</td>\n",
       "      <td>MANHATTAN</td>\n",
       "      <td>40.754120</td>\n",
       "      <td>-73.990213</td>\n",
       "      <td>9</td>\n",
       "    </tr>\n",
       "    <tr>\n",
       "      <th>134449</th>\n",
       "      <td>2015-09-19</td>\n",
       "      <td>MURDER &amp; NON-NEGL. MANSLAUGHTER</td>\n",
       "      <td>FELONY</td>\n",
       "      <td>MANHATTAN</td>\n",
       "      <td>40.795815</td>\n",
       "      <td>-73.937101</td>\n",
       "      <td>9</td>\n",
       "    </tr>\n",
       "    <tr>\n",
       "      <th>125343</th>\n",
       "      <td>2015-09-26</td>\n",
       "      <td>MURDER &amp; NON-NEGL. MANSLAUGHTER</td>\n",
       "      <td>FELONY</td>\n",
       "      <td>MANHATTAN</td>\n",
       "      <td>40.709984</td>\n",
       "      <td>-73.996441</td>\n",
       "      <td>9</td>\n",
       "    </tr>\n",
       "    <tr>\n",
       "      <th>123750</th>\n",
       "      <td>2015-09-27</td>\n",
       "      <td>MURDER &amp; NON-NEGL. MANSLAUGHTER</td>\n",
       "      <td>FELONY</td>\n",
       "      <td>MANHATTAN</td>\n",
       "      <td>40.801756</td>\n",
       "      <td>-73.934260</td>\n",
       "      <td>9</td>\n",
       "    </tr>\n",
       "    <tr>\n",
       "      <th>122432</th>\n",
       "      <td>2015-09-28</td>\n",
       "      <td>MURDER &amp; NON-NEGL. MANSLAUGHTER</td>\n",
       "      <td>FELONY</td>\n",
       "      <td>MANHATTAN</td>\n",
       "      <td>40.860809</td>\n",
       "      <td>-73.926917</td>\n",
       "      <td>9</td>\n",
       "    </tr>\n",
       "    <tr>\n",
       "      <th>104163</th>\n",
       "      <td>2015-10-12</td>\n",
       "      <td>MURDER &amp; NON-NEGL. MANSLAUGHTER</td>\n",
       "      <td>FELONY</td>\n",
       "      <td>MANHATTAN</td>\n",
       "      <td>40.739529</td>\n",
       "      <td>-73.989674</td>\n",
       "      <td>10</td>\n",
       "    </tr>\n",
       "    <tr>\n",
       "      <th>92513</th>\n",
       "      <td>2015-10-20</td>\n",
       "      <td>MURDER &amp; NON-NEGL. MANSLAUGHTER</td>\n",
       "      <td>FELONY</td>\n",
       "      <td>MANHATTAN</td>\n",
       "      <td>40.796749</td>\n",
       "      <td>-73.929194</td>\n",
       "      <td>10</td>\n",
       "    </tr>\n",
       "    <tr>\n",
       "      <th>82048</th>\n",
       "      <td>2015-10-28</td>\n",
       "      <td>MURDER &amp; NON-NEGL. MANSLAUGHTER</td>\n",
       "      <td>FELONY</td>\n",
       "      <td>MANHATTAN</td>\n",
       "      <td>40.800385</td>\n",
       "      <td>-73.954701</td>\n",
       "      <td>10</td>\n",
       "    </tr>\n",
       "    <tr>\n",
       "      <th>66374</th>\n",
       "      <td>2015-11-09</td>\n",
       "      <td>MURDER &amp; NON-NEGL. MANSLAUGHTER</td>\n",
       "      <td>FELONY</td>\n",
       "      <td>MANHATTAN</td>\n",
       "      <td>40.752863</td>\n",
       "      <td>-73.992981</td>\n",
       "      <td>11</td>\n",
       "    </tr>\n",
       "    <tr>\n",
       "      <th>57962</th>\n",
       "      <td>2015-11-15</td>\n",
       "      <td>MURDER &amp; NON-NEGL. MANSLAUGHTER</td>\n",
       "      <td>FELONY</td>\n",
       "      <td>MANHATTAN</td>\n",
       "      <td>40.867233</td>\n",
       "      <td>-73.920916</td>\n",
       "      <td>11</td>\n",
       "    </tr>\n",
       "    <tr>\n",
       "      <th>3583</th>\n",
       "      <td>2015-12-29</td>\n",
       "      <td>MURDER &amp; NON-NEGL. MANSLAUGHTER</td>\n",
       "      <td>FELONY</td>\n",
       "      <td>MANHATTAN</td>\n",
       "      <td>40.810877</td>\n",
       "      <td>-73.941064</td>\n",
       "      <td>12</td>\n",
       "    </tr>\n",
       "  </tbody>\n",
       "</table>\n",
       "</div>"
      ],
      "text/plain": [
       "           RPT_DT                        OFNS_DESC LAW_CAT_CD    BORO_NM  \\\n",
       "284841 2015-06-06  MURDER & NON-NEGL. MANSLAUGHTER     FELONY  MANHATTAN   \n",
       "267708 2015-06-18  MURDER & NON-NEGL. MANSLAUGHTER     FELONY  MANHATTAN   \n",
       "255456 2015-06-27  MURDER & NON-NEGL. MANSLAUGHTER     FELONY  MANHATTAN   \n",
       "252085 2015-06-29  MURDER & NON-NEGL. MANSLAUGHTER     FELONY  MANHATTAN   \n",
       "232613 2015-07-13  MURDER & NON-NEGL. MANSLAUGHTER     FELONY  MANHATTAN   \n",
       "217126 2015-07-24  MURDER & NON-NEGL. MANSLAUGHTER     FELONY  MANHATTAN   \n",
       "183686 2015-08-16  MURDER & NON-NEGL. MANSLAUGHTER     FELONY  MANHATTAN   \n",
       "176123 2015-08-21  MURDER & NON-NEGL. MANSLAUGHTER     FELONY  MANHATTAN   \n",
       "175721 2015-08-21  MURDER & NON-NEGL. MANSLAUGHTER     FELONY  MANHATTAN   \n",
       "165230 2015-08-28  MURDER & NON-NEGL. MANSLAUGHTER     FELONY  MANHATTAN   \n",
       "156093 2015-09-04  MURDER & NON-NEGL. MANSLAUGHTER     FELONY  MANHATTAN   \n",
       "150432 2015-09-08  MURDER & NON-NEGL. MANSLAUGHTER     FELONY  MANHATTAN   \n",
       "150218 2015-09-08  MURDER & NON-NEGL. MANSLAUGHTER     FELONY  MANHATTAN   \n",
       "134449 2015-09-19  MURDER & NON-NEGL. MANSLAUGHTER     FELONY  MANHATTAN   \n",
       "125343 2015-09-26  MURDER & NON-NEGL. MANSLAUGHTER     FELONY  MANHATTAN   \n",
       "123750 2015-09-27  MURDER & NON-NEGL. MANSLAUGHTER     FELONY  MANHATTAN   \n",
       "122432 2015-09-28  MURDER & NON-NEGL. MANSLAUGHTER     FELONY  MANHATTAN   \n",
       "104163 2015-10-12  MURDER & NON-NEGL. MANSLAUGHTER     FELONY  MANHATTAN   \n",
       "92513  2015-10-20  MURDER & NON-NEGL. MANSLAUGHTER     FELONY  MANHATTAN   \n",
       "82048  2015-10-28  MURDER & NON-NEGL. MANSLAUGHTER     FELONY  MANHATTAN   \n",
       "66374  2015-11-09  MURDER & NON-NEGL. MANSLAUGHTER     FELONY  MANHATTAN   \n",
       "57962  2015-11-15  MURDER & NON-NEGL. MANSLAUGHTER     FELONY  MANHATTAN   \n",
       "3583   2015-12-29  MURDER & NON-NEGL. MANSLAUGHTER     FELONY  MANHATTAN   \n",
       "\n",
       "         Latitude  Longitude  Month  \n",
       "284841  40.788721 -73.939997      6  \n",
       "267708  40.799456 -73.966437      6  \n",
       "255456  40.796790 -73.939404      6  \n",
       "252085  40.829885 -73.936762      6  \n",
       "232613  40.789295 -73.940314      7  \n",
       "217126  40.815670 -73.936569      7  \n",
       "183686  40.835505 -73.939188      8  \n",
       "176123  40.804046 -73.936620      8  \n",
       "175721  40.728251 -74.005374      8  \n",
       "165230  40.718564 -73.988201      8  \n",
       "156093  40.798146 -73.950358      9  \n",
       "150432  40.760674 -73.971568      9  \n",
       "150218  40.754120 -73.990213      9  \n",
       "134449  40.795815 -73.937101      9  \n",
       "125343  40.709984 -73.996441      9  \n",
       "123750  40.801756 -73.934260      9  \n",
       "122432  40.860809 -73.926917      9  \n",
       "104163  40.739529 -73.989674     10  \n",
       "92513   40.796749 -73.929194     10  \n",
       "82048   40.800385 -73.954701     10  \n",
       "66374   40.752863 -73.992981     11  \n",
       "57962   40.867233 -73.920916     11  \n",
       "3583    40.810877 -73.941064     12  "
      ]
     },
     "execution_count": 85,
     "metadata": {},
     "output_type": "execute_result"
    }
   ],
   "source": [
    "manhattan_murders = secondhalf_murders[secondhalf_murders['BORO_NM'].str.contains('MANHATTAN')]\n",
    "manhattan_murders"
   ]
  },
  {
   "cell_type": "code",
   "execution_count": 86,
   "id": "88288448",
   "metadata": {},
   "outputs": [
    {
     "data": {
      "text/html": [
       "<div>\n",
       "<style scoped>\n",
       "    .dataframe tbody tr th:only-of-type {\n",
       "        vertical-align: middle;\n",
       "    }\n",
       "\n",
       "    .dataframe tbody tr th {\n",
       "        vertical-align: top;\n",
       "    }\n",
       "\n",
       "    .dataframe thead th {\n",
       "        text-align: right;\n",
       "    }\n",
       "</style>\n",
       "<table border=\"1\" class=\"dataframe\">\n",
       "  <thead>\n",
       "    <tr style=\"text-align: right;\">\n",
       "      <th></th>\n",
       "      <th>RPT_DT</th>\n",
       "      <th>OFNS_DESC</th>\n",
       "      <th>LAW_CAT_CD</th>\n",
       "      <th>BORO_NM</th>\n",
       "      <th>Latitude</th>\n",
       "      <th>Longitude</th>\n",
       "      <th>Month</th>\n",
       "    </tr>\n",
       "  </thead>\n",
       "  <tbody>\n",
       "    <tr>\n",
       "      <th>290425</th>\n",
       "      <td>2015-06-02</td>\n",
       "      <td>MURDER &amp; NON-NEGL. MANSLAUGHTER</td>\n",
       "      <td>FELONY</td>\n",
       "      <td>QUEENS</td>\n",
       "      <td>40.695288</td>\n",
       "      <td>-73.814571</td>\n",
       "      <td>6</td>\n",
       "    </tr>\n",
       "    <tr>\n",
       "      <th>279044</th>\n",
       "      <td>2015-06-10</td>\n",
       "      <td>MURDER &amp; NON-NEGL. MANSLAUGHTER</td>\n",
       "      <td>FELONY</td>\n",
       "      <td>QUEENS</td>\n",
       "      <td>40.700602</td>\n",
       "      <td>-73.854566</td>\n",
       "      <td>6</td>\n",
       "    </tr>\n",
       "    <tr>\n",
       "      <th>265084</th>\n",
       "      <td>2015-06-20</td>\n",
       "      <td>MURDER &amp; NON-NEGL. MANSLAUGHTER</td>\n",
       "      <td>FELONY</td>\n",
       "      <td>QUEENS</td>\n",
       "      <td>40.769265</td>\n",
       "      <td>-73.933086</td>\n",
       "      <td>6</td>\n",
       "    </tr>\n",
       "    <tr>\n",
       "      <th>254203</th>\n",
       "      <td>2015-06-28</td>\n",
       "      <td>MURDER &amp; NON-NEGL. MANSLAUGHTER</td>\n",
       "      <td>FELONY</td>\n",
       "      <td>QUEENS</td>\n",
       "      <td>40.672790</td>\n",
       "      <td>-73.773652</td>\n",
       "      <td>6</td>\n",
       "    </tr>\n",
       "    <tr>\n",
       "      <th>224157</th>\n",
       "      <td>2015-07-19</td>\n",
       "      <td>MURDER &amp; NON-NEGL. MANSLAUGHTER</td>\n",
       "      <td>FELONY</td>\n",
       "      <td>QUEENS</td>\n",
       "      <td>40.722654</td>\n",
       "      <td>-73.840434</td>\n",
       "      <td>7</td>\n",
       "    </tr>\n",
       "    <tr>\n",
       "      <th>199996</th>\n",
       "      <td>2015-08-05</td>\n",
       "      <td>MURDER &amp; NON-NEGL. MANSLAUGHTER</td>\n",
       "      <td>FELONY</td>\n",
       "      <td>QUEENS</td>\n",
       "      <td>40.715544</td>\n",
       "      <td>-73.747765</td>\n",
       "      <td>8</td>\n",
       "    </tr>\n",
       "    <tr>\n",
       "      <th>196654</th>\n",
       "      <td>2015-08-07</td>\n",
       "      <td>MURDER &amp; NON-NEGL. MANSLAUGHTER</td>\n",
       "      <td>FELONY</td>\n",
       "      <td>QUEENS</td>\n",
       "      <td>40.701171</td>\n",
       "      <td>-73.835267</td>\n",
       "      <td>8</td>\n",
       "    </tr>\n",
       "    <tr>\n",
       "      <th>183561</th>\n",
       "      <td>2015-08-16</td>\n",
       "      <td>MURDER &amp; NON-NEGL. MANSLAUGHTER</td>\n",
       "      <td>FELONY</td>\n",
       "      <td>QUEENS</td>\n",
       "      <td>40.704518</td>\n",
       "      <td>-73.771337</td>\n",
       "      <td>8</td>\n",
       "    </tr>\n",
       "    <tr>\n",
       "      <th>164522</th>\n",
       "      <td>2015-08-29</td>\n",
       "      <td>MURDER &amp; NON-NEGL. MANSLAUGHTER</td>\n",
       "      <td>FELONY</td>\n",
       "      <td>QUEENS</td>\n",
       "      <td>40.772876</td>\n",
       "      <td>-73.930025</td>\n",
       "      <td>8</td>\n",
       "    </tr>\n",
       "    <tr>\n",
       "      <th>162647</th>\n",
       "      <td>2015-08-30</td>\n",
       "      <td>MURDER &amp; NON-NEGL. MANSLAUGHTER</td>\n",
       "      <td>FELONY</td>\n",
       "      <td>QUEENS</td>\n",
       "      <td>40.595114</td>\n",
       "      <td>-73.759541</td>\n",
       "      <td>8</td>\n",
       "    </tr>\n",
       "    <tr>\n",
       "      <th>154111</th>\n",
       "      <td>2015-09-05</td>\n",
       "      <td>MURDER &amp; NON-NEGL. MANSLAUGHTER</td>\n",
       "      <td>FELONY</td>\n",
       "      <td>QUEENS</td>\n",
       "      <td>40.750189</td>\n",
       "      <td>-73.890084</td>\n",
       "      <td>9</td>\n",
       "    </tr>\n",
       "    <tr>\n",
       "      <th>147104</th>\n",
       "      <td>2015-09-10</td>\n",
       "      <td>MURDER &amp; NON-NEGL. MANSLAUGHTER</td>\n",
       "      <td>FELONY</td>\n",
       "      <td>QUEENS</td>\n",
       "      <td>40.778722</td>\n",
       "      <td>-73.812342</td>\n",
       "      <td>9</td>\n",
       "    </tr>\n",
       "    <tr>\n",
       "      <th>146247</th>\n",
       "      <td>2015-09-11</td>\n",
       "      <td>MURDER &amp; NON-NEGL. MANSLAUGHTER</td>\n",
       "      <td>FELONY</td>\n",
       "      <td>QUEENS</td>\n",
       "      <td>40.598673</td>\n",
       "      <td>-73.757904</td>\n",
       "      <td>9</td>\n",
       "    </tr>\n",
       "    <tr>\n",
       "      <th>114524</th>\n",
       "      <td>2015-10-04</td>\n",
       "      <td>MURDER &amp; NON-NEGL. MANSLAUGHTER</td>\n",
       "      <td>FELONY</td>\n",
       "      <td>QUEENS</td>\n",
       "      <td>40.679890</td>\n",
       "      <td>-73.820018</td>\n",
       "      <td>10</td>\n",
       "    </tr>\n",
       "    <tr>\n",
       "      <th>101942</th>\n",
       "      <td>2015-10-11</td>\n",
       "      <td>MURDER &amp; NON-NEGL. MANSLAUGHTER</td>\n",
       "      <td>FELONY</td>\n",
       "      <td>QUEENS</td>\n",
       "      <td>40.748207</td>\n",
       "      <td>-73.820072</td>\n",
       "      <td>10</td>\n",
       "    </tr>\n",
       "    <tr>\n",
       "      <th>96674</th>\n",
       "      <td>2015-10-17</td>\n",
       "      <td>MURDER &amp; NON-NEGL. MANSLAUGHTER</td>\n",
       "      <td>FELONY</td>\n",
       "      <td>QUEENS</td>\n",
       "      <td>40.698504</td>\n",
       "      <td>-73.791585</td>\n",
       "      <td>10</td>\n",
       "    </tr>\n",
       "    <tr>\n",
       "      <th>96879</th>\n",
       "      <td>2015-10-17</td>\n",
       "      <td>MURDER &amp; NON-NEGL. MANSLAUGHTER</td>\n",
       "      <td>FELONY</td>\n",
       "      <td>QUEENS</td>\n",
       "      <td>40.703075</td>\n",
       "      <td>-73.807916</td>\n",
       "      <td>10</td>\n",
       "    </tr>\n",
       "    <tr>\n",
       "      <th>78129</th>\n",
       "      <td>2015-10-31</td>\n",
       "      <td>MURDER &amp; NON-NEGL. MANSLAUGHTER</td>\n",
       "      <td>FELONY</td>\n",
       "      <td>QUEENS</td>\n",
       "      <td>40.661235</td>\n",
       "      <td>-73.741385</td>\n",
       "      <td>10</td>\n",
       "    </tr>\n",
       "    <tr>\n",
       "      <th>78128</th>\n",
       "      <td>2015-10-31</td>\n",
       "      <td>MURDER &amp; NON-NEGL. MANSLAUGHTER</td>\n",
       "      <td>FELONY</td>\n",
       "      <td>QUEENS</td>\n",
       "      <td>40.661235</td>\n",
       "      <td>-73.741385</td>\n",
       "      <td>10</td>\n",
       "    </tr>\n",
       "    <tr>\n",
       "      <th>58526</th>\n",
       "      <td>2015-11-15</td>\n",
       "      <td>MURDER &amp; NON-NEGL. MANSLAUGHTER</td>\n",
       "      <td>FELONY</td>\n",
       "      <td>QUEENS</td>\n",
       "      <td>40.709369</td>\n",
       "      <td>-73.898682</td>\n",
       "      <td>11</td>\n",
       "    </tr>\n",
       "    <tr>\n",
       "      <th>50428</th>\n",
       "      <td>2015-11-21</td>\n",
       "      <td>MURDER &amp; NON-NEGL. MANSLAUGHTER</td>\n",
       "      <td>FELONY</td>\n",
       "      <td>QUEENS</td>\n",
       "      <td>40.742605</td>\n",
       "      <td>-73.915492</td>\n",
       "      <td>11</td>\n",
       "    </tr>\n",
       "    <tr>\n",
       "      <th>6321</th>\n",
       "      <td>2015-12-26</td>\n",
       "      <td>MURDER &amp; NON-NEGL. MANSLAUGHTER</td>\n",
       "      <td>FELONY</td>\n",
       "      <td>QUEENS</td>\n",
       "      <td>40.697368</td>\n",
       "      <td>-73.791827</td>\n",
       "      <td>12</td>\n",
       "    </tr>\n",
       "  </tbody>\n",
       "</table>\n",
       "</div>"
      ],
      "text/plain": [
       "           RPT_DT                        OFNS_DESC LAW_CAT_CD BORO_NM  \\\n",
       "290425 2015-06-02  MURDER & NON-NEGL. MANSLAUGHTER     FELONY  QUEENS   \n",
       "279044 2015-06-10  MURDER & NON-NEGL. MANSLAUGHTER     FELONY  QUEENS   \n",
       "265084 2015-06-20  MURDER & NON-NEGL. MANSLAUGHTER     FELONY  QUEENS   \n",
       "254203 2015-06-28  MURDER & NON-NEGL. MANSLAUGHTER     FELONY  QUEENS   \n",
       "224157 2015-07-19  MURDER & NON-NEGL. MANSLAUGHTER     FELONY  QUEENS   \n",
       "199996 2015-08-05  MURDER & NON-NEGL. MANSLAUGHTER     FELONY  QUEENS   \n",
       "196654 2015-08-07  MURDER & NON-NEGL. MANSLAUGHTER     FELONY  QUEENS   \n",
       "183561 2015-08-16  MURDER & NON-NEGL. MANSLAUGHTER     FELONY  QUEENS   \n",
       "164522 2015-08-29  MURDER & NON-NEGL. MANSLAUGHTER     FELONY  QUEENS   \n",
       "162647 2015-08-30  MURDER & NON-NEGL. MANSLAUGHTER     FELONY  QUEENS   \n",
       "154111 2015-09-05  MURDER & NON-NEGL. MANSLAUGHTER     FELONY  QUEENS   \n",
       "147104 2015-09-10  MURDER & NON-NEGL. MANSLAUGHTER     FELONY  QUEENS   \n",
       "146247 2015-09-11  MURDER & NON-NEGL. MANSLAUGHTER     FELONY  QUEENS   \n",
       "114524 2015-10-04  MURDER & NON-NEGL. MANSLAUGHTER     FELONY  QUEENS   \n",
       "101942 2015-10-11  MURDER & NON-NEGL. MANSLAUGHTER     FELONY  QUEENS   \n",
       "96674  2015-10-17  MURDER & NON-NEGL. MANSLAUGHTER     FELONY  QUEENS   \n",
       "96879  2015-10-17  MURDER & NON-NEGL. MANSLAUGHTER     FELONY  QUEENS   \n",
       "78129  2015-10-31  MURDER & NON-NEGL. MANSLAUGHTER     FELONY  QUEENS   \n",
       "78128  2015-10-31  MURDER & NON-NEGL. MANSLAUGHTER     FELONY  QUEENS   \n",
       "58526  2015-11-15  MURDER & NON-NEGL. MANSLAUGHTER     FELONY  QUEENS   \n",
       "50428  2015-11-21  MURDER & NON-NEGL. MANSLAUGHTER     FELONY  QUEENS   \n",
       "6321   2015-12-26  MURDER & NON-NEGL. MANSLAUGHTER     FELONY  QUEENS   \n",
       "\n",
       "         Latitude  Longitude  Month  \n",
       "290425  40.695288 -73.814571      6  \n",
       "279044  40.700602 -73.854566      6  \n",
       "265084  40.769265 -73.933086      6  \n",
       "254203  40.672790 -73.773652      6  \n",
       "224157  40.722654 -73.840434      7  \n",
       "199996  40.715544 -73.747765      8  \n",
       "196654  40.701171 -73.835267      8  \n",
       "183561  40.704518 -73.771337      8  \n",
       "164522  40.772876 -73.930025      8  \n",
       "162647  40.595114 -73.759541      8  \n",
       "154111  40.750189 -73.890084      9  \n",
       "147104  40.778722 -73.812342      9  \n",
       "146247  40.598673 -73.757904      9  \n",
       "114524  40.679890 -73.820018     10  \n",
       "101942  40.748207 -73.820072     10  \n",
       "96674   40.698504 -73.791585     10  \n",
       "96879   40.703075 -73.807916     10  \n",
       "78129   40.661235 -73.741385     10  \n",
       "78128   40.661235 -73.741385     10  \n",
       "58526   40.709369 -73.898682     11  \n",
       "50428   40.742605 -73.915492     11  \n",
       "6321    40.697368 -73.791827     12  "
      ]
     },
     "execution_count": 86,
     "metadata": {},
     "output_type": "execute_result"
    }
   ],
   "source": [
    "queens_murders = secondhalf_murders[secondhalf_murders['BORO_NM'].str.contains('QUEENS')]\n",
    "queens_murders"
   ]
  },
  {
   "cell_type": "code",
   "execution_count": 87,
   "id": "367707e2",
   "metadata": {},
   "outputs": [
    {
     "data": {
      "text/html": [
       "<div>\n",
       "<style scoped>\n",
       "    .dataframe tbody tr th:only-of-type {\n",
       "        vertical-align: middle;\n",
       "    }\n",
       "\n",
       "    .dataframe tbody tr th {\n",
       "        vertical-align: top;\n",
       "    }\n",
       "\n",
       "    .dataframe thead th {\n",
       "        text-align: right;\n",
       "    }\n",
       "</style>\n",
       "<table border=\"1\" class=\"dataframe\">\n",
       "  <thead>\n",
       "    <tr style=\"text-align: right;\">\n",
       "      <th></th>\n",
       "      <th>RPT_DT</th>\n",
       "      <th>OFNS_DESC</th>\n",
       "      <th>LAW_CAT_CD</th>\n",
       "      <th>BORO_NM</th>\n",
       "      <th>Latitude</th>\n",
       "      <th>Longitude</th>\n",
       "      <th>Month</th>\n",
       "    </tr>\n",
       "  </thead>\n",
       "  <tbody>\n",
       "    <tr>\n",
       "      <th>290081</th>\n",
       "      <td>2015-06-02</td>\n",
       "      <td>MURDER &amp; NON-NEGL. MANSLAUGHTER</td>\n",
       "      <td>FELONY</td>\n",
       "      <td>BROOKLYN</td>\n",
       "      <td>40.683467</td>\n",
       "      <td>-73.948514</td>\n",
       "      <td>6</td>\n",
       "    </tr>\n",
       "    <tr>\n",
       "      <th>288363</th>\n",
       "      <td>2015-06-03</td>\n",
       "      <td>MURDER &amp; NON-NEGL. MANSLAUGHTER</td>\n",
       "      <td>FELONY</td>\n",
       "      <td>BROOKLYN</td>\n",
       "      <td>40.672296</td>\n",
       "      <td>-73.929406</td>\n",
       "      <td>6</td>\n",
       "    </tr>\n",
       "    <tr>\n",
       "      <th>281606</th>\n",
       "      <td>2015-06-08</td>\n",
       "      <td>MURDER &amp; NON-NEGL. MANSLAUGHTER</td>\n",
       "      <td>FELONY</td>\n",
       "      <td>BROOKLYN</td>\n",
       "      <td>40.647330</td>\n",
       "      <td>-73.897000</td>\n",
       "      <td>6</td>\n",
       "    </tr>\n",
       "    <tr>\n",
       "      <th>278846</th>\n",
       "      <td>2015-06-10</td>\n",
       "      <td>MURDER &amp; NON-NEGL. MANSLAUGHTER</td>\n",
       "      <td>FELONY</td>\n",
       "      <td>BROOKLYN</td>\n",
       "      <td>40.670167</td>\n",
       "      <td>-73.930994</td>\n",
       "      <td>6</td>\n",
       "    </tr>\n",
       "    <tr>\n",
       "      <th>278640</th>\n",
       "      <td>2015-06-10</td>\n",
       "      <td>MURDER &amp; NON-NEGL. MANSLAUGHTER</td>\n",
       "      <td>FELONY</td>\n",
       "      <td>BROOKLYN</td>\n",
       "      <td>40.668884</td>\n",
       "      <td>-73.932506</td>\n",
       "      <td>6</td>\n",
       "    </tr>\n",
       "    <tr>\n",
       "      <th>...</th>\n",
       "      <td>...</td>\n",
       "      <td>...</td>\n",
       "      <td>...</td>\n",
       "      <td>...</td>\n",
       "      <td>...</td>\n",
       "      <td>...</td>\n",
       "      <td>...</td>\n",
       "    </tr>\n",
       "    <tr>\n",
       "      <th>7331</th>\n",
       "      <td>2015-12-19</td>\n",
       "      <td>MURDER &amp; NON-NEGL. MANSLAUGHTER</td>\n",
       "      <td>FELONY</td>\n",
       "      <td>BROOKLYN</td>\n",
       "      <td>40.676052</td>\n",
       "      <td>-73.934611</td>\n",
       "      <td>12</td>\n",
       "    </tr>\n",
       "    <tr>\n",
       "      <th>7476</th>\n",
       "      <td>2015-12-19</td>\n",
       "      <td>MURDER &amp; NON-NEGL. MANSLAUGHTER</td>\n",
       "      <td>FELONY</td>\n",
       "      <td>BROOKLYN</td>\n",
       "      <td>40.678410</td>\n",
       "      <td>-73.926962</td>\n",
       "      <td>12</td>\n",
       "    </tr>\n",
       "    <tr>\n",
       "      <th>4855</th>\n",
       "      <td>2015-12-28</td>\n",
       "      <td>MURDER &amp; NON-NEGL. MANSLAUGHTER</td>\n",
       "      <td>FELONY</td>\n",
       "      <td>BROOKLYN</td>\n",
       "      <td>40.612714</td>\n",
       "      <td>-73.961391</td>\n",
       "      <td>12</td>\n",
       "    </tr>\n",
       "    <tr>\n",
       "      <th>3821</th>\n",
       "      <td>2015-12-28</td>\n",
       "      <td>MURDER &amp; NON-NEGL. MANSLAUGHTER</td>\n",
       "      <td>FELONY</td>\n",
       "      <td>BROOKLYN</td>\n",
       "      <td>40.595162</td>\n",
       "      <td>-73.937981</td>\n",
       "      <td>12</td>\n",
       "    </tr>\n",
       "    <tr>\n",
       "      <th>3820</th>\n",
       "      <td>2015-12-28</td>\n",
       "      <td>MURDER &amp; NON-NEGL. MANSLAUGHTER</td>\n",
       "      <td>FELONY</td>\n",
       "      <td>BROOKLYN</td>\n",
       "      <td>40.595162</td>\n",
       "      <td>-73.937981</td>\n",
       "      <td>12</td>\n",
       "    </tr>\n",
       "  </tbody>\n",
       "</table>\n",
       "<p>96 rows × 7 columns</p>\n",
       "</div>"
      ],
      "text/plain": [
       "           RPT_DT                        OFNS_DESC LAW_CAT_CD   BORO_NM  \\\n",
       "290081 2015-06-02  MURDER & NON-NEGL. MANSLAUGHTER     FELONY  BROOKLYN   \n",
       "288363 2015-06-03  MURDER & NON-NEGL. MANSLAUGHTER     FELONY  BROOKLYN   \n",
       "281606 2015-06-08  MURDER & NON-NEGL. MANSLAUGHTER     FELONY  BROOKLYN   \n",
       "278846 2015-06-10  MURDER & NON-NEGL. MANSLAUGHTER     FELONY  BROOKLYN   \n",
       "278640 2015-06-10  MURDER & NON-NEGL. MANSLAUGHTER     FELONY  BROOKLYN   \n",
       "...           ...                              ...        ...       ...   \n",
       "7331   2015-12-19  MURDER & NON-NEGL. MANSLAUGHTER     FELONY  BROOKLYN   \n",
       "7476   2015-12-19  MURDER & NON-NEGL. MANSLAUGHTER     FELONY  BROOKLYN   \n",
       "4855   2015-12-28  MURDER & NON-NEGL. MANSLAUGHTER     FELONY  BROOKLYN   \n",
       "3821   2015-12-28  MURDER & NON-NEGL. MANSLAUGHTER     FELONY  BROOKLYN   \n",
       "3820   2015-12-28  MURDER & NON-NEGL. MANSLAUGHTER     FELONY  BROOKLYN   \n",
       "\n",
       "         Latitude  Longitude  Month  \n",
       "290081  40.683467 -73.948514      6  \n",
       "288363  40.672296 -73.929406      6  \n",
       "281606  40.647330 -73.897000      6  \n",
       "278846  40.670167 -73.930994      6  \n",
       "278640  40.668884 -73.932506      6  \n",
       "...           ...        ...    ...  \n",
       "7331    40.676052 -73.934611     12  \n",
       "7476    40.678410 -73.926962     12  \n",
       "4855    40.612714 -73.961391     12  \n",
       "3821    40.595162 -73.937981     12  \n",
       "3820    40.595162 -73.937981     12  \n",
       "\n",
       "[96 rows x 7 columns]"
      ]
     },
     "execution_count": 87,
     "metadata": {},
     "output_type": "execute_result"
    }
   ],
   "source": [
    "brooklyn_murders = secondhalf_murders[secondhalf_murders['BORO_NM'].str.contains('BROOKLYN')]\n",
    "brooklyn_murders"
   ]
  },
  {
   "cell_type": "code",
   "execution_count": 88,
   "id": "6f051ba8",
   "metadata": {},
   "outputs": [
    {
     "data": {
      "text/html": [
       "<div>\n",
       "<style scoped>\n",
       "    .dataframe tbody tr th:only-of-type {\n",
       "        vertical-align: middle;\n",
       "    }\n",
       "\n",
       "    .dataframe tbody tr th {\n",
       "        vertical-align: top;\n",
       "    }\n",
       "\n",
       "    .dataframe thead th {\n",
       "        text-align: right;\n",
       "    }\n",
       "</style>\n",
       "<table border=\"1\" class=\"dataframe\">\n",
       "  <thead>\n",
       "    <tr style=\"text-align: right;\">\n",
       "      <th></th>\n",
       "      <th>RPT_DT</th>\n",
       "      <th>OFNS_DESC</th>\n",
       "      <th>LAW_CAT_CD</th>\n",
       "      <th>BORO_NM</th>\n",
       "      <th>Latitude</th>\n",
       "      <th>Longitude</th>\n",
       "      <th>Month</th>\n",
       "    </tr>\n",
       "  </thead>\n",
       "  <tbody>\n",
       "    <tr>\n",
       "      <th>224700</th>\n",
       "      <td>2015-07-19</td>\n",
       "      <td>MURDER &amp; NON-NEGL. MANSLAUGHTER</td>\n",
       "      <td>FELONY</td>\n",
       "      <td>STATEN ISLAND</td>\n",
       "      <td>40.615326</td>\n",
       "      <td>-74.099496</td>\n",
       "      <td>7</td>\n",
       "    </tr>\n",
       "    <tr>\n",
       "      <th>115185</th>\n",
       "      <td>2015-10-04</td>\n",
       "      <td>MURDER &amp; NON-NEGL. MANSLAUGHTER</td>\n",
       "      <td>FELONY</td>\n",
       "      <td>STATEN ISLAND</td>\n",
       "      <td>40.615423</td>\n",
       "      <td>-74.084350</td>\n",
       "      <td>10</td>\n",
       "    </tr>\n",
       "    <tr>\n",
       "      <th>115184</th>\n",
       "      <td>2015-10-04</td>\n",
       "      <td>MURDER &amp; NON-NEGL. MANSLAUGHTER</td>\n",
       "      <td>FELONY</td>\n",
       "      <td>STATEN ISLAND</td>\n",
       "      <td>40.615423</td>\n",
       "      <td>-74.084350</td>\n",
       "      <td>10</td>\n",
       "    </tr>\n",
       "    <tr>\n",
       "      <th>42318</th>\n",
       "      <td>2015-11-28</td>\n",
       "      <td>MURDER &amp; NON-NEGL. MANSLAUGHTER</td>\n",
       "      <td>FELONY</td>\n",
       "      <td>STATEN ISLAND</td>\n",
       "      <td>40.640984</td>\n",
       "      <td>-74.086927</td>\n",
       "      <td>11</td>\n",
       "    </tr>\n",
       "    <tr>\n",
       "      <th>27978</th>\n",
       "      <td>2015-12-09</td>\n",
       "      <td>MURDER &amp; NON-NEGL. MANSLAUGHTER</td>\n",
       "      <td>FELONY</td>\n",
       "      <td>STATEN ISLAND</td>\n",
       "      <td>40.539296</td>\n",
       "      <td>-74.220783</td>\n",
       "      <td>12</td>\n",
       "    </tr>\n",
       "    <tr>\n",
       "      <th>21232</th>\n",
       "      <td>2015-12-14</td>\n",
       "      <td>MURDER &amp; NON-NEGL. MANSLAUGHTER</td>\n",
       "      <td>FELONY</td>\n",
       "      <td>STATEN ISLAND</td>\n",
       "      <td>40.645015</td>\n",
       "      <td>-74.077210</td>\n",
       "      <td>12</td>\n",
       "    </tr>\n",
       "  </tbody>\n",
       "</table>\n",
       "</div>"
      ],
      "text/plain": [
       "           RPT_DT                        OFNS_DESC LAW_CAT_CD        BORO_NM  \\\n",
       "224700 2015-07-19  MURDER & NON-NEGL. MANSLAUGHTER     FELONY  STATEN ISLAND   \n",
       "115185 2015-10-04  MURDER & NON-NEGL. MANSLAUGHTER     FELONY  STATEN ISLAND   \n",
       "115184 2015-10-04  MURDER & NON-NEGL. MANSLAUGHTER     FELONY  STATEN ISLAND   \n",
       "42318  2015-11-28  MURDER & NON-NEGL. MANSLAUGHTER     FELONY  STATEN ISLAND   \n",
       "27978  2015-12-09  MURDER & NON-NEGL. MANSLAUGHTER     FELONY  STATEN ISLAND   \n",
       "21232  2015-12-14  MURDER & NON-NEGL. MANSLAUGHTER     FELONY  STATEN ISLAND   \n",
       "\n",
       "         Latitude  Longitude  Month  \n",
       "224700  40.615326 -74.099496      7  \n",
       "115185  40.615423 -74.084350     10  \n",
       "115184  40.615423 -74.084350     10  \n",
       "42318   40.640984 -74.086927     11  \n",
       "27978   40.539296 -74.220783     12  \n",
       "21232   40.645015 -74.077210     12  "
      ]
     },
     "execution_count": 88,
     "metadata": {},
     "output_type": "execute_result"
    }
   ],
   "source": [
    "staten_murders = secondhalf_murders[secondhalf_murders['BORO_NM'].str.contains('STATEN')]\n",
    "staten_murders"
   ]
  },
  {
   "cell_type": "code",
   "execution_count": null,
   "id": "e8cc31c1",
   "metadata": {},
   "outputs": [],
   "source": []
  }
 ],
 "metadata": {
  "kernelspec": {
   "display_name": "Python 3 (ipykernel)",
   "language": "python",
   "name": "python3"
  },
  "language_info": {
   "codemirror_mode": {
    "name": "ipython",
    "version": 3
   },
   "file_extension": ".py",
   "mimetype": "text/x-python",
   "name": "python",
   "nbconvert_exporter": "python",
   "pygments_lexer": "ipython3",
   "version": "3.9.7"
  },
  "vscode": {
   "interpreter": {
    "hash": "fa1c5bc318ffa87759a37cf287c5176fe5b890d4e91d328d205addbf5554b247"
   }
  }
 },
 "nbformat": 4,
 "nbformat_minor": 5
}
