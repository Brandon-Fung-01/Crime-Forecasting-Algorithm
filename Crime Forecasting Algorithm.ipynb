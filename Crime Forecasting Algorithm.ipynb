{
 "cells": [
  {
   "cell_type": "raw",
   "id": "8b55db84",
   "metadata": {},
   "source": [
    "# Import data"
   ]
  },
  {
   "cell_type": "code",
   "execution_count": 32,
   "id": "1860a8f6",
   "metadata": {},
   "outputs": [
    {
     "data": {
      "text/html": [
       "<div>\n",
       "<style scoped>\n",
       "    .dataframe tbody tr th:only-of-type {\n",
       "        vertical-align: middle;\n",
       "    }\n",
       "\n",
       "    .dataframe tbody tr th {\n",
       "        vertical-align: top;\n",
       "    }\n",
       "\n",
       "    .dataframe thead th {\n",
       "        text-align: right;\n",
       "    }\n",
       "</style>\n",
       "<table border=\"1\" class=\"dataframe\">\n",
       "  <thead>\n",
       "    <tr style=\"text-align: right;\">\n",
       "      <th></th>\n",
       "      <th>SepalLengthCm</th>\n",
       "      <th>SepalWidthCm</th>\n",
       "    </tr>\n",
       "  </thead>\n",
       "  <tbody>\n",
       "    <tr>\n",
       "      <th>0</th>\n",
       "      <td>5.1</td>\n",
       "      <td>3.5</td>\n",
       "    </tr>\n",
       "    <tr>\n",
       "      <th>1</th>\n",
       "      <td>4.9</td>\n",
       "      <td>3.0</td>\n",
       "    </tr>\n",
       "    <tr>\n",
       "      <th>2</th>\n",
       "      <td>4.7</td>\n",
       "      <td>3.2</td>\n",
       "    </tr>\n",
       "    <tr>\n",
       "      <th>3</th>\n",
       "      <td>4.6</td>\n",
       "      <td>3.1</td>\n",
       "    </tr>\n",
       "    <tr>\n",
       "      <th>4</th>\n",
       "      <td>5.0</td>\n",
       "      <td>3.6</td>\n",
       "    </tr>\n",
       "    <tr>\n",
       "      <th>...</th>\n",
       "      <td>...</td>\n",
       "      <td>...</td>\n",
       "    </tr>\n",
       "    <tr>\n",
       "      <th>145</th>\n",
       "      <td>6.7</td>\n",
       "      <td>3.0</td>\n",
       "    </tr>\n",
       "    <tr>\n",
       "      <th>146</th>\n",
       "      <td>6.3</td>\n",
       "      <td>2.5</td>\n",
       "    </tr>\n",
       "    <tr>\n",
       "      <th>147</th>\n",
       "      <td>6.5</td>\n",
       "      <td>3.0</td>\n",
       "    </tr>\n",
       "    <tr>\n",
       "      <th>148</th>\n",
       "      <td>6.2</td>\n",
       "      <td>3.4</td>\n",
       "    </tr>\n",
       "    <tr>\n",
       "      <th>149</th>\n",
       "      <td>5.9</td>\n",
       "      <td>3.0</td>\n",
       "    </tr>\n",
       "  </tbody>\n",
       "</table>\n",
       "<p>150 rows × 2 columns</p>\n",
       "</div>"
      ],
      "text/plain": [
       "     SepalLengthCm  SepalWidthCm\n",
       "0              5.1           3.5\n",
       "1              4.9           3.0\n",
       "2              4.7           3.2\n",
       "3              4.6           3.1\n",
       "4              5.0           3.6\n",
       "..             ...           ...\n",
       "145            6.7           3.0\n",
       "146            6.3           2.5\n",
       "147            6.5           3.0\n",
       "148            6.2           3.4\n",
       "149            5.9           3.0\n",
       "\n",
       "[150 rows x 2 columns]"
      ]
     },
     "execution_count": 32,
     "metadata": {},
     "output_type": "execute_result"
    }
   ],
   "source": [
    "import pandas as pd\n",
    "iris = pd.read_csv('Iris.csv')\n",
    "iris = iris.drop(columns=['Id', 'PetalLengthCm', 'PetalWidthCm', 'Species'])\n",
    "iris"
   ]
  },
  {
   "cell_type": "raw",
   "id": "d90162ab",
   "metadata": {},
   "source": [
    "# Plot data"
   ]
  },
  {
   "cell_type": "code",
   "execution_count": 33,
   "id": "58231b9c",
   "metadata": {},
   "outputs": [
    {
     "data": {
      "image/png": "[encoded data removed]",
      "text/plain": [
       "<Figure size 432x288 with 1 Axes>"
      ]
     },
     "metadata": {
      "needs_background": "light"
     },
     "output_type": "display_data"
    }
   ],
   "source": [
    "import matplotlib.pyplot as plt\n",
    "plt.scatter(iris.SepalLengthCm, iris.SepalWidthCm)\n",
    "plt.show()\n"
   ]
  },
  {
   "cell_type": "raw",
   "id": "b0e8f1a4",
   "metadata": {},
   "source": [
    "# Convert a list to a numpy array"
   ]
  },
  {
   "cell_type": "code",
   "execution_count": 34,
   "id": "ff62e967",
   "metadata": {},
   "outputs": [],
   "source": [
    "import numpy as np\n",
    "def dataset_to_numpy(dataset):\n",
    "    data = dataset.to_numpy()\n",
    "    return data"
   ]
  },
  {
   "cell_type": "code",
   "execution_count": 29,
   "id": "291a560b",
   "metadata": {
    "scrolled": false
   },
   "outputs": [
    {
     "data": {
      "text/plain": [
       "array([[5.1, 3.5],\n",
       "       [4.9, 3. ],\n",
       "       [4.7, 3.2],\n",
       "       [4.6, 3.1],\n",
       "       [5. , 3.6],\n",
       "       [5.4, 3.9],\n",
       "       [4.6, 3.4],\n",
       "       [5. , 3.4],\n",
       "       [4.4, 2.9],\n",
       "       [4.9, 3.1],\n",
       "       [5.4, 3.7],\n",
       "       [4.8, 3.4],\n",
       "       [4.8, 3. ],\n",
       "       [4.3, 3. ],\n",
       "       [5.8, 4. ],\n",
       "       [5.7, 4.4],\n",
       "       [5.4, 3.9],\n",
       "       [5.1, 3.5],\n",
       "       [5.7, 3.8],\n",
       "       [5.1, 3.8],\n",
       "       [5.4, 3.4],\n",
       "       [5.1, 3.7],\n",
       "       [4.6, 3.6],\n",
       "       [5.1, 3.3],\n",
       "       [4.8, 3.4],\n",
       "       [5. , 3. ],\n",
       "       [5. , 3.4],\n",
       "       [5.2, 3.5],\n",
       "       [5.2, 3.4],\n",
       "       [4.7, 3.2],\n",
       "       [4.8, 3.1],\n",
       "       [5.4, 3.4],\n",
       "       [5.2, 4.1],\n",
       "       [5.5, 4.2],\n",
       "       [4.9, 3.1],\n",
       "       [5. , 3.2],\n",
       "       [5.5, 3.5],\n",
       "       [4.9, 3.1],\n",
       "       [4.4, 3. ],\n",
       "       [5.1, 3.4],\n",
       "       [5. , 3.5],\n",
       "       [4.5, 2.3],\n",
       "       [4.4, 3.2],\n",
       "       [5. , 3.5],\n",
       "       [5.1, 3.8],\n",
       "       [4.8, 3. ],\n",
       "       [5.1, 3.8],\n",
       "       [4.6, 3.2],\n",
       "       [5.3, 3.7],\n",
       "       [5. , 3.3],\n",
       "       [7. , 3.2],\n",
       "       [6.4, 3.2],\n",
       "       [6.9, 3.1],\n",
       "       [5.5, 2.3],\n",
       "       [6.5, 2.8],\n",
       "       [5.7, 2.8],\n",
       "       [6.3, 3.3],\n",
       "       [4.9, 2.4],\n",
       "       [6.6, 2.9],\n",
       "       [5.2, 2.7],\n",
       "       [5. , 2. ],\n",
       "       [5.9, 3. ],\n",
       "       [6. , 2.2],\n",
       "       [6.1, 2.9],\n",
       "       [5.6, 2.9],\n",
       "       [6.7, 3.1],\n",
       "       [5.6, 3. ],\n",
       "       [5.8, 2.7],\n",
       "       [6.2, 2.2],\n",
       "       [5.6, 2.5],\n",
       "       [5.9, 3.2],\n",
       "       [6.1, 2.8],\n",
       "       [6.3, 2.5],\n",
       "       [6.1, 2.8],\n",
       "       [6.4, 2.9],\n",
       "       [6.6, 3. ],\n",
       "       [6.8, 2.8],\n",
       "       [6.7, 3. ],\n",
       "       [6. , 2.9],\n",
       "       [5.7, 2.6],\n",
       "       [5.5, 2.4],\n",
       "       [5.5, 2.4],\n",
       "       [5.8, 2.7],\n",
       "       [6. , 2.7],\n",
       "       [5.4, 3. ],\n",
       "       [6. , 3.4],\n",
       "       [6.7, 3.1],\n",
       "       [6.3, 2.3],\n",
       "       [5.6, 3. ],\n",
       "       [5.5, 2.5],\n",
       "       [5.5, 2.6],\n",
       "       [6.1, 3. ],\n",
       "       [5.8, 2.6],\n",
       "       [5. , 2.3],\n",
       "       [5.6, 2.7],\n",
       "       [5.7, 3. ],\n",
       "       [5.7, 2.9],\n",
       "       [6.2, 2.9],\n",
       "       [5.1, 2.5],\n",
       "       [5.7, 2.8],\n",
       "       [6.3, 3.3],\n",
       "       [5.8, 2.7],\n",
       "       [7.1, 3. ],\n",
       "       [6.3, 2.9],\n",
       "       [6.5, 3. ],\n",
       "       [7.6, 3. ],\n",
       "       [4.9, 2.5],\n",
       "       [7.3, 2.9],\n",
       "       [6.7, 2.5],\n",
       "       [7.2, 3.6],\n",
       "       [6.5, 3.2],\n",
       "       [6.4, 2.7],\n",
       "       [6.8, 3. ],\n",
       "       [5.7, 2.5],\n",
       "       [5.8, 2.8],\n",
       "       [6.4, 3.2],\n",
       "       [6.5, 3. ],\n",
       "       [7.7, 3.8],\n",
       "       [7.7, 2.6],\n",
       "       [6. , 2.2],\n",
       "       [6.9, 3.2],\n",
       "       [5.6, 2.8],\n",
       "       [7.7, 2.8],\n",
       "       [6.3, 2.7],\n",
       "       [6.7, 3.3],\n",
       "       [7.2, 3.2],\n",
       "       [6.2, 2.8],\n",
       "       [6.1, 3. ],\n",
       "       [6.4, 2.8],\n",
       "       [7.2, 3. ],\n",
       "       [7.4, 2.8],\n",
       "       [7.9, 3.8],\n",
       "       [6.4, 2.8],\n",
       "       [6.3, 2.8],\n",
       "       [6.1, 2.6],\n",
       "       [7.7, 3. ],\n",
       "       [6.3, 3.4],\n",
       "       [6.4, 3.1],\n",
       "       [6. , 3. ],\n",
       "       [6.9, 3.1],\n",
       "       [6.7, 3.1],\n",
       "       [6.9, 3.1],\n",
       "       [5.8, 2.7],\n",
       "       [6.8, 3.2],\n",
       "       [6.7, 3.3],\n",
       "       [6.7, 3. ],\n",
       "       [6.3, 2.5],\n",
       "       [6.5, 3. ],\n",
       "       [6.2, 3.4],\n",
       "       [5.9, 3. ]])"
      ]
     },
     "execution_count": 29,
     "metadata": {},
     "output_type": "execute_result"
    }
   ],
   "source": [
    "#TEST\n",
    "df = dataset_to_numpy(iris)\n",
    "df"
   ]
  },
  {
   "cell_type": "raw",
   "id": "e306c90a",
   "metadata": {},
   "source": [
    "# Return an array with the corresponding cluster that each datapoint belongs to by calculating the Euclidean distance between each respective datapoint and centroid(s) given and choosing the centroid with the smallest distance"
   ]
  },
  {
   "cell_type": "code",
   "execution_count": 52,
   "id": "3f8c46e1",
   "metadata": {},
   "outputs": [],
   "source": [
    "def get_clusters(dataset, centroids):\n",
    "    dataset = dataset_to_numpy(dataset)\n",
    "    distances = []\n",
    "    clusters = []\n",
    "    for datapoint in dataset:\n",
    "        for centroid in centroids:\n",
    "            distances.append(np.linalg.norm(datapoint-centroid))\n",
    "        clusters.append(centroids.index(centroids[distances.index(min(distances))]))\n",
    "        distances.clear()\n",
    "    return clusters  "
   ]
  },
  {
   "cell_type": "code",
   "execution_count": 53,
   "id": "17e78f2a",
   "metadata": {},
   "outputs": [
    {
     "name": "stdout",
     "output_type": "stream",
     "text": [
      "[3, 1, 1, 1, 3, 0, 1, 3, 1, 1, 0, 1, 1, 1, 0, 0, 0, 3, 0, 0, 0, 0, 1, 3, 1, 1, 3, 3, 3, 1, 1, 0, 0, 0, 1, 3, 0, 1, 1, 3, 3, 1, 1, 3, 0, 1, 0, 1, 0, 3, 2, 2, 2, 2, 2, 2, 2, 1, 2, 2, 2, 2, 2, 2, 2, 2, 2, 2, 2, 2, 2, 2, 2, 2, 2, 2, 2, 2, 2, 2, 2, 2, 2, 2, 2, 2, 2, 2, 2, 2, 2, 2, 2, 2, 2, 2, 2, 2, 2, 2, 2, 2, 2, 2, 2, 2, 1, 2, 2, 2, 2, 2, 2, 2, 2, 2, 2, 2, 2, 2, 2, 2, 2, 2, 2, 2, 2, 2, 2, 2, 2, 2, 2, 2, 2, 2, 2, 2, 2, 2, 2, 2, 2, 2, 2, 2, 2, 2, 2, 2]\n"
     ]
    }
   ],
   "source": [
    "#TEST\n",
    "clusters = get_clusters(iris, initial_centroids(iris, 4))\n",
    "print(clusters)"
   ]
  },
  {
   "cell_type": "raw",
   "id": "674064cd",
   "metadata": {},
   "source": [
    "# Return an array of k randomly generated points to serve as centroids"
   ]
  },
  {
   "cell_type": "code",
   "execution_count": 54,
   "id": "fd8b7496",
   "metadata": {},
   "outputs": [],
   "source": [
    "def initial_centroids(dataset, k):\n",
    "    dataset = dataset_to_numpy(dataset)\n",
    "    centroids = dataset[np.random.choice(dataset.shape[0], k, replace=False)]\n",
    "    centroids = centroids.tolist()\n",
    "    return centroids     "
   ]
  },
  {
   "cell_type": "code",
   "execution_count": 55,
   "id": "0b9d80e5",
   "metadata": {},
   "outputs": [
    {
     "data": {
      "text/plain": [
       "[[6.1, 2.9], [5.7, 4.4], [6.0, 3.4], [4.7, 3.2]]"
      ]
     },
     "execution_count": 55,
     "metadata": {},
     "output_type": "execute_result"
    }
   ],
   "source": [
    "#TEST\n",
    "centroids = initial_centroids(iris, 4)\n",
    "centroids"
   ]
  },
  {
   "cell_type": "raw",
   "id": "d10ff4b0",
   "metadata": {},
   "source": [
    "# Return an array of new centroids generated by calculating the average point between the old centroid(s) and \n",
    " corresponding datapoints within said cluster\n"
   ]
  },
  {
   "cell_type": "code",
   "execution_count": 56,
   "id": "06326d32",
   "metadata": {},
   "outputs": [],
   "source": [
    "def get_centroids(dataset, old_clusters, k):\n",
    "    dataset = dataset_to_numpy(dataset).tolist()\n",
    "    new_clusters = {}\n",
    "    new_centroids = []\n",
    "    for i in range(k):\n",
    "        new_clusters[i] = []\n",
    "    for i, cluster in enumerate(old_clusters):\n",
    "        new_clusters[cluster].append(dataset[i])\n",
    "    for i in range(k):\n",
    "        coordinate = []\n",
    "        sum_x = 0\n",
    "        sum_y = 0\n",
    "        for coord in new_clusters.get(i):\n",
    "            sum_x += coord[0]\n",
    "            sum_y += coord[1]\n",
    "        #edge case = len(new_clusters.get(i)) is 0\n",
    "        if(len(new_clusters.get(i))) != 0 :\n",
    "            coordinate.append(sum_x/len(new_clusters.get(i)))\n",
    "            coordinate.append(sum_y/len(new_clusters.get(i)))\n",
    "            new_centroids.append(coordinate)\n",
    "        else:\n",
    "            new_centroids.append([0,0])\n",
    "    return new_centroids"
   ]
  },
  {
   "cell_type": "code",
   "execution_count": 57,
   "id": "2567e16d",
   "metadata": {},
   "outputs": [
    {
     "data": {
      "text/plain": [
       "[[6.5583333333333345, 2.927777777777777],\n",
       " [5.007272727272727, 3.3327272727272734],\n",
       " [5.832608695652172, 2.7978260869565217],\n",
       " [7.4384615384615405, 3.1307692307692303]]"
      ]
     },
     "execution_count": 57,
     "metadata": {},
     "output_type": "execute_result"
    }
   ],
   "source": [
    "collect = get_centroids(iris, get_clusters(iris,initial_centroids(iris,4)), 4)\n",
    "collect"
   ]
  },
  {
   "cell_type": "raw",
   "id": "6f2d738d",
   "metadata": {},
   "source": [
    "# Compare whether or not the old clusters are the same as the new clusters"
   ]
  },
  {
   "cell_type": "code",
   "execution_count": 58,
   "id": "065d94b9",
   "metadata": {},
   "outputs": [],
   "source": [
    "def clusters_changed(old_clusters, new_clusters):\n",
    "    return old_clusters == new_clusters"
   ]
  },
  {
   "cell_type": "code",
   "execution_count": 59,
   "id": "7cc2ac42",
   "metadata": {},
   "outputs": [
    {
     "data": {
      "text/plain": [
       "False"
      ]
     },
     "execution_count": 59,
     "metadata": {},
     "output_type": "execute_result"
    }
   ],
   "source": [
    "old = get_clusters(iris, initial_centroids(iris,3))\n",
    "new = get_clusters(iris, get_centroids(iris, get_clusters(iris,initial_centroids(iris,4)), 4))\n",
    "clusters_changed(old, new)"
   ]
  },
  {
   "cell_type": "raw",
   "id": "8ac922bc",
   "metadata": {},
   "source": [
    "# Run the k means algorithm by continuosly forming new clusters until there is no change between the old\n",
    "clusters and new clusters"
   ]
  },
  {
   "cell_type": "code",
   "execution_count": 60,
   "id": "748e8471",
   "metadata": {},
   "outputs": [],
   "source": [
    "def k_means_algorithm(dataset, k):\n",
    "    dataset = dataset.iloc[:,[0,1]]\n",
    "    new_centroids = initial_centroids(dataset,k)\n",
    "    no_change = False\n",
    "    while not no_change:\n",
    "        old_centroids = new_centroids\n",
    "        clusters = get_clusters(dataset, old_centroids)\n",
    "        new_centroids = get_centroids(dataset, clusters, k)\n",
    "        no_change = clusters_changed(clusters, get_clusters(dataset, new_centroids))\n",
    "    new_dataset = dataset.copy(deep = True)\n",
    "    new_dataset.insert(2, \"Clusters\", get_clusters(dataset, new_centroids))\n",
    "    return new_dataset"
   ]
  },
  {
   "cell_type": "code",
   "execution_count": 61,
   "id": "31f8e0d2",
   "metadata": {},
   "outputs": [
    {
     "data": {
      "text/html": [
       "<div>\n",
       "<style scoped>\n",
       "    .dataframe tbody tr th:only-of-type {\n",
       "        vertical-align: middle;\n",
       "    }\n",
       "\n",
       "    .dataframe tbody tr th {\n",
       "        vertical-align: top;\n",
       "    }\n",
       "\n",
       "    .dataframe thead th {\n",
       "        text-align: right;\n",
       "    }\n",
       "</style>\n",
       "<table border=\"1\" class=\"dataframe\">\n",
       "  <thead>\n",
       "    <tr style=\"text-align: right;\">\n",
       "      <th></th>\n",
       "      <th>SepalLengthCm</th>\n",
       "      <th>SepalWidthCm</th>\n",
       "      <th>Clusters</th>\n",
       "    </tr>\n",
       "  </thead>\n",
       "  <tbody>\n",
       "    <tr>\n",
       "      <th>0</th>\n",
       "      <td>5.1</td>\n",
       "      <td>3.5</td>\n",
       "      <td>1</td>\n",
       "    </tr>\n",
       "    <tr>\n",
       "      <th>1</th>\n",
       "      <td>4.9</td>\n",
       "      <td>3.0</td>\n",
       "      <td>1</td>\n",
       "    </tr>\n",
       "    <tr>\n",
       "      <th>2</th>\n",
       "      <td>4.7</td>\n",
       "      <td>3.2</td>\n",
       "      <td>1</td>\n",
       "    </tr>\n",
       "    <tr>\n",
       "      <th>3</th>\n",
       "      <td>4.6</td>\n",
       "      <td>3.1</td>\n",
       "      <td>1</td>\n",
       "    </tr>\n",
       "    <tr>\n",
       "      <th>4</th>\n",
       "      <td>5.0</td>\n",
       "      <td>3.6</td>\n",
       "      <td>1</td>\n",
       "    </tr>\n",
       "    <tr>\n",
       "      <th>...</th>\n",
       "      <td>...</td>\n",
       "      <td>...</td>\n",
       "      <td>...</td>\n",
       "    </tr>\n",
       "    <tr>\n",
       "      <th>145</th>\n",
       "      <td>6.7</td>\n",
       "      <td>3.0</td>\n",
       "      <td>2</td>\n",
       "    </tr>\n",
       "    <tr>\n",
       "      <th>146</th>\n",
       "      <td>6.3</td>\n",
       "      <td>2.5</td>\n",
       "      <td>0</td>\n",
       "    </tr>\n",
       "    <tr>\n",
       "      <th>147</th>\n",
       "      <td>6.5</td>\n",
       "      <td>3.0</td>\n",
       "      <td>2</td>\n",
       "    </tr>\n",
       "    <tr>\n",
       "      <th>148</th>\n",
       "      <td>6.2</td>\n",
       "      <td>3.4</td>\n",
       "      <td>2</td>\n",
       "    </tr>\n",
       "    <tr>\n",
       "      <th>149</th>\n",
       "      <td>5.9</td>\n",
       "      <td>3.0</td>\n",
       "      <td>0</td>\n",
       "    </tr>\n",
       "  </tbody>\n",
       "</table>\n",
       "<p>150 rows × 3 columns</p>\n",
       "</div>"
      ],
      "text/plain": [
       "     SepalLengthCm  SepalWidthCm  Clusters\n",
       "0              5.1           3.5         1\n",
       "1              4.9           3.0         1\n",
       "2              4.7           3.2         1\n",
       "3              4.6           3.1         1\n",
       "4              5.0           3.6         1\n",
       "..             ...           ...       ...\n",
       "145            6.7           3.0         2\n",
       "146            6.3           2.5         0\n",
       "147            6.5           3.0         2\n",
       "148            6.2           3.4         2\n",
       "149            5.9           3.0         0\n",
       "\n",
       "[150 rows x 3 columns]"
      ]
     },
     "execution_count": 61,
     "metadata": {},
     "output_type": "execute_result"
    }
   ],
   "source": [
    "k_means_algorithm(iris, 3)"
   ]
  },
  {
   "cell_type": "code",
   "execution_count": 62,
   "id": "4e821de4",
   "metadata": {},
   "outputs": [
    {
     "data": {
      "text/plain": [
       "<matplotlib.collections.PathCollection at 0x26e5799a190>"
      ]
     },
     "execution_count": 62,
     "metadata": {},
     "output_type": "execute_result"
    },
    {
     "data": {
      "image/png": "[encoded data removed]",
      "text/plain": [
       "<Figure size 432x288 with 1 Axes>"
      ]
     },
     "metadata": {
      "needs_background": "light"
     },
     "output_type": "display_data"
    }
   ],
   "source": [
    "data = k_means_algorithm(iris,3)\n",
    "c1 = data[data.Clusters==0]\n",
    "c2 = data[data.Clusters==1]\n",
    "c3 = data[data.Clusters==2]\n",
    "plt.scatter(c1.SepalLengthCm, c1.SepalWidthCm, color = \"blue\")\n",
    "plt.scatter(c2.SepalLengthCm, c2.SepalWidthCm, color = \"green\")\n",
    "plt.scatter(c3.SepalLengthCm, c3.SepalWidthCm, color = \"black\")\n",
    "x, y = np.array((get_centroids(iris, data.Clusters, 3))).T\n",
    "plt.scatter(x,y, c = 'red')\n"
   ]
  },
  {
   "cell_type": "raw",
   "id": "b027d654",
   "metadata": {},
   "source": [
    "# Simple application of k-means clustering on crime data by cleaning data of crime in San Francisco to just location of \n",
    "burglaries"
   ]
  },
  {
   "cell_type": "code",
   "execution_count": 64,
   "id": "42bb9a69",
   "metadata": {},
   "outputs": [
    {
     "data": {
      "text/html": [
       "<div>\n",
       "<style scoped>\n",
       "    .dataframe tbody tr th:only-of-type {\n",
       "        vertical-align: middle;\n",
       "    }\n",
       "\n",
       "    .dataframe tbody tr th {\n",
       "        vertical-align: top;\n",
       "    }\n",
       "\n",
       "    .dataframe thead th {\n",
       "        text-align: right;\n",
       "    }\n",
       "</style>\n",
       "<table border=\"1\" class=\"dataframe\">\n",
       "  <thead>\n",
       "    <tr style=\"text-align: right;\">\n",
       "      <th></th>\n",
       "      <th>incident_latitude</th>\n",
       "      <th>incident_longitude</th>\n",
       "      <th>incident_source_original_type</th>\n",
       "    </tr>\n",
       "  </thead>\n",
       "  <tbody>\n",
       "    <tr>\n",
       "      <th>3</th>\n",
       "      <td>37.781160</td>\n",
       "      <td>-122.461063</td>\n",
       "      <td>Burglary - Commercial</td>\n",
       "    </tr>\n",
       "    <tr>\n",
       "      <th>10</th>\n",
       "      <td>37.793050</td>\n",
       "      <td>-122.422871</td>\n",
       "      <td>Burglary - Other</td>\n",
       "    </tr>\n",
       "    <tr>\n",
       "      <th>12</th>\n",
       "      <td>37.793050</td>\n",
       "      <td>-122.422871</td>\n",
       "      <td>Burglary - Other</td>\n",
       "    </tr>\n",
       "    <tr>\n",
       "      <th>22</th>\n",
       "      <td>37.779829</td>\n",
       "      <td>-122.402841</td>\n",
       "      <td>Burglary - Other</td>\n",
       "    </tr>\n",
       "    <tr>\n",
       "      <th>24</th>\n",
       "      <td>37.778946</td>\n",
       "      <td>-122.467354</td>\n",
       "      <td>Burglary - Residential</td>\n",
       "    </tr>\n",
       "    <tr>\n",
       "      <th>...</th>\n",
       "      <td>...</td>\n",
       "      <td>...</td>\n",
       "      <td>...</td>\n",
       "    </tr>\n",
       "    <tr>\n",
       "      <th>2198</th>\n",
       "      <td>37.775950</td>\n",
       "      <td>-122.422788</td>\n",
       "      <td>Burglary - Other</td>\n",
       "    </tr>\n",
       "    <tr>\n",
       "      <th>2217</th>\n",
       "      <td>37.739978</td>\n",
       "      <td>-122.437495</td>\n",
       "      <td>Burglary - Residential</td>\n",
       "    </tr>\n",
       "    <tr>\n",
       "      <th>2218</th>\n",
       "      <td>37.739978</td>\n",
       "      <td>-122.437495</td>\n",
       "      <td>Burglary - Residential</td>\n",
       "    </tr>\n",
       "    <tr>\n",
       "      <th>2231</th>\n",
       "      <td>37.764188</td>\n",
       "      <td>-122.446074</td>\n",
       "      <td>Burglary - Residential</td>\n",
       "    </tr>\n",
       "    <tr>\n",
       "      <th>2320</th>\n",
       "      <td>37.800624</td>\n",
       "      <td>-122.422713</td>\n",
       "      <td>Burglary - Other</td>\n",
       "    </tr>\n",
       "  </tbody>\n",
       "</table>\n",
       "<p>154 rows × 3 columns</p>\n",
       "</div>"
      ],
      "text/plain": [
       "      incident_latitude  incident_longitude incident_source_original_type\n",
       "3             37.781160         -122.461063         Burglary - Commercial\n",
       "10            37.793050         -122.422871              Burglary - Other\n",
       "12            37.793050         -122.422871              Burglary - Other\n",
       "22            37.779829         -122.402841              Burglary - Other\n",
       "24            37.778946         -122.467354        Burglary - Residential\n",
       "...                 ...                 ...                           ...\n",
       "2198          37.775950         -122.422788              Burglary - Other\n",
       "2217          37.739978         -122.437495        Burglary - Residential\n",
       "2218          37.739978         -122.437495        Burglary - Residential\n",
       "2231          37.764188         -122.446074        Burglary - Residential\n",
       "2320          37.800624         -122.422713              Burglary - Other\n",
       "\n",
       "[154 rows x 3 columns]"
      ]
     },
     "execution_count": 64,
     "metadata": {},
     "output_type": "execute_result"
    }
   ],
   "source": [
    "crime_map = pd.read_csv('Crime Data.csv')\n",
    "crime_map = crime_map.drop(columns=['city_key', 'incident_code', 'incident_date', 'incident_address', 'incident_offense_code', 'incident_offense', 'incident_offense_description', 'incident_offense_detail_description', 'incident_offense_action'])\n",
    "burglaries = crime_map[crime_map['incident_source_original_type'].str.contains('Burglary')]\n",
    "locations = burglaries.drop(columns=['city_name','incident_offense_crime_against'])\n",
    "locations\n"
   ]
  },
  {
   "cell_type": "raw",
   "id": "a4b0cc2f",
   "metadata": {},
   "source": [
    "# Plot the locations of burglaries in San Francisco and print the three centroids, or the three loctions where a \n",
    "burglary is likely to take place"
   ]
  },
  {
   "cell_type": "code",
   "execution_count": 65,
   "id": "141c1422",
   "metadata": {},
   "outputs": [
    {
     "name": "stdout",
     "output_type": "stream",
     "text": [
      "[[  37.73995103 -122.41353863]\n",
      " [  37.76323444 -122.46500588]\n",
      " [  37.78491904 -122.42255899]]\n"
     ]
    },
    {
     "data": {
      "image/png": "[encoded data removed]",
      "text/plain": [
       "<Figure size 432x288 with 1 Axes>"
      ]
     },
     "metadata": {
      "needs_background": "light"
     },
     "output_type": "display_data"
    }
   ],
   "source": [
    "data = k_means_algorithm(locations,3)\n",
    "c1 = data[data.Clusters==0]\n",
    "c2 = data[data.Clusters==1]\n",
    "c3 = data[data.Clusters==2]\n",
    "plt.scatter(c1.incident_latitude, c1.incident_longitude, color = \"blue\")\n",
    "plt.scatter(c2.incident_latitude, c2.incident_longitude, color = \"green\")\n",
    "plt.scatter(c3.incident_latitude, c3.incident_longitude, color = \"black\")\n",
    "x, y = np.array((get_centroids(locations, data.Clusters, 3))).T\n",
    "plt.scatter(x,y, c = 'red')\n",
    "print( np.array((get_centroids(locations, data.Clusters, 3))))"
   ]
  },
  {
   "cell_type": "code",
   "execution_count": null,
   "id": "401e1ac0",
   "metadata": {},
   "outputs": [],
   "source": []
  }
 ],
 "metadata": {
  "kernelspec": {
   "display_name": "Python 3 (ipykernel)",
   "language": "python",
   "name": "python3"
  },
  "language_info": {
   "codemirror_mode": {
    "name": "ipython",
    "version": 3
   },
   "file_extension": ".py",
   "mimetype": "text/x-python",
   "name": "python",
   "nbconvert_exporter": "python",
   "pygments_lexer": "ipython3",
   "version": "3.9.7"
  }
 },
 "nbformat": 4,
 "nbformat_minor": 5
}
